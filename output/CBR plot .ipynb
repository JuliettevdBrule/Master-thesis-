{
 "cells": [
  {
   "cell_type": "code",
   "execution_count": 16,
   "id": "91f10ff1",
   "metadata": {},
   "outputs": [],
   "source": [
    "import pandas as pd\n",
    "import numpy as np\n",
    "import plotly.express as px\n",
    "import plotly.graph_objects as go"
   ]
  },
  {
   "cell_type": "markdown",
   "id": "917b5257",
   "metadata": {},
   "source": [
    "# CBR plot 2100"
   ]
  },
  {
   "cell_type": "code",
   "execution_count": 17,
   "id": "5b7002d9",
   "metadata": {},
   "outputs": [
    {
     "data": {
      "text/html": [
       "<div>\n",
       "<style scoped>\n",
       "    .dataframe tbody tr th:only-of-type {\n",
       "        vertical-align: middle;\n",
       "    }\n",
       "\n",
       "    .dataframe tbody tr th {\n",
       "        vertical-align: top;\n",
       "    }\n",
       "\n",
       "    .dataframe thead th {\n",
       "        text-align: right;\n",
       "    }\n",
       "</style>\n",
       "<table border=\"1\" class=\"dataframe\">\n",
       "  <thead>\n",
       "    <tr style=\"text-align: right;\">\n",
       "      <th></th>\n",
       "      <th>IMAGE_region_num</th>\n",
       "    </tr>\n",
       "    <tr>\n",
       "      <th>Region</th>\n",
       "      <th></th>\n",
       "    </tr>\n",
       "  </thead>\n",
       "  <tbody>\n",
       "    <tr>\n",
       "      <th>CAN</th>\n",
       "      <td>0</td>\n",
       "    </tr>\n",
       "    <tr>\n",
       "      <th>USA</th>\n",
       "      <td>1</td>\n",
       "    </tr>\n",
       "    <tr>\n",
       "      <th>MEX</th>\n",
       "      <td>2</td>\n",
       "    </tr>\n",
       "    <tr>\n",
       "      <th>RCAM</th>\n",
       "      <td>3</td>\n",
       "    </tr>\n",
       "    <tr>\n",
       "      <th>BRA</th>\n",
       "      <td>4</td>\n",
       "    </tr>\n",
       "    <tr>\n",
       "      <th>RSAM</th>\n",
       "      <td>5</td>\n",
       "    </tr>\n",
       "    <tr>\n",
       "      <th>NAF</th>\n",
       "      <td>6</td>\n",
       "    </tr>\n",
       "    <tr>\n",
       "      <th>WAF</th>\n",
       "      <td>7</td>\n",
       "    </tr>\n",
       "    <tr>\n",
       "      <th>EAF</th>\n",
       "      <td>8</td>\n",
       "    </tr>\n",
       "    <tr>\n",
       "      <th>SAF</th>\n",
       "      <td>9</td>\n",
       "    </tr>\n",
       "    <tr>\n",
       "      <th>WEU</th>\n",
       "      <td>10</td>\n",
       "    </tr>\n",
       "    <tr>\n",
       "      <th>CEU</th>\n",
       "      <td>11</td>\n",
       "    </tr>\n",
       "    <tr>\n",
       "      <th>TUR</th>\n",
       "      <td>12</td>\n",
       "    </tr>\n",
       "    <tr>\n",
       "      <th>UKR</th>\n",
       "      <td>13</td>\n",
       "    </tr>\n",
       "    <tr>\n",
       "      <th>STAN</th>\n",
       "      <td>14</td>\n",
       "    </tr>\n",
       "    <tr>\n",
       "      <th>RUS</th>\n",
       "      <td>15</td>\n",
       "    </tr>\n",
       "    <tr>\n",
       "      <th>ME</th>\n",
       "      <td>16</td>\n",
       "    </tr>\n",
       "    <tr>\n",
       "      <th>INDIA</th>\n",
       "      <td>17</td>\n",
       "    </tr>\n",
       "    <tr>\n",
       "      <th>KOR</th>\n",
       "      <td>18</td>\n",
       "    </tr>\n",
       "    <tr>\n",
       "      <th>CHN</th>\n",
       "      <td>19</td>\n",
       "    </tr>\n",
       "    <tr>\n",
       "      <th>SEAS</th>\n",
       "      <td>20</td>\n",
       "    </tr>\n",
       "    <tr>\n",
       "      <th>INDO</th>\n",
       "      <td>21</td>\n",
       "    </tr>\n",
       "    <tr>\n",
       "      <th>JAP</th>\n",
       "      <td>22</td>\n",
       "    </tr>\n",
       "    <tr>\n",
       "      <th>OCE</th>\n",
       "      <td>23</td>\n",
       "    </tr>\n",
       "    <tr>\n",
       "      <th>RSAS</th>\n",
       "      <td>24</td>\n",
       "    </tr>\n",
       "    <tr>\n",
       "      <th>RSAF</th>\n",
       "      <td>25</td>\n",
       "    </tr>\n",
       "  </tbody>\n",
       "</table>\n",
       "</div>"
      ],
      "text/plain": [
       "        IMAGE_region_num\n",
       "Region                  \n",
       "CAN                    0\n",
       "USA                    1\n",
       "MEX                    2\n",
       "RCAM                   3\n",
       "BRA                    4\n",
       "RSAM                   5\n",
       "NAF                    6\n",
       "WAF                    7\n",
       "EAF                    8\n",
       "SAF                    9\n",
       "WEU                   10\n",
       "CEU                   11\n",
       "TUR                   12\n",
       "UKR                   13\n",
       "STAN                  14\n",
       "RUS                   15\n",
       "ME                    16\n",
       "INDIA                 17\n",
       "KOR                   18\n",
       "CHN                   19\n",
       "SEAS                  20\n",
       "INDO                  21\n",
       "JAP                   22\n",
       "OCE                   23\n",
       "RSAS                  24\n",
       "RSAF                  25"
      ]
     },
     "execution_count": 17,
     "metadata": {},
     "output_type": "execute_result"
    }
   ],
   "source": [
    "#data\n",
    "\n",
    "CBR_GF = pd.read_csv('CBR_GF.csv')\n",
    "CBR_IEPC = pd.read_csv('CBR_IEPC.csv')\n",
    "CBR_PCC = pd.read_csv('CBR_PCC.csv')\n",
    "CBR_AP = pd.read_csv('CBR_AP.csv')\n",
    "CBR_GDR = pd.read_csv('CBR_GDR.csv')\n",
    "\n",
    "CBR_mit = pd.read_csv('cbr_inequal_aversion.csv')\n",
    "\n",
    "\n",
    "Image_region =  pd.read_csv('Image_region.csv')\n",
    "Image_region = Image_region.set_index('Region').drop(columns={'Unnamed: 0'})\n",
    "\n",
    "Image_region"
   ]
  },
  {
   "cell_type": "code",
   "execution_count": 18,
   "id": "32f002bf",
   "metadata": {},
   "outputs": [],
   "source": [
    "\n",
    "CBR_GF = CBR_GF.drop(['Unnamed: 0'], axis =1).set_index('Region')\n",
    "CBR_GF = CBR_GF.join(Image_region)\n",
    "CBR_GF = CBR_GF.sort_values(by = 'IMAGE_region_num').drop(columns = ['IMAGE_region_num'], axis =1).reset_index()\n",
    "\n",
    "CBR_IEPC = CBR_IEPC.drop(['Unnamed: 0'], axis =1).set_index('Region')\n",
    "CBR_IEPC = CBR_IEPC.join(Image_region)\n",
    "CBR_IEPC = CBR_IEPC.sort_values(by = 'IMAGE_region_num').drop(columns = ['IMAGE_region_num'], axis =1).reset_index()\n",
    "\n",
    "CBR_PCC = CBR_PCC.drop(['Unnamed: 0'], axis =1).set_index('Region')\n",
    "CBR_PCC = CBR_PCC.join(Image_region)\n",
    "CBR_PCC = CBR_PCC.sort_values(by = 'IMAGE_region_num').drop(columns = ['IMAGE_region_num'], axis =1).reset_index()\n",
    "\n",
    "CBR_AP = CBR_AP.drop(['Unnamed: 0'], axis =1).set_index('Region')\n",
    "CBR_AP = CBR_AP.join(Image_region)\n",
    "CBR_AP = CBR_AP.sort_values(by = 'IMAGE_region_num').drop(columns = ['IMAGE_region_num'], axis =1).reset_index()\n",
    "\n",
    "CBR_GDR = CBR_GDR.drop(['Unnamed: 0'], axis =1).set_index('Region')\n",
    "CBR_GDR = CBR_GDR.join(Image_region)\n",
    "CBR_GDR = CBR_GDR.sort_values(by = 'IMAGE_region_num').drop(columns = ['IMAGE_region_num'], axis =1).reset_index()\n",
    "\n"
   ]
  },
  {
   "cell_type": "code",
   "execution_count": 19,
   "id": "c047d8ce",
   "metadata": {},
   "outputs": [],
   "source": [
    "CBR_mit = CBR_mit.drop(['Unnamed: 0'], axis =1)#.set_index('Region')\n",
    "CBR_mit[ \"Burden sharing regime\"] = 'none'"
   ]
  },
  {
   "cell_type": "code",
   "execution_count": 20,
   "id": "d582dc07",
   "metadata": {},
   "outputs": [
    {
     "data": {
      "text/html": [
       "<div>\n",
       "<style scoped>\n",
       "    .dataframe tbody tr th:only-of-type {\n",
       "        vertical-align: middle;\n",
       "    }\n",
       "\n",
       "    .dataframe tbody tr th {\n",
       "        vertical-align: top;\n",
       "    }\n",
       "\n",
       "    .dataframe thead th {\n",
       "        text-align: right;\n",
       "    }\n",
       "</style>\n",
       "<table border=\"1\" class=\"dataframe\">\n",
       "  <thead>\n",
       "    <tr style=\"text-align: right;\">\n",
       "      <th></th>\n",
       "      <th>Region</th>\n",
       "      <th>CBR</th>\n",
       "      <th>Burden sharing regime</th>\n",
       "    </tr>\n",
       "  </thead>\n",
       "  <tbody>\n",
       "    <tr>\n",
       "      <th>0</th>\n",
       "      <td>CAN</td>\n",
       "      <td>2.595211</td>\n",
       "      <td>GF</td>\n",
       "    </tr>\n",
       "    <tr>\n",
       "      <th>1</th>\n",
       "      <td>USA</td>\n",
       "      <td>2.121132</td>\n",
       "      <td>GF</td>\n",
       "    </tr>\n",
       "    <tr>\n",
       "      <th>2</th>\n",
       "      <td>MEX</td>\n",
       "      <td>3.662703</td>\n",
       "      <td>GF</td>\n",
       "    </tr>\n",
       "    <tr>\n",
       "      <th>3</th>\n",
       "      <td>RCAM</td>\n",
       "      <td>2.980107</td>\n",
       "      <td>GF</td>\n",
       "    </tr>\n",
       "    <tr>\n",
       "      <th>4</th>\n",
       "      <td>BRA</td>\n",
       "      <td>2.183031</td>\n",
       "      <td>GF</td>\n",
       "    </tr>\n",
       "    <tr>\n",
       "      <th>...</th>\n",
       "      <td>...</td>\n",
       "      <td>...</td>\n",
       "      <td>...</td>\n",
       "    </tr>\n",
       "    <tr>\n",
       "      <th>21</th>\n",
       "      <td>INDO</td>\n",
       "      <td>10.835224</td>\n",
       "      <td>none</td>\n",
       "    </tr>\n",
       "    <tr>\n",
       "      <th>22</th>\n",
       "      <td>JAP</td>\n",
       "      <td>6.426778</td>\n",
       "      <td>none</td>\n",
       "    </tr>\n",
       "    <tr>\n",
       "      <th>23</th>\n",
       "      <td>OCE</td>\n",
       "      <td>7.778978</td>\n",
       "      <td>none</td>\n",
       "    </tr>\n",
       "    <tr>\n",
       "      <th>24</th>\n",
       "      <td>RSAS</td>\n",
       "      <td>10.413125</td>\n",
       "      <td>none</td>\n",
       "    </tr>\n",
       "    <tr>\n",
       "      <th>25</th>\n",
       "      <td>RSAF</td>\n",
       "      <td>18.081169</td>\n",
       "      <td>none</td>\n",
       "    </tr>\n",
       "  </tbody>\n",
       "</table>\n",
       "<p>156 rows × 3 columns</p>\n",
       "</div>"
      ],
      "text/plain": [
       "   Region        CBR Burden sharing regime\n",
       "0     CAN   2.595211                    GF\n",
       "1     USA   2.121132                    GF\n",
       "2     MEX   3.662703                    GF\n",
       "3    RCAM   2.980107                    GF\n",
       "4     BRA   2.183031                    GF\n",
       "..    ...        ...                   ...\n",
       "21   INDO  10.835224                  none\n",
       "22    JAP   6.426778                  none\n",
       "23    OCE   7.778978                  none\n",
       "24   RSAS  10.413125                  none\n",
       "25   RSAF  18.081169                  none\n",
       "\n",
       "[156 rows x 3 columns]"
      ]
     },
     "execution_count": 20,
     "metadata": {},
     "output_type": "execute_result"
    }
   ],
   "source": [
    "CBR_GF [\"Burden sharing regime\"] = 'GF'\n",
    "CBR_IEPC [\"Burden sharing regime\"] = 'IEPC'\n",
    "CBR_PCC [\"Burden sharing regime\"] = 'PCC'\n",
    "CBR_AP [\"Burden sharing regime\"] = 'AP'\n",
    "CBR_GDR [\"Burden sharing regime\"] = 'GDR'\n",
    "\n",
    "\n",
    "frames = [CBR_GF, CBR_IEPC, CBR_PCC, CBR_AP, CBR_GDR, CBR_mit]\n",
    "CBRs = pd.concat(frames)\n",
    "CBRs.to_csv('CBRs.csv')\n",
    "CBRs"
   ]
  },
  {
   "cell_type": "code",
   "execution_count": 21,
   "id": "1ddb4c63",
   "metadata": {},
   "outputs": [
    {
     "data": {
      "application/vnd.plotly.v1+json": {
       "config": {
        "plotlyServerURL": "https://plot.ly"
       },
       "data": [
        {
         "hovertemplate": "Burden sharing regime=GF<br>Region=%{x}<br>CBR=%{y}<extra></extra>",
         "legendgroup": "GF",
         "marker": {
          "color": "#636efa",
          "symbol": "circle"
         },
         "mode": "markers",
         "name": "GF",
         "orientation": "v",
         "showlegend": true,
         "type": "scatter",
         "x": [
          "CAN",
          "USA",
          "MEX",
          "RCAM",
          "BRA",
          "RSAM",
          "NAF",
          "WAF",
          "EAF",
          "SAF",
          "WEU",
          "CEU",
          "TUR",
          "UKR",
          "STAN",
          "RUS",
          "ME",
          "INDIA",
          "KOR",
          "CHN",
          "SEAS",
          "INDO",
          "JAP",
          "OCE",
          "RSAS",
          "RSAF"
         ],
         "xaxis": "x",
         "y": [
          2.595210633398123,
          2.1211315099479098,
          3.662703265490167,
          2.9801068990338364,
          2.183030584692492,
          2.599441229147013,
          6.146542119851293,
          8.208612472770604,
          9.755028806034954,
          2.7862684576860017,
          2.1684491133496824,
          2.8207602289472957,
          1.3383391241059104,
          0.8431471747792559,
          0.9402148984001554,
          0.913846087893716,
          0.8562154553380615,
          5.789468909340046,
          3.061473752407926,
          1.3072624093601193,
          4.232936103956453,
          4.765445215567096,
          3.355373192314803,
          3.8719486173383055,
          3.909181045627837,
          5.67114308837237
         ],
         "yaxis": "y"
        },
        {
         "hovertemplate": "Burden sharing regime=IEPC<br>Region=%{x}<br>CBR=%{y}<extra></extra>",
         "legendgroup": "IEPC",
         "marker": {
          "color": "#EF553B",
          "symbol": "circle"
         },
         "mode": "markers",
         "name": "IEPC",
         "orientation": "v",
         "showlegend": true,
         "type": "scatter",
         "x": [
          "CAN",
          "USA",
          "MEX",
          "RCAM",
          "BRA",
          "RSAM",
          "NAF",
          "WAF",
          "EAF",
          "SAF",
          "WEU",
          "CEU",
          "TUR",
          "UKR",
          "STAN",
          "RUS",
          "ME",
          "INDIA",
          "KOR",
          "CHN",
          "SEAS",
          "INDO",
          "JAP",
          "OCE",
          "RSAS",
          "RSAF"
         ],
         "xaxis": "x",
         "y": [
          2.094092704408922,
          1.561252596579564,
          3.881590919908944,
          3.346033362916786,
          1.852735004968587,
          2.480709515687161,
          7.688852060956515,
          12.20431790758767,
          39.351629872315165,
          2.443405900332422,
          1.9171258103396471,
          2.4131076695655023,
          1.3588929688794575,
          0.7213544316698516,
          0.8466926527094742,
          0.7083405916469401,
          0.8337550478756804,
          7.547707852308803,
          2.151778719648803,
          0.9849153274440337,
          4.655385639852365,
          4.370429901675296,
          2.465836572264821,
          3.3054248464448714,
          6.574273508951864,
          6.966069735715773
         ],
         "yaxis": "y"
        },
        {
         "hovertemplate": "Burden sharing regime=PCC<br>Region=%{x}<br>CBR=%{y}<extra></extra>",
         "legendgroup": "PCC",
         "marker": {
          "color": "#00cc96",
          "symbol": "circle"
         },
         "mode": "markers",
         "name": "PCC",
         "orientation": "v",
         "showlegend": true,
         "type": "scatter",
         "x": [
          "CAN",
          "USA",
          "MEX",
          "RCAM",
          "BRA",
          "RSAM",
          "NAF",
          "WAF",
          "EAF",
          "SAF",
          "WEU",
          "CEU",
          "TUR",
          "UKR",
          "STAN",
          "RUS",
          "ME",
          "INDIA",
          "KOR",
          "CHN",
          "SEAS",
          "INDO",
          "JAP",
          "OCE",
          "RSAS",
          "RSAF"
         ],
         "xaxis": "x",
         "y": [
          2.163613234377203,
          1.6143172540873427,
          3.83097403554949,
          3.2836576981591423,
          1.845245194934416,
          2.4597357673951485,
          7.531565716374872,
          11.710848104149967,
          29.65668022893646,
          2.4745250066159667,
          1.942832713805787,
          2.432919132324205,
          1.3681779346441878,
          0.7346815629326303,
          0.8686301571853675,
          0.7381150392250664,
          0.846112991643636,
          7.27062114151136,
          2.234502084703507,
          1.0080841021021067,
          4.61191796132852,
          4.39681407315688,
          2.513604110185611,
          3.3614505958358296,
          6.048622902299301,
          6.907569088909519
         ],
         "yaxis": "y"
        },
        {
         "hovertemplate": "Burden sharing regime=AP<br>Region=%{x}<br>CBR=%{y}<extra></extra>",
         "legendgroup": "AP",
         "marker": {
          "color": "#ab63fa",
          "symbol": "circle"
         },
         "mode": "markers",
         "name": "AP",
         "orientation": "v",
         "showlegend": true,
         "type": "scatter",
         "x": [
          "CAN",
          "USA",
          "MEX",
          "RCAM",
          "BRA",
          "RSAM",
          "NAF",
          "WAF",
          "EAF",
          "SAF",
          "WEU",
          "CEU",
          "TUR",
          "UKR",
          "STAN",
          "RUS",
          "ME",
          "INDIA",
          "KOR",
          "CHN",
          "SEAS",
          "INDO",
          "JAP",
          "OCE",
          "RSAS",
          "RSAF"
         ],
         "xaxis": "x",
         "y": [
          2.049232766880676,
          1.5180583493542892,
          3.577149585703184,
          3.100307759176766,
          2.175745896582343,
          2.613631842137081,
          7.136185071771464,
          11.323488783622556,
          15.494133978577214,
          2.879838995054086,
          1.7491276539788492,
          2.3336693645106226,
          1.336319650831996,
          0.8540626195104453,
          0.9815971056114986,
          0.7964368453749512,
          0.9421267450858224,
          7.5828761900696,
          2.1898988968940305,
          0.97936725064047,
          4.952926088164818,
          4.731961526224589,
          2.394717521233178,
          3.2451357438421278,
          6.013797203228871,
          7.88044278100342
         ],
         "yaxis": "y"
        },
        {
         "hovertemplate": "Burden sharing regime=GDR<br>Region=%{x}<br>CBR=%{y}<extra></extra>",
         "legendgroup": "GDR",
         "marker": {
          "color": "#FFA15A",
          "symbol": "circle"
         },
         "mode": "markers",
         "name": "GDR",
         "orientation": "v",
         "showlegend": true,
         "type": "scatter",
         "x": [
          "CAN",
          "USA",
          "MEX",
          "RCAM",
          "BRA",
          "RSAM",
          "NAF",
          "WAF",
          "EAF",
          "SAF",
          "WEU",
          "CEU",
          "TUR",
          "UKR",
          "STAN",
          "RUS",
          "ME",
          "INDIA",
          "KOR",
          "CHN",
          "SEAS",
          "INDO",
          "JAP",
          "OCE",
          "RSAS",
          "RSAF"
         ],
         "xaxis": "x",
         "y": [
          1.4133031192979348,
          0.8896262911708291,
          3.773431738201555,
          3.930300099512297,
          2.7980047083052098,
          3.3984909063206823,
          9.282917736973356,
          15.835634056993523,
          20.418424533451237,
          3.3760756070475133,
          1.0272308304178606,
          1.9113613145522892,
          1.287002627205435,
          1.1308344340076557,
          1.197492732886687,
          0.8068212749587403,
          1.0450147044032403,
          10.84592768159338,
          3.8989213282164017,
          1.1498078402087524,
          6.38638498209444,
          7.029711360375232,
          1.228464494484531,
          2.213573162178586,
          8.133449679496177,
          11.038834049511353
         ],
         "yaxis": "y"
        },
        {
         "hovertemplate": "Burden sharing regime=none<br>Region=%{x}<br>CBR=%{y}<extra></extra>",
         "legendgroup": "none",
         "marker": {
          "color": "#19d3f3",
          "symbol": "circle"
         },
         "mode": "markers",
         "name": "none",
         "orientation": "v",
         "showlegend": true,
         "type": "scatter",
         "x": [
          "CAN",
          "USA",
          "MEX",
          "RCAM",
          "BRA",
          "RSAM",
          "NAF",
          "WAF",
          "EAF",
          "SAF",
          "WEU",
          "CEU",
          "TUR",
          "UKR",
          "STAN",
          "RUS",
          "ME",
          "INDIA",
          "KOR",
          "CHN",
          "SEAS",
          "INDO",
          "JAP",
          "OCE",
          "RSAS",
          "RSAF"
         ],
         "xaxis": "x",
         "y": [
          6.401254773032864,
          4.131010793560047,
          8.98910722321183,
          8.824437580788242,
          3.5134456918305434,
          4.879483347747442,
          21.258051707069004,
          17.727672913004024,
          24.86083600448791,
          6.314555452641444,
          5.808822898155034,
          6.938729142054874,
          3.7974634332363912,
          2.099919824689215,
          2.8566686693529237,
          2.495931302185159,
          2.3314083195924598,
          15.610746748870742,
          6.137112745512851,
          1.926612792738839,
          10.825511504107183,
          10.835224149470958,
          6.426777737966579,
          7.778978217960751,
          10.41312454172709,
          18.081169229858155
         ],
         "yaxis": "y"
        }
       ],
       "layout": {
        "legend": {
         "title": {
          "text": "Burden sharing regime"
         },
         "tracegroupgap": 0
        },
        "template": {
         "data": {
          "bar": [
           {
            "error_x": {
             "color": "#2a3f5f"
            },
            "error_y": {
             "color": "#2a3f5f"
            },
            "marker": {
             "line": {
              "color": "#E5ECF6",
              "width": 0.5
             },
             "pattern": {
              "fillmode": "overlay",
              "size": 10,
              "solidity": 0.2
             }
            },
            "type": "bar"
           }
          ],
          "barpolar": [
           {
            "marker": {
             "line": {
              "color": "#E5ECF6",
              "width": 0.5
             },
             "pattern": {
              "fillmode": "overlay",
              "size": 10,
              "solidity": 0.2
             }
            },
            "type": "barpolar"
           }
          ],
          "carpet": [
           {
            "aaxis": {
             "endlinecolor": "#2a3f5f",
             "gridcolor": "white",
             "linecolor": "white",
             "minorgridcolor": "white",
             "startlinecolor": "#2a3f5f"
            },
            "baxis": {
             "endlinecolor": "#2a3f5f",
             "gridcolor": "white",
             "linecolor": "white",
             "minorgridcolor": "white",
             "startlinecolor": "#2a3f5f"
            },
            "type": "carpet"
           }
          ],
          "choropleth": [
           {
            "colorbar": {
             "outlinewidth": 0,
             "ticks": ""
            },
            "type": "choropleth"
           }
          ],
          "contour": [
           {
            "colorbar": {
             "outlinewidth": 0,
             "ticks": ""
            },
            "colorscale": [
             [
              0,
              "#0d0887"
             ],
             [
              0.1111111111111111,
              "#46039f"
             ],
             [
              0.2222222222222222,
              "#7201a8"
             ],
             [
              0.3333333333333333,
              "#9c179e"
             ],
             [
              0.4444444444444444,
              "#bd3786"
             ],
             [
              0.5555555555555556,
              "#d8576b"
             ],
             [
              0.6666666666666666,
              "#ed7953"
             ],
             [
              0.7777777777777778,
              "#fb9f3a"
             ],
             [
              0.8888888888888888,
              "#fdca26"
             ],
             [
              1,
              "#f0f921"
             ]
            ],
            "type": "contour"
           }
          ],
          "contourcarpet": [
           {
            "colorbar": {
             "outlinewidth": 0,
             "ticks": ""
            },
            "type": "contourcarpet"
           }
          ],
          "heatmap": [
           {
            "colorbar": {
             "outlinewidth": 0,
             "ticks": ""
            },
            "colorscale": [
             [
              0,
              "#0d0887"
             ],
             [
              0.1111111111111111,
              "#46039f"
             ],
             [
              0.2222222222222222,
              "#7201a8"
             ],
             [
              0.3333333333333333,
              "#9c179e"
             ],
             [
              0.4444444444444444,
              "#bd3786"
             ],
             [
              0.5555555555555556,
              "#d8576b"
             ],
             [
              0.6666666666666666,
              "#ed7953"
             ],
             [
              0.7777777777777778,
              "#fb9f3a"
             ],
             [
              0.8888888888888888,
              "#fdca26"
             ],
             [
              1,
              "#f0f921"
             ]
            ],
            "type": "heatmap"
           }
          ],
          "heatmapgl": [
           {
            "colorbar": {
             "outlinewidth": 0,
             "ticks": ""
            },
            "colorscale": [
             [
              0,
              "#0d0887"
             ],
             [
              0.1111111111111111,
              "#46039f"
             ],
             [
              0.2222222222222222,
              "#7201a8"
             ],
             [
              0.3333333333333333,
              "#9c179e"
             ],
             [
              0.4444444444444444,
              "#bd3786"
             ],
             [
              0.5555555555555556,
              "#d8576b"
             ],
             [
              0.6666666666666666,
              "#ed7953"
             ],
             [
              0.7777777777777778,
              "#fb9f3a"
             ],
             [
              0.8888888888888888,
              "#fdca26"
             ],
             [
              1,
              "#f0f921"
             ]
            ],
            "type": "heatmapgl"
           }
          ],
          "histogram": [
           {
            "marker": {
             "pattern": {
              "fillmode": "overlay",
              "size": 10,
              "solidity": 0.2
             }
            },
            "type": "histogram"
           }
          ],
          "histogram2d": [
           {
            "colorbar": {
             "outlinewidth": 0,
             "ticks": ""
            },
            "colorscale": [
             [
              0,
              "#0d0887"
             ],
             [
              0.1111111111111111,
              "#46039f"
             ],
             [
              0.2222222222222222,
              "#7201a8"
             ],
             [
              0.3333333333333333,
              "#9c179e"
             ],
             [
              0.4444444444444444,
              "#bd3786"
             ],
             [
              0.5555555555555556,
              "#d8576b"
             ],
             [
              0.6666666666666666,
              "#ed7953"
             ],
             [
              0.7777777777777778,
              "#fb9f3a"
             ],
             [
              0.8888888888888888,
              "#fdca26"
             ],
             [
              1,
              "#f0f921"
             ]
            ],
            "type": "histogram2d"
           }
          ],
          "histogram2dcontour": [
           {
            "colorbar": {
             "outlinewidth": 0,
             "ticks": ""
            },
            "colorscale": [
             [
              0,
              "#0d0887"
             ],
             [
              0.1111111111111111,
              "#46039f"
             ],
             [
              0.2222222222222222,
              "#7201a8"
             ],
             [
              0.3333333333333333,
              "#9c179e"
             ],
             [
              0.4444444444444444,
              "#bd3786"
             ],
             [
              0.5555555555555556,
              "#d8576b"
             ],
             [
              0.6666666666666666,
              "#ed7953"
             ],
             [
              0.7777777777777778,
              "#fb9f3a"
             ],
             [
              0.8888888888888888,
              "#fdca26"
             ],
             [
              1,
              "#f0f921"
             ]
            ],
            "type": "histogram2dcontour"
           }
          ],
          "mesh3d": [
           {
            "colorbar": {
             "outlinewidth": 0,
             "ticks": ""
            },
            "type": "mesh3d"
           }
          ],
          "parcoords": [
           {
            "line": {
             "colorbar": {
              "outlinewidth": 0,
              "ticks": ""
             }
            },
            "type": "parcoords"
           }
          ],
          "pie": [
           {
            "automargin": true,
            "type": "pie"
           }
          ],
          "scatter": [
           {
            "fillpattern": {
             "fillmode": "overlay",
             "size": 10,
             "solidity": 0.2
            },
            "type": "scatter"
           }
          ],
          "scatter3d": [
           {
            "line": {
             "colorbar": {
              "outlinewidth": 0,
              "ticks": ""
             }
            },
            "marker": {
             "colorbar": {
              "outlinewidth": 0,
              "ticks": ""
             }
            },
            "type": "scatter3d"
           }
          ],
          "scattercarpet": [
           {
            "marker": {
             "colorbar": {
              "outlinewidth": 0,
              "ticks": ""
             }
            },
            "type": "scattercarpet"
           }
          ],
          "scattergeo": [
           {
            "marker": {
             "colorbar": {
              "outlinewidth": 0,
              "ticks": ""
             }
            },
            "type": "scattergeo"
           }
          ],
          "scattergl": [
           {
            "marker": {
             "colorbar": {
              "outlinewidth": 0,
              "ticks": ""
             }
            },
            "type": "scattergl"
           }
          ],
          "scattermapbox": [
           {
            "marker": {
             "colorbar": {
              "outlinewidth": 0,
              "ticks": ""
             }
            },
            "type": "scattermapbox"
           }
          ],
          "scatterpolar": [
           {
            "marker": {
             "colorbar": {
              "outlinewidth": 0,
              "ticks": ""
             }
            },
            "type": "scatterpolar"
           }
          ],
          "scatterpolargl": [
           {
            "marker": {
             "colorbar": {
              "outlinewidth": 0,
              "ticks": ""
             }
            },
            "type": "scatterpolargl"
           }
          ],
          "scatterternary": [
           {
            "marker": {
             "colorbar": {
              "outlinewidth": 0,
              "ticks": ""
             }
            },
            "type": "scatterternary"
           }
          ],
          "surface": [
           {
            "colorbar": {
             "outlinewidth": 0,
             "ticks": ""
            },
            "colorscale": [
             [
              0,
              "#0d0887"
             ],
             [
              0.1111111111111111,
              "#46039f"
             ],
             [
              0.2222222222222222,
              "#7201a8"
             ],
             [
              0.3333333333333333,
              "#9c179e"
             ],
             [
              0.4444444444444444,
              "#bd3786"
             ],
             [
              0.5555555555555556,
              "#d8576b"
             ],
             [
              0.6666666666666666,
              "#ed7953"
             ],
             [
              0.7777777777777778,
              "#fb9f3a"
             ],
             [
              0.8888888888888888,
              "#fdca26"
             ],
             [
              1,
              "#f0f921"
             ]
            ],
            "type": "surface"
           }
          ],
          "table": [
           {
            "cells": {
             "fill": {
              "color": "#EBF0F8"
             },
             "line": {
              "color": "white"
             }
            },
            "header": {
             "fill": {
              "color": "#C8D4E3"
             },
             "line": {
              "color": "white"
             }
            },
            "type": "table"
           }
          ]
         },
         "layout": {
          "annotationdefaults": {
           "arrowcolor": "#2a3f5f",
           "arrowhead": 0,
           "arrowwidth": 1
          },
          "autotypenumbers": "strict",
          "coloraxis": {
           "colorbar": {
            "outlinewidth": 0,
            "ticks": ""
           }
          },
          "colorscale": {
           "diverging": [
            [
             0,
             "#8e0152"
            ],
            [
             0.1,
             "#c51b7d"
            ],
            [
             0.2,
             "#de77ae"
            ],
            [
             0.3,
             "#f1b6da"
            ],
            [
             0.4,
             "#fde0ef"
            ],
            [
             0.5,
             "#f7f7f7"
            ],
            [
             0.6,
             "#e6f5d0"
            ],
            [
             0.7,
             "#b8e186"
            ],
            [
             0.8,
             "#7fbc41"
            ],
            [
             0.9,
             "#4d9221"
            ],
            [
             1,
             "#276419"
            ]
           ],
           "sequential": [
            [
             0,
             "#0d0887"
            ],
            [
             0.1111111111111111,
             "#46039f"
            ],
            [
             0.2222222222222222,
             "#7201a8"
            ],
            [
             0.3333333333333333,
             "#9c179e"
            ],
            [
             0.4444444444444444,
             "#bd3786"
            ],
            [
             0.5555555555555556,
             "#d8576b"
            ],
            [
             0.6666666666666666,
             "#ed7953"
            ],
            [
             0.7777777777777778,
             "#fb9f3a"
            ],
            [
             0.8888888888888888,
             "#fdca26"
            ],
            [
             1,
             "#f0f921"
            ]
           ],
           "sequentialminus": [
            [
             0,
             "#0d0887"
            ],
            [
             0.1111111111111111,
             "#46039f"
            ],
            [
             0.2222222222222222,
             "#7201a8"
            ],
            [
             0.3333333333333333,
             "#9c179e"
            ],
            [
             0.4444444444444444,
             "#bd3786"
            ],
            [
             0.5555555555555556,
             "#d8576b"
            ],
            [
             0.6666666666666666,
             "#ed7953"
            ],
            [
             0.7777777777777778,
             "#fb9f3a"
            ],
            [
             0.8888888888888888,
             "#fdca26"
            ],
            [
             1,
             "#f0f921"
            ]
           ]
          },
          "colorway": [
           "#636efa",
           "#EF553B",
           "#00cc96",
           "#ab63fa",
           "#FFA15A",
           "#19d3f3",
           "#FF6692",
           "#B6E880",
           "#FF97FF",
           "#FECB52"
          ],
          "font": {
           "color": "#2a3f5f"
          },
          "geo": {
           "bgcolor": "white",
           "lakecolor": "white",
           "landcolor": "#E5ECF6",
           "showlakes": true,
           "showland": true,
           "subunitcolor": "white"
          },
          "hoverlabel": {
           "align": "left"
          },
          "hovermode": "closest",
          "mapbox": {
           "style": "light"
          },
          "paper_bgcolor": "white",
          "plot_bgcolor": "#E5ECF6",
          "polar": {
           "angularaxis": {
            "gridcolor": "white",
            "linecolor": "white",
            "ticks": ""
           },
           "bgcolor": "#E5ECF6",
           "radialaxis": {
            "gridcolor": "white",
            "linecolor": "white",
            "ticks": ""
           }
          },
          "scene": {
           "xaxis": {
            "backgroundcolor": "#E5ECF6",
            "gridcolor": "white",
            "gridwidth": 2,
            "linecolor": "white",
            "showbackground": true,
            "ticks": "",
            "zerolinecolor": "white"
           },
           "yaxis": {
            "backgroundcolor": "#E5ECF6",
            "gridcolor": "white",
            "gridwidth": 2,
            "linecolor": "white",
            "showbackground": true,
            "ticks": "",
            "zerolinecolor": "white"
           },
           "zaxis": {
            "backgroundcolor": "#E5ECF6",
            "gridcolor": "white",
            "gridwidth": 2,
            "linecolor": "white",
            "showbackground": true,
            "ticks": "",
            "zerolinecolor": "white"
           }
          },
          "shapedefaults": {
           "line": {
            "color": "#2a3f5f"
           }
          },
          "ternary": {
           "aaxis": {
            "gridcolor": "white",
            "linecolor": "white",
            "ticks": ""
           },
           "baxis": {
            "gridcolor": "white",
            "linecolor": "white",
            "ticks": ""
           },
           "bgcolor": "#E5ECF6",
           "caxis": {
            "gridcolor": "white",
            "linecolor": "white",
            "ticks": ""
           }
          },
          "title": {
           "x": 0.05
          },
          "xaxis": {
           "automargin": true,
           "gridcolor": "white",
           "linecolor": "white",
           "ticks": "",
           "title": {
            "standoff": 15
           },
           "zerolinecolor": "white",
           "zerolinewidth": 2
          },
          "yaxis": {
           "automargin": true,
           "gridcolor": "white",
           "linecolor": "white",
           "ticks": "",
           "title": {
            "standoff": 15
           },
           "zerolinecolor": "white",
           "zerolinewidth": 2
          }
         }
        },
        "title": {
         "text": "Cost Benefit Ratio per region per burden sharing regime for 2020-2100"
        },
        "xaxis": {
         "anchor": "y",
         "domain": [
          0,
          1
         ],
         "title": {
          "text": "Region"
         }
        },
        "yaxis": {
         "anchor": "x",
         "domain": [
          0,
          1
         ],
         "title": {
          "text": "CBR"
         }
        }
       }
      },
      "text/html": [
       "<div>                            <div id=\"ea5978c4-8e2c-45fe-bc77-6632a48e0ca6\" class=\"plotly-graph-div\" style=\"height:525px; width:100%;\"></div>            <script type=\"text/javascript\">                require([\"plotly\"], function(Plotly) {                    window.PLOTLYENV=window.PLOTLYENV || {};                                    if (document.getElementById(\"ea5978c4-8e2c-45fe-bc77-6632a48e0ca6\")) {                    Plotly.newPlot(                        \"ea5978c4-8e2c-45fe-bc77-6632a48e0ca6\",                        [{\"hovertemplate\":\"Burden sharing regime=GF<br>Region=%{x}<br>CBR=%{y}<extra></extra>\",\"legendgroup\":\"GF\",\"marker\":{\"color\":\"#636efa\",\"symbol\":\"circle\"},\"mode\":\"markers\",\"name\":\"GF\",\"orientation\":\"v\",\"showlegend\":true,\"x\":[\"CAN\",\"USA\",\"MEX\",\"RCAM\",\"BRA\",\"RSAM\",\"NAF\",\"WAF\",\"EAF\",\"SAF\",\"WEU\",\"CEU\",\"TUR\",\"UKR\",\"STAN\",\"RUS\",\"ME\",\"INDIA\",\"KOR\",\"CHN\",\"SEAS\",\"INDO\",\"JAP\",\"OCE\",\"RSAS\",\"RSAF\"],\"xaxis\":\"x\",\"y\":[2.595210633398123,2.1211315099479098,3.662703265490167,2.9801068990338364,2.183030584692492,2.599441229147013,6.146542119851293,8.208612472770604,9.755028806034954,2.7862684576860017,2.1684491133496824,2.8207602289472957,1.3383391241059104,0.8431471747792559,0.9402148984001554,0.913846087893716,0.8562154553380615,5.789468909340046,3.061473752407926,1.3072624093601193,4.232936103956453,4.765445215567096,3.355373192314803,3.8719486173383055,3.909181045627837,5.67114308837237],\"yaxis\":\"y\",\"type\":\"scatter\"},{\"hovertemplate\":\"Burden sharing regime=IEPC<br>Region=%{x}<br>CBR=%{y}<extra></extra>\",\"legendgroup\":\"IEPC\",\"marker\":{\"color\":\"#EF553B\",\"symbol\":\"circle\"},\"mode\":\"markers\",\"name\":\"IEPC\",\"orientation\":\"v\",\"showlegend\":true,\"x\":[\"CAN\",\"USA\",\"MEX\",\"RCAM\",\"BRA\",\"RSAM\",\"NAF\",\"WAF\",\"EAF\",\"SAF\",\"WEU\",\"CEU\",\"TUR\",\"UKR\",\"STAN\",\"RUS\",\"ME\",\"INDIA\",\"KOR\",\"CHN\",\"SEAS\",\"INDO\",\"JAP\",\"OCE\",\"RSAS\",\"RSAF\"],\"xaxis\":\"x\",\"y\":[2.094092704408922,1.561252596579564,3.881590919908944,3.346033362916786,1.852735004968587,2.480709515687161,7.688852060956515,12.20431790758767,39.351629872315165,2.443405900332422,1.9171258103396471,2.4131076695655023,1.3588929688794575,0.7213544316698516,0.8466926527094742,0.7083405916469401,0.8337550478756804,7.547707852308803,2.151778719648803,0.9849153274440337,4.655385639852365,4.370429901675296,2.465836572264821,3.3054248464448714,6.574273508951864,6.966069735715773],\"yaxis\":\"y\",\"type\":\"scatter\"},{\"hovertemplate\":\"Burden sharing regime=PCC<br>Region=%{x}<br>CBR=%{y}<extra></extra>\",\"legendgroup\":\"PCC\",\"marker\":{\"color\":\"#00cc96\",\"symbol\":\"circle\"},\"mode\":\"markers\",\"name\":\"PCC\",\"orientation\":\"v\",\"showlegend\":true,\"x\":[\"CAN\",\"USA\",\"MEX\",\"RCAM\",\"BRA\",\"RSAM\",\"NAF\",\"WAF\",\"EAF\",\"SAF\",\"WEU\",\"CEU\",\"TUR\",\"UKR\",\"STAN\",\"RUS\",\"ME\",\"INDIA\",\"KOR\",\"CHN\",\"SEAS\",\"INDO\",\"JAP\",\"OCE\",\"RSAS\",\"RSAF\"],\"xaxis\":\"x\",\"y\":[2.163613234377203,1.6143172540873427,3.83097403554949,3.2836576981591423,1.845245194934416,2.4597357673951485,7.531565716374872,11.710848104149967,29.65668022893646,2.4745250066159667,1.942832713805787,2.432919132324205,1.3681779346441878,0.7346815629326303,0.8686301571853675,0.7381150392250664,0.846112991643636,7.27062114151136,2.234502084703507,1.0080841021021067,4.61191796132852,4.39681407315688,2.513604110185611,3.3614505958358296,6.048622902299301,6.907569088909519],\"yaxis\":\"y\",\"type\":\"scatter\"},{\"hovertemplate\":\"Burden sharing regime=AP<br>Region=%{x}<br>CBR=%{y}<extra></extra>\",\"legendgroup\":\"AP\",\"marker\":{\"color\":\"#ab63fa\",\"symbol\":\"circle\"},\"mode\":\"markers\",\"name\":\"AP\",\"orientation\":\"v\",\"showlegend\":true,\"x\":[\"CAN\",\"USA\",\"MEX\",\"RCAM\",\"BRA\",\"RSAM\",\"NAF\",\"WAF\",\"EAF\",\"SAF\",\"WEU\",\"CEU\",\"TUR\",\"UKR\",\"STAN\",\"RUS\",\"ME\",\"INDIA\",\"KOR\",\"CHN\",\"SEAS\",\"INDO\",\"JAP\",\"OCE\",\"RSAS\",\"RSAF\"],\"xaxis\":\"x\",\"y\":[2.049232766880676,1.5180583493542892,3.577149585703184,3.100307759176766,2.175745896582343,2.613631842137081,7.136185071771464,11.323488783622556,15.494133978577214,2.879838995054086,1.7491276539788492,2.3336693645106226,1.336319650831996,0.8540626195104453,0.9815971056114986,0.7964368453749512,0.9421267450858224,7.5828761900696,2.1898988968940305,0.97936725064047,4.952926088164818,4.731961526224589,2.394717521233178,3.2451357438421278,6.013797203228871,7.88044278100342],\"yaxis\":\"y\",\"type\":\"scatter\"},{\"hovertemplate\":\"Burden sharing regime=GDR<br>Region=%{x}<br>CBR=%{y}<extra></extra>\",\"legendgroup\":\"GDR\",\"marker\":{\"color\":\"#FFA15A\",\"symbol\":\"circle\"},\"mode\":\"markers\",\"name\":\"GDR\",\"orientation\":\"v\",\"showlegend\":true,\"x\":[\"CAN\",\"USA\",\"MEX\",\"RCAM\",\"BRA\",\"RSAM\",\"NAF\",\"WAF\",\"EAF\",\"SAF\",\"WEU\",\"CEU\",\"TUR\",\"UKR\",\"STAN\",\"RUS\",\"ME\",\"INDIA\",\"KOR\",\"CHN\",\"SEAS\",\"INDO\",\"JAP\",\"OCE\",\"RSAS\",\"RSAF\"],\"xaxis\":\"x\",\"y\":[1.4133031192979348,0.8896262911708291,3.773431738201555,3.930300099512297,2.7980047083052098,3.3984909063206823,9.282917736973356,15.835634056993523,20.418424533451237,3.3760756070475133,1.0272308304178606,1.9113613145522892,1.287002627205435,1.1308344340076557,1.197492732886687,0.8068212749587403,1.0450147044032403,10.84592768159338,3.8989213282164017,1.1498078402087524,6.38638498209444,7.029711360375232,1.228464494484531,2.213573162178586,8.133449679496177,11.038834049511353],\"yaxis\":\"y\",\"type\":\"scatter\"},{\"hovertemplate\":\"Burden sharing regime=none<br>Region=%{x}<br>CBR=%{y}<extra></extra>\",\"legendgroup\":\"none\",\"marker\":{\"color\":\"#19d3f3\",\"symbol\":\"circle\"},\"mode\":\"markers\",\"name\":\"none\",\"orientation\":\"v\",\"showlegend\":true,\"x\":[\"CAN\",\"USA\",\"MEX\",\"RCAM\",\"BRA\",\"RSAM\",\"NAF\",\"WAF\",\"EAF\",\"SAF\",\"WEU\",\"CEU\",\"TUR\",\"UKR\",\"STAN\",\"RUS\",\"ME\",\"INDIA\",\"KOR\",\"CHN\",\"SEAS\",\"INDO\",\"JAP\",\"OCE\",\"RSAS\",\"RSAF\"],\"xaxis\":\"x\",\"y\":[6.401254773032864,4.131010793560047,8.98910722321183,8.824437580788242,3.5134456918305434,4.879483347747442,21.258051707069004,17.727672913004024,24.86083600448791,6.314555452641444,5.808822898155034,6.938729142054874,3.7974634332363912,2.099919824689215,2.8566686693529237,2.495931302185159,2.3314083195924598,15.610746748870742,6.137112745512851,1.926612792738839,10.825511504107183,10.835224149470958,6.426777737966579,7.778978217960751,10.41312454172709,18.081169229858155],\"yaxis\":\"y\",\"type\":\"scatter\"}],                        {\"template\":{\"data\":{\"histogram2dcontour\":[{\"type\":\"histogram2dcontour\",\"colorbar\":{\"outlinewidth\":0,\"ticks\":\"\"},\"colorscale\":[[0.0,\"#0d0887\"],[0.1111111111111111,\"#46039f\"],[0.2222222222222222,\"#7201a8\"],[0.3333333333333333,\"#9c179e\"],[0.4444444444444444,\"#bd3786\"],[0.5555555555555556,\"#d8576b\"],[0.6666666666666666,\"#ed7953\"],[0.7777777777777778,\"#fb9f3a\"],[0.8888888888888888,\"#fdca26\"],[1.0,\"#f0f921\"]]}],\"choropleth\":[{\"type\":\"choropleth\",\"colorbar\":{\"outlinewidth\":0,\"ticks\":\"\"}}],\"histogram2d\":[{\"type\":\"histogram2d\",\"colorbar\":{\"outlinewidth\":0,\"ticks\":\"\"},\"colorscale\":[[0.0,\"#0d0887\"],[0.1111111111111111,\"#46039f\"],[0.2222222222222222,\"#7201a8\"],[0.3333333333333333,\"#9c179e\"],[0.4444444444444444,\"#bd3786\"],[0.5555555555555556,\"#d8576b\"],[0.6666666666666666,\"#ed7953\"],[0.7777777777777778,\"#fb9f3a\"],[0.8888888888888888,\"#fdca26\"],[1.0,\"#f0f921\"]]}],\"heatmap\":[{\"type\":\"heatmap\",\"colorbar\":{\"outlinewidth\":0,\"ticks\":\"\"},\"colorscale\":[[0.0,\"#0d0887\"],[0.1111111111111111,\"#46039f\"],[0.2222222222222222,\"#7201a8\"],[0.3333333333333333,\"#9c179e\"],[0.4444444444444444,\"#bd3786\"],[0.5555555555555556,\"#d8576b\"],[0.6666666666666666,\"#ed7953\"],[0.7777777777777778,\"#fb9f3a\"],[0.8888888888888888,\"#fdca26\"],[1.0,\"#f0f921\"]]}],\"heatmapgl\":[{\"type\":\"heatmapgl\",\"colorbar\":{\"outlinewidth\":0,\"ticks\":\"\"},\"colorscale\":[[0.0,\"#0d0887\"],[0.1111111111111111,\"#46039f\"],[0.2222222222222222,\"#7201a8\"],[0.3333333333333333,\"#9c179e\"],[0.4444444444444444,\"#bd3786\"],[0.5555555555555556,\"#d8576b\"],[0.6666666666666666,\"#ed7953\"],[0.7777777777777778,\"#fb9f3a\"],[0.8888888888888888,\"#fdca26\"],[1.0,\"#f0f921\"]]}],\"contourcarpet\":[{\"type\":\"contourcarpet\",\"colorbar\":{\"outlinewidth\":0,\"ticks\":\"\"}}],\"contour\":[{\"type\":\"contour\",\"colorbar\":{\"outlinewidth\":0,\"ticks\":\"\"},\"colorscale\":[[0.0,\"#0d0887\"],[0.1111111111111111,\"#46039f\"],[0.2222222222222222,\"#7201a8\"],[0.3333333333333333,\"#9c179e\"],[0.4444444444444444,\"#bd3786\"],[0.5555555555555556,\"#d8576b\"],[0.6666666666666666,\"#ed7953\"],[0.7777777777777778,\"#fb9f3a\"],[0.8888888888888888,\"#fdca26\"],[1.0,\"#f0f921\"]]}],\"surface\":[{\"type\":\"surface\",\"colorbar\":{\"outlinewidth\":0,\"ticks\":\"\"},\"colorscale\":[[0.0,\"#0d0887\"],[0.1111111111111111,\"#46039f\"],[0.2222222222222222,\"#7201a8\"],[0.3333333333333333,\"#9c179e\"],[0.4444444444444444,\"#bd3786\"],[0.5555555555555556,\"#d8576b\"],[0.6666666666666666,\"#ed7953\"],[0.7777777777777778,\"#fb9f3a\"],[0.8888888888888888,\"#fdca26\"],[1.0,\"#f0f921\"]]}],\"mesh3d\":[{\"type\":\"mesh3d\",\"colorbar\":{\"outlinewidth\":0,\"ticks\":\"\"}}],\"scatter\":[{\"fillpattern\":{\"fillmode\":\"overlay\",\"size\":10,\"solidity\":0.2},\"type\":\"scatter\"}],\"parcoords\":[{\"type\":\"parcoords\",\"line\":{\"colorbar\":{\"outlinewidth\":0,\"ticks\":\"\"}}}],\"scatterpolargl\":[{\"type\":\"scatterpolargl\",\"marker\":{\"colorbar\":{\"outlinewidth\":0,\"ticks\":\"\"}}}],\"bar\":[{\"error_x\":{\"color\":\"#2a3f5f\"},\"error_y\":{\"color\":\"#2a3f5f\"},\"marker\":{\"line\":{\"color\":\"#E5ECF6\",\"width\":0.5},\"pattern\":{\"fillmode\":\"overlay\",\"size\":10,\"solidity\":0.2}},\"type\":\"bar\"}],\"scattergeo\":[{\"type\":\"scattergeo\",\"marker\":{\"colorbar\":{\"outlinewidth\":0,\"ticks\":\"\"}}}],\"scatterpolar\":[{\"type\":\"scatterpolar\",\"marker\":{\"colorbar\":{\"outlinewidth\":0,\"ticks\":\"\"}}}],\"histogram\":[{\"marker\":{\"pattern\":{\"fillmode\":\"overlay\",\"size\":10,\"solidity\":0.2}},\"type\":\"histogram\"}],\"scattergl\":[{\"type\":\"scattergl\",\"marker\":{\"colorbar\":{\"outlinewidth\":0,\"ticks\":\"\"}}}],\"scatter3d\":[{\"type\":\"scatter3d\",\"line\":{\"colorbar\":{\"outlinewidth\":0,\"ticks\":\"\"}},\"marker\":{\"colorbar\":{\"outlinewidth\":0,\"ticks\":\"\"}}}],\"scattermapbox\":[{\"type\":\"scattermapbox\",\"marker\":{\"colorbar\":{\"outlinewidth\":0,\"ticks\":\"\"}}}],\"scatterternary\":[{\"type\":\"scatterternary\",\"marker\":{\"colorbar\":{\"outlinewidth\":0,\"ticks\":\"\"}}}],\"scattercarpet\":[{\"type\":\"scattercarpet\",\"marker\":{\"colorbar\":{\"outlinewidth\":0,\"ticks\":\"\"}}}],\"carpet\":[{\"aaxis\":{\"endlinecolor\":\"#2a3f5f\",\"gridcolor\":\"white\",\"linecolor\":\"white\",\"minorgridcolor\":\"white\",\"startlinecolor\":\"#2a3f5f\"},\"baxis\":{\"endlinecolor\":\"#2a3f5f\",\"gridcolor\":\"white\",\"linecolor\":\"white\",\"minorgridcolor\":\"white\",\"startlinecolor\":\"#2a3f5f\"},\"type\":\"carpet\"}],\"table\":[{\"cells\":{\"fill\":{\"color\":\"#EBF0F8\"},\"line\":{\"color\":\"white\"}},\"header\":{\"fill\":{\"color\":\"#C8D4E3\"},\"line\":{\"color\":\"white\"}},\"type\":\"table\"}],\"barpolar\":[{\"marker\":{\"line\":{\"color\":\"#E5ECF6\",\"width\":0.5},\"pattern\":{\"fillmode\":\"overlay\",\"size\":10,\"solidity\":0.2}},\"type\":\"barpolar\"}],\"pie\":[{\"automargin\":true,\"type\":\"pie\"}]},\"layout\":{\"autotypenumbers\":\"strict\",\"colorway\":[\"#636efa\",\"#EF553B\",\"#00cc96\",\"#ab63fa\",\"#FFA15A\",\"#19d3f3\",\"#FF6692\",\"#B6E880\",\"#FF97FF\",\"#FECB52\"],\"font\":{\"color\":\"#2a3f5f\"},\"hovermode\":\"closest\",\"hoverlabel\":{\"align\":\"left\"},\"paper_bgcolor\":\"white\",\"plot_bgcolor\":\"#E5ECF6\",\"polar\":{\"bgcolor\":\"#E5ECF6\",\"angularaxis\":{\"gridcolor\":\"white\",\"linecolor\":\"white\",\"ticks\":\"\"},\"radialaxis\":{\"gridcolor\":\"white\",\"linecolor\":\"white\",\"ticks\":\"\"}},\"ternary\":{\"bgcolor\":\"#E5ECF6\",\"aaxis\":{\"gridcolor\":\"white\",\"linecolor\":\"white\",\"ticks\":\"\"},\"baxis\":{\"gridcolor\":\"white\",\"linecolor\":\"white\",\"ticks\":\"\"},\"caxis\":{\"gridcolor\":\"white\",\"linecolor\":\"white\",\"ticks\":\"\"}},\"coloraxis\":{\"colorbar\":{\"outlinewidth\":0,\"ticks\":\"\"}},\"colorscale\":{\"sequential\":[[0.0,\"#0d0887\"],[0.1111111111111111,\"#46039f\"],[0.2222222222222222,\"#7201a8\"],[0.3333333333333333,\"#9c179e\"],[0.4444444444444444,\"#bd3786\"],[0.5555555555555556,\"#d8576b\"],[0.6666666666666666,\"#ed7953\"],[0.7777777777777778,\"#fb9f3a\"],[0.8888888888888888,\"#fdca26\"],[1.0,\"#f0f921\"]],\"sequentialminus\":[[0.0,\"#0d0887\"],[0.1111111111111111,\"#46039f\"],[0.2222222222222222,\"#7201a8\"],[0.3333333333333333,\"#9c179e\"],[0.4444444444444444,\"#bd3786\"],[0.5555555555555556,\"#d8576b\"],[0.6666666666666666,\"#ed7953\"],[0.7777777777777778,\"#fb9f3a\"],[0.8888888888888888,\"#fdca26\"],[1.0,\"#f0f921\"]],\"diverging\":[[0,\"#8e0152\"],[0.1,\"#c51b7d\"],[0.2,\"#de77ae\"],[0.3,\"#f1b6da\"],[0.4,\"#fde0ef\"],[0.5,\"#f7f7f7\"],[0.6,\"#e6f5d0\"],[0.7,\"#b8e186\"],[0.8,\"#7fbc41\"],[0.9,\"#4d9221\"],[1,\"#276419\"]]},\"xaxis\":{\"gridcolor\":\"white\",\"linecolor\":\"white\",\"ticks\":\"\",\"title\":{\"standoff\":15},\"zerolinecolor\":\"white\",\"automargin\":true,\"zerolinewidth\":2},\"yaxis\":{\"gridcolor\":\"white\",\"linecolor\":\"white\",\"ticks\":\"\",\"title\":{\"standoff\":15},\"zerolinecolor\":\"white\",\"automargin\":true,\"zerolinewidth\":2},\"scene\":{\"xaxis\":{\"backgroundcolor\":\"#E5ECF6\",\"gridcolor\":\"white\",\"linecolor\":\"white\",\"showbackground\":true,\"ticks\":\"\",\"zerolinecolor\":\"white\",\"gridwidth\":2},\"yaxis\":{\"backgroundcolor\":\"#E5ECF6\",\"gridcolor\":\"white\",\"linecolor\":\"white\",\"showbackground\":true,\"ticks\":\"\",\"zerolinecolor\":\"white\",\"gridwidth\":2},\"zaxis\":{\"backgroundcolor\":\"#E5ECF6\",\"gridcolor\":\"white\",\"linecolor\":\"white\",\"showbackground\":true,\"ticks\":\"\",\"zerolinecolor\":\"white\",\"gridwidth\":2}},\"shapedefaults\":{\"line\":{\"color\":\"#2a3f5f\"}},\"annotationdefaults\":{\"arrowcolor\":\"#2a3f5f\",\"arrowhead\":0,\"arrowwidth\":1},\"geo\":{\"bgcolor\":\"white\",\"landcolor\":\"#E5ECF6\",\"subunitcolor\":\"white\",\"showland\":true,\"showlakes\":true,\"lakecolor\":\"white\"},\"title\":{\"x\":0.05},\"mapbox\":{\"style\":\"light\"}}},\"xaxis\":{\"anchor\":\"y\",\"domain\":[0.0,1.0],\"title\":{\"text\":\"Region\"}},\"yaxis\":{\"anchor\":\"x\",\"domain\":[0.0,1.0],\"title\":{\"text\":\"CBR\"}},\"legend\":{\"title\":{\"text\":\"Burden sharing regime\"},\"tracegroupgap\":0},\"title\":{\"text\":\"Cost Benefit Ratio per region per burden sharing regime for 2020-2100\"}},                        {\"responsive\": true}                    ).then(function(){\n",
       "                            \n",
       "var gd = document.getElementById('ea5978c4-8e2c-45fe-bc77-6632a48e0ca6');\n",
       "var x = new MutationObserver(function (mutations, observer) {{\n",
       "        var display = window.getComputedStyle(gd).display;\n",
       "        if (!display || display === 'none') {{\n",
       "            console.log([gd, 'removed!']);\n",
       "            Plotly.purge(gd);\n",
       "            observer.disconnect();\n",
       "        }}\n",
       "}});\n",
       "\n",
       "// Listen for the removal of the full notebook cells\n",
       "var notebookContainer = gd.closest('#notebook-container');\n",
       "if (notebookContainer) {{\n",
       "    x.observe(notebookContainer, {childList: true});\n",
       "}}\n",
       "\n",
       "// Listen for the clearing of the current output cell\n",
       "var outputEl = gd.closest('.output');\n",
       "if (outputEl) {{\n",
       "    x.observe(outputEl, {childList: true});\n",
       "}}\n",
       "\n",
       "                        })                };                });            </script>        </div>"
      ]
     },
     "metadata": {},
     "output_type": "display_data"
    }
   ],
   "source": [
    "#CBR \n",
    "CBRs_plot = px.scatter(CBRs, \n",
    "                       x= 'Region',\n",
    "                       y= 'CBR', \n",
    "                       color = 'Burden sharing regime',\n",
    "                       title = 'Cost Benefit Ratio per region per burden sharing regime for 2020-2100',\n",
    "                      labels = { \"variable\": \"Burden Sharing Regime\"})\n",
    "\n",
    "CBRs_plot.update_xaxes(\n",
    "   title = \"Region\"\n",
    ")\n",
    "\n",
    "CBRs_plot.update_yaxes(\n",
    "   title = \"CBR\"\n",
    ")\n"
   ]
  },
  {
   "cell_type": "code",
   "execution_count": 8,
   "id": "44bf243a",
   "metadata": {},
   "outputs": [
    {
     "data": {
      "application/vnd.plotly.v1+json": {
       "config": {
        "plotlyServerURL": "https://plot.ly"
       },
       "data": [
        {
         "alignmentgroup": "True",
         "hovertemplate": "Burden sharing regime=GF<br>Region=%{x}<br>CBR=%{y}<extra></extra>",
         "legendgroup": "GF",
         "marker": {
          "color": "#636efa",
          "pattern": {
           "shape": ""
          }
         },
         "name": "GF",
         "offsetgroup": "GF",
         "orientation": "v",
         "showlegend": true,
         "textposition": "auto",
         "type": "bar",
         "x": [
          "CAN",
          "USA",
          "MEX",
          "RCAM",
          "BRA",
          "RSAM",
          "NAF",
          "WAF",
          "EAF",
          "SAF",
          "WEU",
          "CEU",
          "TUR",
          "UKR",
          "STAN",
          "RUS",
          "ME",
          "INDIA",
          "KOR",
          "CHN",
          "SEAS",
          "INDO",
          "JAP",
          "OCE",
          "RSAS",
          "RSAF"
         ],
         "xaxis": "x",
         "y": [
          2.595210633398123,
          2.1211315099479098,
          3.662703265490167,
          2.9801068990338364,
          2.183030584692492,
          2.599441229147013,
          6.146542119851293,
          8.208612472770604,
          9.755028806034954,
          2.7862684576860017,
          2.1684491133496824,
          2.8207602289472957,
          1.3383391241059104,
          0.8431471747792559,
          0.9402148984001554,
          0.913846087893716,
          0.8562154553380615,
          5.789468909340046,
          3.061473752407926,
          1.3072624093601193,
          4.232936103956453,
          4.765445215567096,
          3.355373192314803,
          3.8719486173383055,
          3.909181045627837,
          5.67114308837237
         ],
         "yaxis": "y"
        },
        {
         "alignmentgroup": "True",
         "hovertemplate": "Burden sharing regime=IEPC<br>Region=%{x}<br>CBR=%{y}<extra></extra>",
         "legendgroup": "IEPC",
         "marker": {
          "color": "#EF553B",
          "pattern": {
           "shape": ""
          }
         },
         "name": "IEPC",
         "offsetgroup": "IEPC",
         "orientation": "v",
         "showlegend": true,
         "textposition": "auto",
         "type": "bar",
         "x": [
          "CAN",
          "USA",
          "MEX",
          "RCAM",
          "BRA",
          "RSAM",
          "NAF",
          "WAF",
          "EAF",
          "SAF",
          "WEU",
          "CEU",
          "TUR",
          "UKR",
          "STAN",
          "RUS",
          "ME",
          "INDIA",
          "KOR",
          "CHN",
          "SEAS",
          "INDO",
          "JAP",
          "OCE",
          "RSAS",
          "RSAF"
         ],
         "xaxis": "x",
         "y": [
          2.094092704408922,
          1.561252596579564,
          3.881590919908944,
          3.346033362916786,
          1.852735004968587,
          2.480709515687161,
          7.688852060956515,
          12.20431790758767,
          39.351629872315165,
          2.443405900332422,
          1.9171258103396471,
          2.4131076695655023,
          1.3588929688794575,
          0.7213544316698516,
          0.8466926527094742,
          0.7083405916469401,
          0.8337550478756804,
          7.547707852308803,
          2.151778719648803,
          0.9849153274440337,
          4.655385639852365,
          4.370429901675296,
          2.465836572264821,
          3.3054248464448714,
          6.574273508951864,
          6.966069735715773
         ],
         "yaxis": "y"
        },
        {
         "alignmentgroup": "True",
         "hovertemplate": "Burden sharing regime=PCC<br>Region=%{x}<br>CBR=%{y}<extra></extra>",
         "legendgroup": "PCC",
         "marker": {
          "color": "#00cc96",
          "pattern": {
           "shape": ""
          }
         },
         "name": "PCC",
         "offsetgroup": "PCC",
         "orientation": "v",
         "showlegend": true,
         "textposition": "auto",
         "type": "bar",
         "x": [
          "CAN",
          "USA",
          "MEX",
          "RCAM",
          "BRA",
          "RSAM",
          "NAF",
          "WAF",
          "EAF",
          "SAF",
          "WEU",
          "CEU",
          "TUR",
          "UKR",
          "STAN",
          "RUS",
          "ME",
          "INDIA",
          "KOR",
          "CHN",
          "SEAS",
          "INDO",
          "JAP",
          "OCE",
          "RSAS",
          "RSAF"
         ],
         "xaxis": "x",
         "y": [
          2.163613234377203,
          1.6143172540873427,
          3.83097403554949,
          3.2836576981591423,
          1.845245194934416,
          2.4597357673951485,
          7.531565716374872,
          11.710848104149967,
          29.65668022893646,
          2.4745250066159667,
          1.942832713805787,
          2.432919132324205,
          1.3681779346441878,
          0.7346815629326303,
          0.8686301571853675,
          0.7381150392250664,
          0.846112991643636,
          7.27062114151136,
          2.234502084703507,
          1.0080841021021067,
          4.61191796132852,
          4.39681407315688,
          2.513604110185611,
          3.3614505958358296,
          6.048622902299301,
          6.907569088909519
         ],
         "yaxis": "y"
        },
        {
         "alignmentgroup": "True",
         "hovertemplate": "Burden sharing regime=AP<br>Region=%{x}<br>CBR=%{y}<extra></extra>",
         "legendgroup": "AP",
         "marker": {
          "color": "#ab63fa",
          "pattern": {
           "shape": ""
          }
         },
         "name": "AP",
         "offsetgroup": "AP",
         "orientation": "v",
         "showlegend": true,
         "textposition": "auto",
         "type": "bar",
         "x": [
          "CAN",
          "USA",
          "MEX",
          "RCAM",
          "BRA",
          "RSAM",
          "NAF",
          "WAF",
          "EAF",
          "SAF",
          "WEU",
          "CEU",
          "TUR",
          "UKR",
          "STAN",
          "RUS",
          "ME",
          "INDIA",
          "KOR",
          "CHN",
          "SEAS",
          "INDO",
          "JAP",
          "OCE",
          "RSAS",
          "RSAF"
         ],
         "xaxis": "x",
         "y": [
          2.049232766880676,
          1.5180583493542892,
          3.577149585703184,
          3.100307759176766,
          2.175745896582343,
          2.613631842137081,
          7.136185071771464,
          11.323488783622556,
          15.494133978577214,
          2.879838995054086,
          1.7491276539788492,
          2.3336693645106226,
          1.336319650831996,
          0.8540626195104453,
          0.9815971056114986,
          0.7964368453749512,
          0.9421267450858224,
          7.5828761900696,
          2.1898988968940305,
          0.97936725064047,
          4.952926088164818,
          4.731961526224589,
          2.394717521233178,
          3.2451357438421278,
          6.013797203228871,
          7.88044278100342
         ],
         "yaxis": "y"
        },
        {
         "alignmentgroup": "True",
         "hovertemplate": "Burden sharing regime=GDR<br>Region=%{x}<br>CBR=%{y}<extra></extra>",
         "legendgroup": "GDR",
         "marker": {
          "color": "#FFA15A",
          "pattern": {
           "shape": ""
          }
         },
         "name": "GDR",
         "offsetgroup": "GDR",
         "orientation": "v",
         "showlegend": true,
         "textposition": "auto",
         "type": "bar",
         "x": [
          "CAN",
          "USA",
          "MEX",
          "RCAM",
          "BRA",
          "RSAM",
          "NAF",
          "WAF",
          "EAF",
          "SAF",
          "WEU",
          "CEU",
          "TUR",
          "UKR",
          "STAN",
          "RUS",
          "ME",
          "INDIA",
          "KOR",
          "CHN",
          "SEAS",
          "INDO",
          "JAP",
          "OCE",
          "RSAS",
          "RSAF"
         ],
         "xaxis": "x",
         "y": [
          1.4133031192979348,
          0.8896262911708291,
          3.773431738201555,
          3.930300099512297,
          2.7980047083052098,
          3.3984909063206823,
          9.282917736973356,
          15.835634056993523,
          20.418424533451237,
          3.3760756070475133,
          1.0272308304178606,
          1.9113613145522892,
          1.287002627205435,
          1.1308344340076557,
          1.197492732886687,
          0.8068212749587403,
          1.0450147044032403,
          10.84592768159338,
          3.8989213282164017,
          1.1498078402087524,
          6.38638498209444,
          7.029711360375232,
          1.228464494484531,
          2.213573162178586,
          8.133449679496177,
          11.038834049511353
         ],
         "yaxis": "y"
        },
        {
         "alignmentgroup": "True",
         "hovertemplate": "Burden sharing regime=none<br>Region=%{x}<br>CBR=%{y}<extra></extra>",
         "legendgroup": "none",
         "marker": {
          "color": "#19d3f3",
          "pattern": {
           "shape": ""
          }
         },
         "name": "none",
         "offsetgroup": "none",
         "orientation": "v",
         "showlegend": true,
         "textposition": "auto",
         "type": "bar",
         "x": [
          "CAN",
          "USA",
          "MEX",
          "RCAM",
          "BRA",
          "RSAM",
          "NAF",
          "WAF",
          "EAF",
          "SAF",
          "WEU",
          "CEU",
          "TUR",
          "UKR",
          "STAN",
          "RUS",
          "ME",
          "INDIA",
          "KOR",
          "CHN",
          "SEAS",
          "INDO",
          "JAP",
          "OCE",
          "RSAS",
          "RSAF"
         ],
         "xaxis": "x",
         "y": [
          6.401254773032864,
          4.131010793560047,
          8.98910722321183,
          8.824437580788242,
          3.5134456918305434,
          4.879483347747442,
          21.258051707069004,
          17.727672913004024,
          24.86083600448791,
          6.314555452641444,
          5.808822898155034,
          6.938729142054874,
          3.7974634332363912,
          2.099919824689215,
          2.8566686693529237,
          2.495931302185159,
          2.3314083195924598,
          15.610746748870742,
          6.137112745512851,
          1.926612792738839,
          10.825511504107183,
          10.835224149470958,
          6.426777737966579,
          7.778978217960751,
          10.41312454172709,
          18.081169229858155
         ],
         "yaxis": "y"
        }
       ],
       "layout": {
        "barmode": "group",
        "legend": {
         "title": {
          "text": "Burden sharing regime"
         },
         "tracegroupgap": 0
        },
        "template": {
         "data": {
          "bar": [
           {
            "error_x": {
             "color": "#2a3f5f"
            },
            "error_y": {
             "color": "#2a3f5f"
            },
            "marker": {
             "line": {
              "color": "#E5ECF6",
              "width": 0.5
             },
             "pattern": {
              "fillmode": "overlay",
              "size": 10,
              "solidity": 0.2
             }
            },
            "type": "bar"
           }
          ],
          "barpolar": [
           {
            "marker": {
             "line": {
              "color": "#E5ECF6",
              "width": 0.5
             },
             "pattern": {
              "fillmode": "overlay",
              "size": 10,
              "solidity": 0.2
             }
            },
            "type": "barpolar"
           }
          ],
          "carpet": [
           {
            "aaxis": {
             "endlinecolor": "#2a3f5f",
             "gridcolor": "white",
             "linecolor": "white",
             "minorgridcolor": "white",
             "startlinecolor": "#2a3f5f"
            },
            "baxis": {
             "endlinecolor": "#2a3f5f",
             "gridcolor": "white",
             "linecolor": "white",
             "minorgridcolor": "white",
             "startlinecolor": "#2a3f5f"
            },
            "type": "carpet"
           }
          ],
          "choropleth": [
           {
            "colorbar": {
             "outlinewidth": 0,
             "ticks": ""
            },
            "type": "choropleth"
           }
          ],
          "contour": [
           {
            "colorbar": {
             "outlinewidth": 0,
             "ticks": ""
            },
            "colorscale": [
             [
              0,
              "#0d0887"
             ],
             [
              0.1111111111111111,
              "#46039f"
             ],
             [
              0.2222222222222222,
              "#7201a8"
             ],
             [
              0.3333333333333333,
              "#9c179e"
             ],
             [
              0.4444444444444444,
              "#bd3786"
             ],
             [
              0.5555555555555556,
              "#d8576b"
             ],
             [
              0.6666666666666666,
              "#ed7953"
             ],
             [
              0.7777777777777778,
              "#fb9f3a"
             ],
             [
              0.8888888888888888,
              "#fdca26"
             ],
             [
              1,
              "#f0f921"
             ]
            ],
            "type": "contour"
           }
          ],
          "contourcarpet": [
           {
            "colorbar": {
             "outlinewidth": 0,
             "ticks": ""
            },
            "type": "contourcarpet"
           }
          ],
          "heatmap": [
           {
            "colorbar": {
             "outlinewidth": 0,
             "ticks": ""
            },
            "colorscale": [
             [
              0,
              "#0d0887"
             ],
             [
              0.1111111111111111,
              "#46039f"
             ],
             [
              0.2222222222222222,
              "#7201a8"
             ],
             [
              0.3333333333333333,
              "#9c179e"
             ],
             [
              0.4444444444444444,
              "#bd3786"
             ],
             [
              0.5555555555555556,
              "#d8576b"
             ],
             [
              0.6666666666666666,
              "#ed7953"
             ],
             [
              0.7777777777777778,
              "#fb9f3a"
             ],
             [
              0.8888888888888888,
              "#fdca26"
             ],
             [
              1,
              "#f0f921"
             ]
            ],
            "type": "heatmap"
           }
          ],
          "heatmapgl": [
           {
            "colorbar": {
             "outlinewidth": 0,
             "ticks": ""
            },
            "colorscale": [
             [
              0,
              "#0d0887"
             ],
             [
              0.1111111111111111,
              "#46039f"
             ],
             [
              0.2222222222222222,
              "#7201a8"
             ],
             [
              0.3333333333333333,
              "#9c179e"
             ],
             [
              0.4444444444444444,
              "#bd3786"
             ],
             [
              0.5555555555555556,
              "#d8576b"
             ],
             [
              0.6666666666666666,
              "#ed7953"
             ],
             [
              0.7777777777777778,
              "#fb9f3a"
             ],
             [
              0.8888888888888888,
              "#fdca26"
             ],
             [
              1,
              "#f0f921"
             ]
            ],
            "type": "heatmapgl"
           }
          ],
          "histogram": [
           {
            "marker": {
             "pattern": {
              "fillmode": "overlay",
              "size": 10,
              "solidity": 0.2
             }
            },
            "type": "histogram"
           }
          ],
          "histogram2d": [
           {
            "colorbar": {
             "outlinewidth": 0,
             "ticks": ""
            },
            "colorscale": [
             [
              0,
              "#0d0887"
             ],
             [
              0.1111111111111111,
              "#46039f"
             ],
             [
              0.2222222222222222,
              "#7201a8"
             ],
             [
              0.3333333333333333,
              "#9c179e"
             ],
             [
              0.4444444444444444,
              "#bd3786"
             ],
             [
              0.5555555555555556,
              "#d8576b"
             ],
             [
              0.6666666666666666,
              "#ed7953"
             ],
             [
              0.7777777777777778,
              "#fb9f3a"
             ],
             [
              0.8888888888888888,
              "#fdca26"
             ],
             [
              1,
              "#f0f921"
             ]
            ],
            "type": "histogram2d"
           }
          ],
          "histogram2dcontour": [
           {
            "colorbar": {
             "outlinewidth": 0,
             "ticks": ""
            },
            "colorscale": [
             [
              0,
              "#0d0887"
             ],
             [
              0.1111111111111111,
              "#46039f"
             ],
             [
              0.2222222222222222,
              "#7201a8"
             ],
             [
              0.3333333333333333,
              "#9c179e"
             ],
             [
              0.4444444444444444,
              "#bd3786"
             ],
             [
              0.5555555555555556,
              "#d8576b"
             ],
             [
              0.6666666666666666,
              "#ed7953"
             ],
             [
              0.7777777777777778,
              "#fb9f3a"
             ],
             [
              0.8888888888888888,
              "#fdca26"
             ],
             [
              1,
              "#f0f921"
             ]
            ],
            "type": "histogram2dcontour"
           }
          ],
          "mesh3d": [
           {
            "colorbar": {
             "outlinewidth": 0,
             "ticks": ""
            },
            "type": "mesh3d"
           }
          ],
          "parcoords": [
           {
            "line": {
             "colorbar": {
              "outlinewidth": 0,
              "ticks": ""
             }
            },
            "type": "parcoords"
           }
          ],
          "pie": [
           {
            "automargin": true,
            "type": "pie"
           }
          ],
          "scatter": [
           {
            "fillpattern": {
             "fillmode": "overlay",
             "size": 10,
             "solidity": 0.2
            },
            "type": "scatter"
           }
          ],
          "scatter3d": [
           {
            "line": {
             "colorbar": {
              "outlinewidth": 0,
              "ticks": ""
             }
            },
            "marker": {
             "colorbar": {
              "outlinewidth": 0,
              "ticks": ""
             }
            },
            "type": "scatter3d"
           }
          ],
          "scattercarpet": [
           {
            "marker": {
             "colorbar": {
              "outlinewidth": 0,
              "ticks": ""
             }
            },
            "type": "scattercarpet"
           }
          ],
          "scattergeo": [
           {
            "marker": {
             "colorbar": {
              "outlinewidth": 0,
              "ticks": ""
             }
            },
            "type": "scattergeo"
           }
          ],
          "scattergl": [
           {
            "marker": {
             "colorbar": {
              "outlinewidth": 0,
              "ticks": ""
             }
            },
            "type": "scattergl"
           }
          ],
          "scattermapbox": [
           {
            "marker": {
             "colorbar": {
              "outlinewidth": 0,
              "ticks": ""
             }
            },
            "type": "scattermapbox"
           }
          ],
          "scatterpolar": [
           {
            "marker": {
             "colorbar": {
              "outlinewidth": 0,
              "ticks": ""
             }
            },
            "type": "scatterpolar"
           }
          ],
          "scatterpolargl": [
           {
            "marker": {
             "colorbar": {
              "outlinewidth": 0,
              "ticks": ""
             }
            },
            "type": "scatterpolargl"
           }
          ],
          "scatterternary": [
           {
            "marker": {
             "colorbar": {
              "outlinewidth": 0,
              "ticks": ""
             }
            },
            "type": "scatterternary"
           }
          ],
          "surface": [
           {
            "colorbar": {
             "outlinewidth": 0,
             "ticks": ""
            },
            "colorscale": [
             [
              0,
              "#0d0887"
             ],
             [
              0.1111111111111111,
              "#46039f"
             ],
             [
              0.2222222222222222,
              "#7201a8"
             ],
             [
              0.3333333333333333,
              "#9c179e"
             ],
             [
              0.4444444444444444,
              "#bd3786"
             ],
             [
              0.5555555555555556,
              "#d8576b"
             ],
             [
              0.6666666666666666,
              "#ed7953"
             ],
             [
              0.7777777777777778,
              "#fb9f3a"
             ],
             [
              0.8888888888888888,
              "#fdca26"
             ],
             [
              1,
              "#f0f921"
             ]
            ],
            "type": "surface"
           }
          ],
          "table": [
           {
            "cells": {
             "fill": {
              "color": "#EBF0F8"
             },
             "line": {
              "color": "white"
             }
            },
            "header": {
             "fill": {
              "color": "#C8D4E3"
             },
             "line": {
              "color": "white"
             }
            },
            "type": "table"
           }
          ]
         },
         "layout": {
          "annotationdefaults": {
           "arrowcolor": "#2a3f5f",
           "arrowhead": 0,
           "arrowwidth": 1
          },
          "autotypenumbers": "strict",
          "coloraxis": {
           "colorbar": {
            "outlinewidth": 0,
            "ticks": ""
           }
          },
          "colorscale": {
           "diverging": [
            [
             0,
             "#8e0152"
            ],
            [
             0.1,
             "#c51b7d"
            ],
            [
             0.2,
             "#de77ae"
            ],
            [
             0.3,
             "#f1b6da"
            ],
            [
             0.4,
             "#fde0ef"
            ],
            [
             0.5,
             "#f7f7f7"
            ],
            [
             0.6,
             "#e6f5d0"
            ],
            [
             0.7,
             "#b8e186"
            ],
            [
             0.8,
             "#7fbc41"
            ],
            [
             0.9,
             "#4d9221"
            ],
            [
             1,
             "#276419"
            ]
           ],
           "sequential": [
            [
             0,
             "#0d0887"
            ],
            [
             0.1111111111111111,
             "#46039f"
            ],
            [
             0.2222222222222222,
             "#7201a8"
            ],
            [
             0.3333333333333333,
             "#9c179e"
            ],
            [
             0.4444444444444444,
             "#bd3786"
            ],
            [
             0.5555555555555556,
             "#d8576b"
            ],
            [
             0.6666666666666666,
             "#ed7953"
            ],
            [
             0.7777777777777778,
             "#fb9f3a"
            ],
            [
             0.8888888888888888,
             "#fdca26"
            ],
            [
             1,
             "#f0f921"
            ]
           ],
           "sequentialminus": [
            [
             0,
             "#0d0887"
            ],
            [
             0.1111111111111111,
             "#46039f"
            ],
            [
             0.2222222222222222,
             "#7201a8"
            ],
            [
             0.3333333333333333,
             "#9c179e"
            ],
            [
             0.4444444444444444,
             "#bd3786"
            ],
            [
             0.5555555555555556,
             "#d8576b"
            ],
            [
             0.6666666666666666,
             "#ed7953"
            ],
            [
             0.7777777777777778,
             "#fb9f3a"
            ],
            [
             0.8888888888888888,
             "#fdca26"
            ],
            [
             1,
             "#f0f921"
            ]
           ]
          },
          "colorway": [
           "#636efa",
           "#EF553B",
           "#00cc96",
           "#ab63fa",
           "#FFA15A",
           "#19d3f3",
           "#FF6692",
           "#B6E880",
           "#FF97FF",
           "#FECB52"
          ],
          "font": {
           "color": "#2a3f5f"
          },
          "geo": {
           "bgcolor": "white",
           "lakecolor": "white",
           "landcolor": "#E5ECF6",
           "showlakes": true,
           "showland": true,
           "subunitcolor": "white"
          },
          "hoverlabel": {
           "align": "left"
          },
          "hovermode": "closest",
          "mapbox": {
           "style": "light"
          },
          "paper_bgcolor": "white",
          "plot_bgcolor": "#E5ECF6",
          "polar": {
           "angularaxis": {
            "gridcolor": "white",
            "linecolor": "white",
            "ticks": ""
           },
           "bgcolor": "#E5ECF6",
           "radialaxis": {
            "gridcolor": "white",
            "linecolor": "white",
            "ticks": ""
           }
          },
          "scene": {
           "xaxis": {
            "backgroundcolor": "#E5ECF6",
            "gridcolor": "white",
            "gridwidth": 2,
            "linecolor": "white",
            "showbackground": true,
            "ticks": "",
            "zerolinecolor": "white"
           },
           "yaxis": {
            "backgroundcolor": "#E5ECF6",
            "gridcolor": "white",
            "gridwidth": 2,
            "linecolor": "white",
            "showbackground": true,
            "ticks": "",
            "zerolinecolor": "white"
           },
           "zaxis": {
            "backgroundcolor": "#E5ECF6",
            "gridcolor": "white",
            "gridwidth": 2,
            "linecolor": "white",
            "showbackground": true,
            "ticks": "",
            "zerolinecolor": "white"
           }
          },
          "shapedefaults": {
           "line": {
            "color": "#2a3f5f"
           }
          },
          "ternary": {
           "aaxis": {
            "gridcolor": "white",
            "linecolor": "white",
            "ticks": ""
           },
           "baxis": {
            "gridcolor": "white",
            "linecolor": "white",
            "ticks": ""
           },
           "bgcolor": "#E5ECF6",
           "caxis": {
            "gridcolor": "white",
            "linecolor": "white",
            "ticks": ""
           }
          },
          "title": {
           "x": 0.05
          },
          "xaxis": {
           "automargin": true,
           "gridcolor": "white",
           "linecolor": "white",
           "ticks": "",
           "title": {
            "standoff": 15
           },
           "zerolinecolor": "white",
           "zerolinewidth": 2
          },
          "yaxis": {
           "automargin": true,
           "gridcolor": "white",
           "linecolor": "white",
           "ticks": "",
           "title": {
            "standoff": 15
           },
           "zerolinecolor": "white",
           "zerolinewidth": 2
          }
         }
        },
        "title": {
         "text": "CBR per BSR and the avoided damages"
        },
        "xaxis": {
         "anchor": "y",
         "domain": [
          0,
          1
         ],
         "title": {
          "text": "Region"
         }
        },
        "yaxis": {
         "anchor": "x",
         "domain": [
          0,
          1
         ],
         "range": [
          0,
          30
         ],
         "title": {
          "text": "CBR"
         }
        }
       }
      },
      "text/html": [
       "<div>                            <div id=\"3ed99baa-822c-45b4-ac06-5b5419f6633a\" class=\"plotly-graph-div\" style=\"height:525px; width:100%;\"></div>            <script type=\"text/javascript\">                require([\"plotly\"], function(Plotly) {                    window.PLOTLYENV=window.PLOTLYENV || {};                                    if (document.getElementById(\"3ed99baa-822c-45b4-ac06-5b5419f6633a\")) {                    Plotly.newPlot(                        \"3ed99baa-822c-45b4-ac06-5b5419f6633a\",                        [{\"alignmentgroup\":\"True\",\"hovertemplate\":\"Burden sharing regime=GF<br>Region=%{x}<br>CBR=%{y}<extra></extra>\",\"legendgroup\":\"GF\",\"marker\":{\"color\":\"#636efa\",\"pattern\":{\"shape\":\"\"}},\"name\":\"GF\",\"offsetgroup\":\"GF\",\"orientation\":\"v\",\"showlegend\":true,\"textposition\":\"auto\",\"x\":[\"CAN\",\"USA\",\"MEX\",\"RCAM\",\"BRA\",\"RSAM\",\"NAF\",\"WAF\",\"EAF\",\"SAF\",\"WEU\",\"CEU\",\"TUR\",\"UKR\",\"STAN\",\"RUS\",\"ME\",\"INDIA\",\"KOR\",\"CHN\",\"SEAS\",\"INDO\",\"JAP\",\"OCE\",\"RSAS\",\"RSAF\"],\"xaxis\":\"x\",\"y\":[2.595210633398123,2.1211315099479098,3.662703265490167,2.9801068990338364,2.183030584692492,2.599441229147013,6.146542119851293,8.208612472770604,9.755028806034954,2.7862684576860017,2.1684491133496824,2.8207602289472957,1.3383391241059104,0.8431471747792559,0.9402148984001554,0.913846087893716,0.8562154553380615,5.789468909340046,3.061473752407926,1.3072624093601193,4.232936103956453,4.765445215567096,3.355373192314803,3.8719486173383055,3.909181045627837,5.67114308837237],\"yaxis\":\"y\",\"type\":\"bar\"},{\"alignmentgroup\":\"True\",\"hovertemplate\":\"Burden sharing regime=IEPC<br>Region=%{x}<br>CBR=%{y}<extra></extra>\",\"legendgroup\":\"IEPC\",\"marker\":{\"color\":\"#EF553B\",\"pattern\":{\"shape\":\"\"}},\"name\":\"IEPC\",\"offsetgroup\":\"IEPC\",\"orientation\":\"v\",\"showlegend\":true,\"textposition\":\"auto\",\"x\":[\"CAN\",\"USA\",\"MEX\",\"RCAM\",\"BRA\",\"RSAM\",\"NAF\",\"WAF\",\"EAF\",\"SAF\",\"WEU\",\"CEU\",\"TUR\",\"UKR\",\"STAN\",\"RUS\",\"ME\",\"INDIA\",\"KOR\",\"CHN\",\"SEAS\",\"INDO\",\"JAP\",\"OCE\",\"RSAS\",\"RSAF\"],\"xaxis\":\"x\",\"y\":[2.094092704408922,1.561252596579564,3.881590919908944,3.346033362916786,1.852735004968587,2.480709515687161,7.688852060956515,12.20431790758767,39.351629872315165,2.443405900332422,1.9171258103396471,2.4131076695655023,1.3588929688794575,0.7213544316698516,0.8466926527094742,0.7083405916469401,0.8337550478756804,7.547707852308803,2.151778719648803,0.9849153274440337,4.655385639852365,4.370429901675296,2.465836572264821,3.3054248464448714,6.574273508951864,6.966069735715773],\"yaxis\":\"y\",\"type\":\"bar\"},{\"alignmentgroup\":\"True\",\"hovertemplate\":\"Burden sharing regime=PCC<br>Region=%{x}<br>CBR=%{y}<extra></extra>\",\"legendgroup\":\"PCC\",\"marker\":{\"color\":\"#00cc96\",\"pattern\":{\"shape\":\"\"}},\"name\":\"PCC\",\"offsetgroup\":\"PCC\",\"orientation\":\"v\",\"showlegend\":true,\"textposition\":\"auto\",\"x\":[\"CAN\",\"USA\",\"MEX\",\"RCAM\",\"BRA\",\"RSAM\",\"NAF\",\"WAF\",\"EAF\",\"SAF\",\"WEU\",\"CEU\",\"TUR\",\"UKR\",\"STAN\",\"RUS\",\"ME\",\"INDIA\",\"KOR\",\"CHN\",\"SEAS\",\"INDO\",\"JAP\",\"OCE\",\"RSAS\",\"RSAF\"],\"xaxis\":\"x\",\"y\":[2.163613234377203,1.6143172540873427,3.83097403554949,3.2836576981591423,1.845245194934416,2.4597357673951485,7.531565716374872,11.710848104149967,29.65668022893646,2.4745250066159667,1.942832713805787,2.432919132324205,1.3681779346441878,0.7346815629326303,0.8686301571853675,0.7381150392250664,0.846112991643636,7.27062114151136,2.234502084703507,1.0080841021021067,4.61191796132852,4.39681407315688,2.513604110185611,3.3614505958358296,6.048622902299301,6.907569088909519],\"yaxis\":\"y\",\"type\":\"bar\"},{\"alignmentgroup\":\"True\",\"hovertemplate\":\"Burden sharing regime=AP<br>Region=%{x}<br>CBR=%{y}<extra></extra>\",\"legendgroup\":\"AP\",\"marker\":{\"color\":\"#ab63fa\",\"pattern\":{\"shape\":\"\"}},\"name\":\"AP\",\"offsetgroup\":\"AP\",\"orientation\":\"v\",\"showlegend\":true,\"textposition\":\"auto\",\"x\":[\"CAN\",\"USA\",\"MEX\",\"RCAM\",\"BRA\",\"RSAM\",\"NAF\",\"WAF\",\"EAF\",\"SAF\",\"WEU\",\"CEU\",\"TUR\",\"UKR\",\"STAN\",\"RUS\",\"ME\",\"INDIA\",\"KOR\",\"CHN\",\"SEAS\",\"INDO\",\"JAP\",\"OCE\",\"RSAS\",\"RSAF\"],\"xaxis\":\"x\",\"y\":[2.049232766880676,1.5180583493542892,3.577149585703184,3.100307759176766,2.175745896582343,2.613631842137081,7.136185071771464,11.323488783622556,15.494133978577214,2.879838995054086,1.7491276539788492,2.3336693645106226,1.336319650831996,0.8540626195104453,0.9815971056114986,0.7964368453749512,0.9421267450858224,7.5828761900696,2.1898988968940305,0.97936725064047,4.952926088164818,4.731961526224589,2.394717521233178,3.2451357438421278,6.013797203228871,7.88044278100342],\"yaxis\":\"y\",\"type\":\"bar\"},{\"alignmentgroup\":\"True\",\"hovertemplate\":\"Burden sharing regime=GDR<br>Region=%{x}<br>CBR=%{y}<extra></extra>\",\"legendgroup\":\"GDR\",\"marker\":{\"color\":\"#FFA15A\",\"pattern\":{\"shape\":\"\"}},\"name\":\"GDR\",\"offsetgroup\":\"GDR\",\"orientation\":\"v\",\"showlegend\":true,\"textposition\":\"auto\",\"x\":[\"CAN\",\"USA\",\"MEX\",\"RCAM\",\"BRA\",\"RSAM\",\"NAF\",\"WAF\",\"EAF\",\"SAF\",\"WEU\",\"CEU\",\"TUR\",\"UKR\",\"STAN\",\"RUS\",\"ME\",\"INDIA\",\"KOR\",\"CHN\",\"SEAS\",\"INDO\",\"JAP\",\"OCE\",\"RSAS\",\"RSAF\"],\"xaxis\":\"x\",\"y\":[1.4133031192979348,0.8896262911708291,3.773431738201555,3.930300099512297,2.7980047083052098,3.3984909063206823,9.282917736973356,15.835634056993523,20.418424533451237,3.3760756070475133,1.0272308304178606,1.9113613145522892,1.287002627205435,1.1308344340076557,1.197492732886687,0.8068212749587403,1.0450147044032403,10.84592768159338,3.8989213282164017,1.1498078402087524,6.38638498209444,7.029711360375232,1.228464494484531,2.213573162178586,8.133449679496177,11.038834049511353],\"yaxis\":\"y\",\"type\":\"bar\"},{\"alignmentgroup\":\"True\",\"hovertemplate\":\"Burden sharing regime=none<br>Region=%{x}<br>CBR=%{y}<extra></extra>\",\"legendgroup\":\"none\",\"marker\":{\"color\":\"#19d3f3\",\"pattern\":{\"shape\":\"\"}},\"name\":\"none\",\"offsetgroup\":\"none\",\"orientation\":\"v\",\"showlegend\":true,\"textposition\":\"auto\",\"x\":[\"CAN\",\"USA\",\"MEX\",\"RCAM\",\"BRA\",\"RSAM\",\"NAF\",\"WAF\",\"EAF\",\"SAF\",\"WEU\",\"CEU\",\"TUR\",\"UKR\",\"STAN\",\"RUS\",\"ME\",\"INDIA\",\"KOR\",\"CHN\",\"SEAS\",\"INDO\",\"JAP\",\"OCE\",\"RSAS\",\"RSAF\"],\"xaxis\":\"x\",\"y\":[6.401254773032864,4.131010793560047,8.98910722321183,8.824437580788242,3.5134456918305434,4.879483347747442,21.258051707069004,17.727672913004024,24.86083600448791,6.314555452641444,5.808822898155034,6.938729142054874,3.7974634332363912,2.099919824689215,2.8566686693529237,2.495931302185159,2.3314083195924598,15.610746748870742,6.137112745512851,1.926612792738839,10.825511504107183,10.835224149470958,6.426777737966579,7.778978217960751,10.41312454172709,18.081169229858155],\"yaxis\":\"y\",\"type\":\"bar\"}],                        {\"template\":{\"data\":{\"histogram2dcontour\":[{\"type\":\"histogram2dcontour\",\"colorbar\":{\"outlinewidth\":0,\"ticks\":\"\"},\"colorscale\":[[0.0,\"#0d0887\"],[0.1111111111111111,\"#46039f\"],[0.2222222222222222,\"#7201a8\"],[0.3333333333333333,\"#9c179e\"],[0.4444444444444444,\"#bd3786\"],[0.5555555555555556,\"#d8576b\"],[0.6666666666666666,\"#ed7953\"],[0.7777777777777778,\"#fb9f3a\"],[0.8888888888888888,\"#fdca26\"],[1.0,\"#f0f921\"]]}],\"choropleth\":[{\"type\":\"choropleth\",\"colorbar\":{\"outlinewidth\":0,\"ticks\":\"\"}}],\"histogram2d\":[{\"type\":\"histogram2d\",\"colorbar\":{\"outlinewidth\":0,\"ticks\":\"\"},\"colorscale\":[[0.0,\"#0d0887\"],[0.1111111111111111,\"#46039f\"],[0.2222222222222222,\"#7201a8\"],[0.3333333333333333,\"#9c179e\"],[0.4444444444444444,\"#bd3786\"],[0.5555555555555556,\"#d8576b\"],[0.6666666666666666,\"#ed7953\"],[0.7777777777777778,\"#fb9f3a\"],[0.8888888888888888,\"#fdca26\"],[1.0,\"#f0f921\"]]}],\"heatmap\":[{\"type\":\"heatmap\",\"colorbar\":{\"outlinewidth\":0,\"ticks\":\"\"},\"colorscale\":[[0.0,\"#0d0887\"],[0.1111111111111111,\"#46039f\"],[0.2222222222222222,\"#7201a8\"],[0.3333333333333333,\"#9c179e\"],[0.4444444444444444,\"#bd3786\"],[0.5555555555555556,\"#d8576b\"],[0.6666666666666666,\"#ed7953\"],[0.7777777777777778,\"#fb9f3a\"],[0.8888888888888888,\"#fdca26\"],[1.0,\"#f0f921\"]]}],\"heatmapgl\":[{\"type\":\"heatmapgl\",\"colorbar\":{\"outlinewidth\":0,\"ticks\":\"\"},\"colorscale\":[[0.0,\"#0d0887\"],[0.1111111111111111,\"#46039f\"],[0.2222222222222222,\"#7201a8\"],[0.3333333333333333,\"#9c179e\"],[0.4444444444444444,\"#bd3786\"],[0.5555555555555556,\"#d8576b\"],[0.6666666666666666,\"#ed7953\"],[0.7777777777777778,\"#fb9f3a\"],[0.8888888888888888,\"#fdca26\"],[1.0,\"#f0f921\"]]}],\"contourcarpet\":[{\"type\":\"contourcarpet\",\"colorbar\":{\"outlinewidth\":0,\"ticks\":\"\"}}],\"contour\":[{\"type\":\"contour\",\"colorbar\":{\"outlinewidth\":0,\"ticks\":\"\"},\"colorscale\":[[0.0,\"#0d0887\"],[0.1111111111111111,\"#46039f\"],[0.2222222222222222,\"#7201a8\"],[0.3333333333333333,\"#9c179e\"],[0.4444444444444444,\"#bd3786\"],[0.5555555555555556,\"#d8576b\"],[0.6666666666666666,\"#ed7953\"],[0.7777777777777778,\"#fb9f3a\"],[0.8888888888888888,\"#fdca26\"],[1.0,\"#f0f921\"]]}],\"surface\":[{\"type\":\"surface\",\"colorbar\":{\"outlinewidth\":0,\"ticks\":\"\"},\"colorscale\":[[0.0,\"#0d0887\"],[0.1111111111111111,\"#46039f\"],[0.2222222222222222,\"#7201a8\"],[0.3333333333333333,\"#9c179e\"],[0.4444444444444444,\"#bd3786\"],[0.5555555555555556,\"#d8576b\"],[0.6666666666666666,\"#ed7953\"],[0.7777777777777778,\"#fb9f3a\"],[0.8888888888888888,\"#fdca26\"],[1.0,\"#f0f921\"]]}],\"mesh3d\":[{\"type\":\"mesh3d\",\"colorbar\":{\"outlinewidth\":0,\"ticks\":\"\"}}],\"scatter\":[{\"fillpattern\":{\"fillmode\":\"overlay\",\"size\":10,\"solidity\":0.2},\"type\":\"scatter\"}],\"parcoords\":[{\"type\":\"parcoords\",\"line\":{\"colorbar\":{\"outlinewidth\":0,\"ticks\":\"\"}}}],\"scatterpolargl\":[{\"type\":\"scatterpolargl\",\"marker\":{\"colorbar\":{\"outlinewidth\":0,\"ticks\":\"\"}}}],\"bar\":[{\"error_x\":{\"color\":\"#2a3f5f\"},\"error_y\":{\"color\":\"#2a3f5f\"},\"marker\":{\"line\":{\"color\":\"#E5ECF6\",\"width\":0.5},\"pattern\":{\"fillmode\":\"overlay\",\"size\":10,\"solidity\":0.2}},\"type\":\"bar\"}],\"scattergeo\":[{\"type\":\"scattergeo\",\"marker\":{\"colorbar\":{\"outlinewidth\":0,\"ticks\":\"\"}}}],\"scatterpolar\":[{\"type\":\"scatterpolar\",\"marker\":{\"colorbar\":{\"outlinewidth\":0,\"ticks\":\"\"}}}],\"histogram\":[{\"marker\":{\"pattern\":{\"fillmode\":\"overlay\",\"size\":10,\"solidity\":0.2}},\"type\":\"histogram\"}],\"scattergl\":[{\"type\":\"scattergl\",\"marker\":{\"colorbar\":{\"outlinewidth\":0,\"ticks\":\"\"}}}],\"scatter3d\":[{\"type\":\"scatter3d\",\"line\":{\"colorbar\":{\"outlinewidth\":0,\"ticks\":\"\"}},\"marker\":{\"colorbar\":{\"outlinewidth\":0,\"ticks\":\"\"}}}],\"scattermapbox\":[{\"type\":\"scattermapbox\",\"marker\":{\"colorbar\":{\"outlinewidth\":0,\"ticks\":\"\"}}}],\"scatterternary\":[{\"type\":\"scatterternary\",\"marker\":{\"colorbar\":{\"outlinewidth\":0,\"ticks\":\"\"}}}],\"scattercarpet\":[{\"type\":\"scattercarpet\",\"marker\":{\"colorbar\":{\"outlinewidth\":0,\"ticks\":\"\"}}}],\"carpet\":[{\"aaxis\":{\"endlinecolor\":\"#2a3f5f\",\"gridcolor\":\"white\",\"linecolor\":\"white\",\"minorgridcolor\":\"white\",\"startlinecolor\":\"#2a3f5f\"},\"baxis\":{\"endlinecolor\":\"#2a3f5f\",\"gridcolor\":\"white\",\"linecolor\":\"white\",\"minorgridcolor\":\"white\",\"startlinecolor\":\"#2a3f5f\"},\"type\":\"carpet\"}],\"table\":[{\"cells\":{\"fill\":{\"color\":\"#EBF0F8\"},\"line\":{\"color\":\"white\"}},\"header\":{\"fill\":{\"color\":\"#C8D4E3\"},\"line\":{\"color\":\"white\"}},\"type\":\"table\"}],\"barpolar\":[{\"marker\":{\"line\":{\"color\":\"#E5ECF6\",\"width\":0.5},\"pattern\":{\"fillmode\":\"overlay\",\"size\":10,\"solidity\":0.2}},\"type\":\"barpolar\"}],\"pie\":[{\"automargin\":true,\"type\":\"pie\"}]},\"layout\":{\"autotypenumbers\":\"strict\",\"colorway\":[\"#636efa\",\"#EF553B\",\"#00cc96\",\"#ab63fa\",\"#FFA15A\",\"#19d3f3\",\"#FF6692\",\"#B6E880\",\"#FF97FF\",\"#FECB52\"],\"font\":{\"color\":\"#2a3f5f\"},\"hovermode\":\"closest\",\"hoverlabel\":{\"align\":\"left\"},\"paper_bgcolor\":\"white\",\"plot_bgcolor\":\"#E5ECF6\",\"polar\":{\"bgcolor\":\"#E5ECF6\",\"angularaxis\":{\"gridcolor\":\"white\",\"linecolor\":\"white\",\"ticks\":\"\"},\"radialaxis\":{\"gridcolor\":\"white\",\"linecolor\":\"white\",\"ticks\":\"\"}},\"ternary\":{\"bgcolor\":\"#E5ECF6\",\"aaxis\":{\"gridcolor\":\"white\",\"linecolor\":\"white\",\"ticks\":\"\"},\"baxis\":{\"gridcolor\":\"white\",\"linecolor\":\"white\",\"ticks\":\"\"},\"caxis\":{\"gridcolor\":\"white\",\"linecolor\":\"white\",\"ticks\":\"\"}},\"coloraxis\":{\"colorbar\":{\"outlinewidth\":0,\"ticks\":\"\"}},\"colorscale\":{\"sequential\":[[0.0,\"#0d0887\"],[0.1111111111111111,\"#46039f\"],[0.2222222222222222,\"#7201a8\"],[0.3333333333333333,\"#9c179e\"],[0.4444444444444444,\"#bd3786\"],[0.5555555555555556,\"#d8576b\"],[0.6666666666666666,\"#ed7953\"],[0.7777777777777778,\"#fb9f3a\"],[0.8888888888888888,\"#fdca26\"],[1.0,\"#f0f921\"]],\"sequentialminus\":[[0.0,\"#0d0887\"],[0.1111111111111111,\"#46039f\"],[0.2222222222222222,\"#7201a8\"],[0.3333333333333333,\"#9c179e\"],[0.4444444444444444,\"#bd3786\"],[0.5555555555555556,\"#d8576b\"],[0.6666666666666666,\"#ed7953\"],[0.7777777777777778,\"#fb9f3a\"],[0.8888888888888888,\"#fdca26\"],[1.0,\"#f0f921\"]],\"diverging\":[[0,\"#8e0152\"],[0.1,\"#c51b7d\"],[0.2,\"#de77ae\"],[0.3,\"#f1b6da\"],[0.4,\"#fde0ef\"],[0.5,\"#f7f7f7\"],[0.6,\"#e6f5d0\"],[0.7,\"#b8e186\"],[0.8,\"#7fbc41\"],[0.9,\"#4d9221\"],[1,\"#276419\"]]},\"xaxis\":{\"gridcolor\":\"white\",\"linecolor\":\"white\",\"ticks\":\"\",\"title\":{\"standoff\":15},\"zerolinecolor\":\"white\",\"automargin\":true,\"zerolinewidth\":2},\"yaxis\":{\"gridcolor\":\"white\",\"linecolor\":\"white\",\"ticks\":\"\",\"title\":{\"standoff\":15},\"zerolinecolor\":\"white\",\"automargin\":true,\"zerolinewidth\":2},\"scene\":{\"xaxis\":{\"backgroundcolor\":\"#E5ECF6\",\"gridcolor\":\"white\",\"linecolor\":\"white\",\"showbackground\":true,\"ticks\":\"\",\"zerolinecolor\":\"white\",\"gridwidth\":2},\"yaxis\":{\"backgroundcolor\":\"#E5ECF6\",\"gridcolor\":\"white\",\"linecolor\":\"white\",\"showbackground\":true,\"ticks\":\"\",\"zerolinecolor\":\"white\",\"gridwidth\":2},\"zaxis\":{\"backgroundcolor\":\"#E5ECF6\",\"gridcolor\":\"white\",\"linecolor\":\"white\",\"showbackground\":true,\"ticks\":\"\",\"zerolinecolor\":\"white\",\"gridwidth\":2}},\"shapedefaults\":{\"line\":{\"color\":\"#2a3f5f\"}},\"annotationdefaults\":{\"arrowcolor\":\"#2a3f5f\",\"arrowhead\":0,\"arrowwidth\":1},\"geo\":{\"bgcolor\":\"white\",\"landcolor\":\"#E5ECF6\",\"subunitcolor\":\"white\",\"showland\":true,\"showlakes\":true,\"lakecolor\":\"white\"},\"title\":{\"x\":0.05},\"mapbox\":{\"style\":\"light\"}}},\"xaxis\":{\"anchor\":\"y\",\"domain\":[0.0,1.0],\"title\":{\"text\":\"Region\"}},\"yaxis\":{\"anchor\":\"x\",\"domain\":[0.0,1.0],\"title\":{\"text\":\"CBR\"},\"range\":[0,30]},\"legend\":{\"title\":{\"text\":\"Burden sharing regime\"},\"tracegroupgap\":0},\"title\":{\"text\":\"CBR per BSR and the avoided damages\"},\"barmode\":\"group\"},                        {\"responsive\": true}                    ).then(function(){\n",
       "                            \n",
       "var gd = document.getElementById('3ed99baa-822c-45b4-ac06-5b5419f6633a');\n",
       "var x = new MutationObserver(function (mutations, observer) {{\n",
       "        var display = window.getComputedStyle(gd).display;\n",
       "        if (!display || display === 'none') {{\n",
       "            console.log([gd, 'removed!']);\n",
       "            Plotly.purge(gd);\n",
       "            observer.disconnect();\n",
       "        }}\n",
       "}});\n",
       "\n",
       "// Listen for the removal of the full notebook cells\n",
       "var notebookContainer = gd.closest('#notebook-container');\n",
       "if (notebookContainer) {{\n",
       "    x.observe(notebookContainer, {childList: true});\n",
       "}}\n",
       "\n",
       "// Listen for the clearing of the current output cell\n",
       "var outputEl = gd.closest('.output');\n",
       "if (outputEl) {{\n",
       "    x.observe(outputEl, {childList: true});\n",
       "}}\n",
       "\n",
       "                        })                };                });            </script>        </div>"
      ]
     },
     "metadata": {},
     "output_type": "display_data"
    }
   ],
   "source": [
    "fig = px.bar(CBRs, x=\"Region\", y=\"CBR\", color=\"Burden sharing regime\", barmode=\"group\",\n",
    "            title = \"CBR per BSR and the avoided damages\")\n",
    "    #facet_col = \"Region\",\n",
    "    #facet_col_wrap=3,\n",
    "    #height=2000)\n",
    "fig.update_yaxes(\n",
    "    title = 'CBR',\n",
    "    range = [0, 30])\n",
    "fig"
   ]
  },
  {
   "cell_type": "markdown",
   "id": "0bad6d99",
   "metadata": {},
   "source": [
    "# CBR plot 2150 "
   ]
  },
  {
   "cell_type": "code",
   "execution_count": 22,
   "id": "9796f557",
   "metadata": {},
   "outputs": [],
   "source": [
    "CBR_GF_2150 = pd.read_csv('CBR_GF_2150.csv').drop(['Unnamed: 0'], axis =1).set_index('Region')\n",
    "CBR_GF_2150 = CBR_GF_2150.join(Image_region)\n",
    "CBR_GF_2150 = CBR_GF_2150.sort_values(by = 'IMAGE_region_num').drop(columns = ['IMAGE_region_num'], axis =1).reset_index()\n",
    "CBR_GF_2150[\"Burden sharing\"] = \"GF\"\n",
    "\n",
    "\n",
    "CBR_IEPC_2150 = pd.read_csv('CBR_IEPC_2150.csv').drop(['Unnamed: 0'], axis =1).set_index('Region')\n",
    "CBR_IEPC_2150 = CBR_IEPC_2150.join(Image_region)\n",
    "CBR_IEPC_2150 = CBR_IEPC_2150.sort_values(by = 'IMAGE_region_num').drop(columns = ['IMAGE_region_num'], axis =1).reset_index()\n",
    "CBR_IEPC_2150[\"Burden sharing\"] = \"IEPC\"\n",
    "\n",
    "CBR_PCC_2150 = pd.read_csv('CBR_PCC_2150.csv').drop(['Unnamed: 0'], axis =1).set_index('Region')\n",
    "CBR_PCC_2150 = CBR_PCC_2150.join(Image_region)\n",
    "CBR_PCC_2150 = CBR_PCC_2150.sort_values(by = 'IMAGE_region_num').drop(columns = ['IMAGE_region_num'], axis =1).reset_index()\n",
    "CBR_PCC_2150[\"Burden sharing\"] = \"PCC\"\n",
    "\n",
    "CBR_AP_2150 = pd.read_csv('CBR_AP_2150.csv').drop(['Unnamed: 0'], axis =1).set_index('Region')\n",
    "CBR_AP_2150 = CBR_AP_2150.join(Image_region)\n",
    "CBR_AP_2150 = CBR_AP_2150.sort_values(by = 'IMAGE_region_num').drop(columns = ['IMAGE_region_num'], axis =1).reset_index()\n",
    "CBR_AP_2150[\"Burden sharing\"] = \"AP\"\n",
    "\n",
    "CBR_GDR_2150 = pd.read_csv('CBR_GDR_2150.csv').drop(['Unnamed: 0'], axis =1).set_index('Region')\n",
    "CBR_GDR_2150 = CBR_GDR_2150.join(Image_region)\n",
    "CBR_GDR_2150 = CBR_GDR_2150.sort_values(by = 'IMAGE_region_num').drop(columns = ['IMAGE_region_num'], axis =1).reset_index()\n",
    "CBR_GDR_2150[\"Burden sharing\"] = \"GDR\"\n",
    "\n",
    "CBR_mit = pd.read_csv('cbr_inequal_aversion.csv')\n",
    "CBR_mit = CBR_mit.drop(['Unnamed: 0'], axis =1)\n",
    "CBR_mit[ \"Burden sharing\"] = 'none'\n",
    "\n",
    "\n",
    "\n",
    "\n",
    "frames = [CBR_GF_2150, CBR_IEPC_2150, CBR_PCC_2150, CBR_AP_2150, CBR_GDR_2150, CBR_mit]\n",
    "CBRs_2150 = pd.concat(frames)\n",
    "CBRs_2150.to_csv('CBRs_2150.csv')"
   ]
  },
  {
   "cell_type": "code",
   "execution_count": 23,
   "id": "4bec197c",
   "metadata": {},
   "outputs": [
    {
     "data": {
      "application/vnd.plotly.v1+json": {
       "config": {
        "plotlyServerURL": "https://plot.ly"
       },
       "data": [
        {
         "hovertemplate": "Burden sharing=GF<br>Region=%{x}<br>CBR=%{y}<extra></extra>",
         "legendgroup": "GF",
         "marker": {
          "color": "#636efa",
          "symbol": "circle"
         },
         "mode": "markers",
         "name": "GF",
         "orientation": "v",
         "showlegend": true,
         "type": "scatter",
         "x": [
          "CAN",
          "USA",
          "MEX",
          "RCAM",
          "BRA",
          "RSAM",
          "NAF",
          "WAF",
          "EAF",
          "SAF",
          "WEU",
          "CEU",
          "TUR",
          "UKR",
          "STAN",
          "RUS",
          "ME",
          "INDIA",
          "KOR",
          "CHN",
          "SEAS",
          "INDO",
          "JAP",
          "OCE",
          "RSAS",
          "RSAF"
         ],
         "xaxis": "x",
         "y": [
          6.292057228770878,
          4.606472379735194,
          9.20376186350682,
          7.766264885023034,
          5.82884368895852,
          6.82573145923674,
          14.414066265436466,
          18.71121203873929,
          21.976918350925786,
          7.071442385260318,
          5.048707824485271,
          7.412312839869164,
          3.0874227231397526,
          2.052057052815396,
          2.177854764475341,
          2.214743879979632,
          1.8896839862251669,
          13.900202682437357,
          7.653898568966255,
          2.6443360003821934,
          9.90446430537366,
          11.498896460996036,
          8.097777541489286,
          9.5174038282254,
          8.464385469319557,
          14.557104104006154
         ],
         "yaxis": "y"
        },
        {
         "hovertemplate": "Burden sharing=IEPC<br>Region=%{x}<br>CBR=%{y}<extra></extra>",
         "legendgroup": "IEPC",
         "marker": {
          "color": "#EF553B",
          "symbol": "circle"
         },
         "mode": "markers",
         "name": "IEPC",
         "orientation": "v",
         "showlegend": true,
         "type": "scatter",
         "x": [
          "CAN",
          "USA",
          "MEX",
          "RCAM",
          "BRA",
          "RSAM",
          "NAF",
          "WAF",
          "EAF",
          "SAF",
          "WEU",
          "CEU",
          "TUR",
          "UKR",
          "STAN",
          "RUS",
          "ME",
          "INDIA",
          "KOR",
          "CHN",
          "SEAS",
          "INDO",
          "JAP",
          "OCE",
          "RSAS",
          "RSAF"
         ],
         "xaxis": "x",
         "y": [
          5.3279454706793485,
          3.5981929859327257,
          9.60012276478526,
          8.38477048886115,
          4.936921462043229,
          6.546517553341827,
          16.759681322269206,
          23.35995987162732,
          36.93792862295217,
          6.3071312383984965,
          4.595543892282367,
          6.298587044073436,
          3.115640209346053,
          1.7784941407200967,
          1.985858124731802,
          1.742216842018854,
          1.8651434419522477,
          16.793955804383927,
          5.149104970732406,
          1.8710697371517124,
          10.559873674123285,
          10.536852395823455,
          5.966548192641708,
          8.447579944391268,
          11.05200248242894,
          16.70014024998734
         ],
         "yaxis": "y"
        },
        {
         "hovertemplate": "Burden sharing=PCC<br>Region=%{x}<br>CBR=%{y}<extra></extra>",
         "legendgroup": "PCC",
         "marker": {
          "color": "#00cc96",
          "symbol": "circle"
         },
         "mode": "markers",
         "name": "PCC",
         "orientation": "v",
         "showlegend": true,
         "type": "scatter",
         "x": [
          "CAN",
          "USA",
          "MEX",
          "RCAM",
          "BRA",
          "RSAM",
          "NAF",
          "WAF",
          "EAF",
          "SAF",
          "WEU",
          "CEU",
          "TUR",
          "UKR",
          "STAN",
          "RUS",
          "ME",
          "INDIA",
          "KOR",
          "CHN",
          "SEAS",
          "INDO",
          "JAP",
          "OCE",
          "RSAS",
          "RSAF"
         ],
         "xaxis": "x",
         "y": [
          5.432705679968128,
          3.673585072910441,
          9.532775308884432,
          8.30733904940499,
          4.923567837702626,
          6.5131792132174455,
          16.594612590426404,
          23.060238996269277,
          35.23756961782729,
          6.356920967290039,
          4.630249510655887,
          6.333143123692516,
          3.128686057010358,
          1.7991142843211487,
          2.0167756609341296,
          1.7914592168481775,
          1.8802101110469471,
          16.465509149869856,
          5.297437491426066,
          1.905138876943086,
          10.506119242251104,
          10.575331313869006,
          6.043682471728533,
          8.532362967793274,
          10.75408029536372,
          16.646697893239466
         ],
         "yaxis": "y"
        },
        {
         "hovertemplate": "Burden sharing=AP<br>Region=%{x}<br>CBR=%{y}<extra></extra>",
         "legendgroup": "AP",
         "marker": {
          "color": "#ab63fa",
          "symbol": "circle"
         },
         "mode": "markers",
         "name": "AP",
         "orientation": "v",
         "showlegend": true,
         "type": "scatter",
         "x": [
          "CAN",
          "USA",
          "MEX",
          "RCAM",
          "BRA",
          "RSAM",
          "NAF",
          "WAF",
          "EAF",
          "SAF",
          "WEU",
          "CEU",
          "TUR",
          "UKR",
          "STAN",
          "RUS",
          "ME",
          "INDIA",
          "KOR",
          "CHN",
          "SEAS",
          "INDO",
          "JAP",
          "OCE",
          "RSAS",
          "RSAF"
         ],
         "xaxis": "x",
         "y": [
          5.074351159741444,
          3.5062660721026706,
          8.75989395347751,
          7.564447888842108,
          5.539874235340889,
          6.620553398753003,
          16.164039879082615,
          23.36457194675514,
          30.202520915655903,
          7.148087390848311,
          4.17226854246184,
          5.950253068649596,
          3.0139074987740213,
          2.0098990894043443,
          2.256897721877191,
          1.898126004589094,
          2.056917106896304,
          17.041476179904368,
          5.0827270095703385,
          1.8050815914618896,
          11.065441249980005,
          10.924381013785526,
          5.677033024710555,
          8.096277420527462,
          11.55855348957023,
          18.20017939017417
         ],
         "yaxis": "y"
        },
        {
         "hovertemplate": "Burden sharing=GDR<br>Region=%{x}<br>CBR=%{y}<extra></extra>",
         "legendgroup": "GDR",
         "marker": {
          "color": "#FFA15A",
          "symbol": "circle"
         },
         "mode": "markers",
         "name": "GDR",
         "orientation": "v",
         "showlegend": true,
         "type": "scatter",
         "x": [
          "CAN",
          "USA",
          "MEX",
          "RCAM",
          "BRA",
          "RSAM",
          "NAF",
          "WAF",
          "EAF",
          "SAF",
          "WEU",
          "CEU",
          "TUR",
          "UKR",
          "STAN",
          "RUS",
          "ME",
          "INDIA",
          "KOR",
          "CHN",
          "SEAS",
          "INDO",
          "JAP",
          "OCE",
          "RSAS",
          "RSAF"
         ],
         "xaxis": "x",
         "y": [
          4.960158408330732,
          3.4185561535106035,
          8.604783643941927,
          7.144697462777141,
          6.337400899050774,
          6.965035122024048,
          15.68542311524139,
          19.829403966622323,
          25.118722665159662,
          7.531462634239273,
          3.863196974057784,
          6.304147474004068,
          3.099198251317662,
          2.158782392714111,
          2.36720336045362,
          2.086489901976392,
          2.037034103052708,
          16.969847138287403,
          6.675298350882307,
          2.317639757742109,
          11.106074781762992,
          11.652307089296352,
          5.45609889175508,
          7.884841021154987,
          10.080824502530092,
          16.032071603381898
         ],
         "yaxis": "y"
        },
        {
         "hovertemplate": "Burden sharing=none<br>Region=%{x}<br>CBR=%{y}<extra></extra>",
         "legendgroup": "none",
         "marker": {
          "color": "#19d3f3",
          "symbol": "circle"
         },
         "mode": "markers",
         "name": "none",
         "orientation": "v",
         "showlegend": true,
         "type": "scatter",
         "x": [
          "CAN",
          "USA",
          "MEX",
          "RCAM",
          "BRA",
          "RSAM",
          "NAF",
          "WAF",
          "EAF",
          "SAF",
          "WEU",
          "CEU",
          "TUR",
          "UKR",
          "STAN",
          "RUS",
          "ME",
          "INDIA",
          "KOR",
          "CHN",
          "SEAS",
          "INDO",
          "JAP",
          "OCE",
          "RSAS",
          "RSAF"
         ],
         "xaxis": "x",
         "y": [
          6.401254773032864,
          4.131010793560047,
          8.98910722321183,
          8.824437580788242,
          3.5134456918305434,
          4.879483347747442,
          21.258051707069004,
          17.727672913004024,
          24.86083600448791,
          6.314555452641444,
          5.808822898155034,
          6.938729142054874,
          3.7974634332363912,
          2.099919824689215,
          2.8566686693529237,
          2.495931302185159,
          2.3314083195924598,
          15.610746748870742,
          6.137112745512851,
          1.926612792738839,
          10.825511504107183,
          10.835224149470958,
          6.426777737966579,
          7.778978217960751,
          10.41312454172709,
          18.081169229858155
         ],
         "yaxis": "y"
        }
       ],
       "layout": {
        "legend": {
         "title": {
          "text": "Burden sharing"
         },
         "tracegroupgap": 0
        },
        "template": {
         "data": {
          "bar": [
           {
            "error_x": {
             "color": "#2a3f5f"
            },
            "error_y": {
             "color": "#2a3f5f"
            },
            "marker": {
             "line": {
              "color": "#E5ECF6",
              "width": 0.5
             },
             "pattern": {
              "fillmode": "overlay",
              "size": 10,
              "solidity": 0.2
             }
            },
            "type": "bar"
           }
          ],
          "barpolar": [
           {
            "marker": {
             "line": {
              "color": "#E5ECF6",
              "width": 0.5
             },
             "pattern": {
              "fillmode": "overlay",
              "size": 10,
              "solidity": 0.2
             }
            },
            "type": "barpolar"
           }
          ],
          "carpet": [
           {
            "aaxis": {
             "endlinecolor": "#2a3f5f",
             "gridcolor": "white",
             "linecolor": "white",
             "minorgridcolor": "white",
             "startlinecolor": "#2a3f5f"
            },
            "baxis": {
             "endlinecolor": "#2a3f5f",
             "gridcolor": "white",
             "linecolor": "white",
             "minorgridcolor": "white",
             "startlinecolor": "#2a3f5f"
            },
            "type": "carpet"
           }
          ],
          "choropleth": [
           {
            "colorbar": {
             "outlinewidth": 0,
             "ticks": ""
            },
            "type": "choropleth"
           }
          ],
          "contour": [
           {
            "colorbar": {
             "outlinewidth": 0,
             "ticks": ""
            },
            "colorscale": [
             [
              0,
              "#0d0887"
             ],
             [
              0.1111111111111111,
              "#46039f"
             ],
             [
              0.2222222222222222,
              "#7201a8"
             ],
             [
              0.3333333333333333,
              "#9c179e"
             ],
             [
              0.4444444444444444,
              "#bd3786"
             ],
             [
              0.5555555555555556,
              "#d8576b"
             ],
             [
              0.6666666666666666,
              "#ed7953"
             ],
             [
              0.7777777777777778,
              "#fb9f3a"
             ],
             [
              0.8888888888888888,
              "#fdca26"
             ],
             [
              1,
              "#f0f921"
             ]
            ],
            "type": "contour"
           }
          ],
          "contourcarpet": [
           {
            "colorbar": {
             "outlinewidth": 0,
             "ticks": ""
            },
            "type": "contourcarpet"
           }
          ],
          "heatmap": [
           {
            "colorbar": {
             "outlinewidth": 0,
             "ticks": ""
            },
            "colorscale": [
             [
              0,
              "#0d0887"
             ],
             [
              0.1111111111111111,
              "#46039f"
             ],
             [
              0.2222222222222222,
              "#7201a8"
             ],
             [
              0.3333333333333333,
              "#9c179e"
             ],
             [
              0.4444444444444444,
              "#bd3786"
             ],
             [
              0.5555555555555556,
              "#d8576b"
             ],
             [
              0.6666666666666666,
              "#ed7953"
             ],
             [
              0.7777777777777778,
              "#fb9f3a"
             ],
             [
              0.8888888888888888,
              "#fdca26"
             ],
             [
              1,
              "#f0f921"
             ]
            ],
            "type": "heatmap"
           }
          ],
          "heatmapgl": [
           {
            "colorbar": {
             "outlinewidth": 0,
             "ticks": ""
            },
            "colorscale": [
             [
              0,
              "#0d0887"
             ],
             [
              0.1111111111111111,
              "#46039f"
             ],
             [
              0.2222222222222222,
              "#7201a8"
             ],
             [
              0.3333333333333333,
              "#9c179e"
             ],
             [
              0.4444444444444444,
              "#bd3786"
             ],
             [
              0.5555555555555556,
              "#d8576b"
             ],
             [
              0.6666666666666666,
              "#ed7953"
             ],
             [
              0.7777777777777778,
              "#fb9f3a"
             ],
             [
              0.8888888888888888,
              "#fdca26"
             ],
             [
              1,
              "#f0f921"
             ]
            ],
            "type": "heatmapgl"
           }
          ],
          "histogram": [
           {
            "marker": {
             "pattern": {
              "fillmode": "overlay",
              "size": 10,
              "solidity": 0.2
             }
            },
            "type": "histogram"
           }
          ],
          "histogram2d": [
           {
            "colorbar": {
             "outlinewidth": 0,
             "ticks": ""
            },
            "colorscale": [
             [
              0,
              "#0d0887"
             ],
             [
              0.1111111111111111,
              "#46039f"
             ],
             [
              0.2222222222222222,
              "#7201a8"
             ],
             [
              0.3333333333333333,
              "#9c179e"
             ],
             [
              0.4444444444444444,
              "#bd3786"
             ],
             [
              0.5555555555555556,
              "#d8576b"
             ],
             [
              0.6666666666666666,
              "#ed7953"
             ],
             [
              0.7777777777777778,
              "#fb9f3a"
             ],
             [
              0.8888888888888888,
              "#fdca26"
             ],
             [
              1,
              "#f0f921"
             ]
            ],
            "type": "histogram2d"
           }
          ],
          "histogram2dcontour": [
           {
            "colorbar": {
             "outlinewidth": 0,
             "ticks": ""
            },
            "colorscale": [
             [
              0,
              "#0d0887"
             ],
             [
              0.1111111111111111,
              "#46039f"
             ],
             [
              0.2222222222222222,
              "#7201a8"
             ],
             [
              0.3333333333333333,
              "#9c179e"
             ],
             [
              0.4444444444444444,
              "#bd3786"
             ],
             [
              0.5555555555555556,
              "#d8576b"
             ],
             [
              0.6666666666666666,
              "#ed7953"
             ],
             [
              0.7777777777777778,
              "#fb9f3a"
             ],
             [
              0.8888888888888888,
              "#fdca26"
             ],
             [
              1,
              "#f0f921"
             ]
            ],
            "type": "histogram2dcontour"
           }
          ],
          "mesh3d": [
           {
            "colorbar": {
             "outlinewidth": 0,
             "ticks": ""
            },
            "type": "mesh3d"
           }
          ],
          "parcoords": [
           {
            "line": {
             "colorbar": {
              "outlinewidth": 0,
              "ticks": ""
             }
            },
            "type": "parcoords"
           }
          ],
          "pie": [
           {
            "automargin": true,
            "type": "pie"
           }
          ],
          "scatter": [
           {
            "fillpattern": {
             "fillmode": "overlay",
             "size": 10,
             "solidity": 0.2
            },
            "type": "scatter"
           }
          ],
          "scatter3d": [
           {
            "line": {
             "colorbar": {
              "outlinewidth": 0,
              "ticks": ""
             }
            },
            "marker": {
             "colorbar": {
              "outlinewidth": 0,
              "ticks": ""
             }
            },
            "type": "scatter3d"
           }
          ],
          "scattercarpet": [
           {
            "marker": {
             "colorbar": {
              "outlinewidth": 0,
              "ticks": ""
             }
            },
            "type": "scattercarpet"
           }
          ],
          "scattergeo": [
           {
            "marker": {
             "colorbar": {
              "outlinewidth": 0,
              "ticks": ""
             }
            },
            "type": "scattergeo"
           }
          ],
          "scattergl": [
           {
            "marker": {
             "colorbar": {
              "outlinewidth": 0,
              "ticks": ""
             }
            },
            "type": "scattergl"
           }
          ],
          "scattermapbox": [
           {
            "marker": {
             "colorbar": {
              "outlinewidth": 0,
              "ticks": ""
             }
            },
            "type": "scattermapbox"
           }
          ],
          "scatterpolar": [
           {
            "marker": {
             "colorbar": {
              "outlinewidth": 0,
              "ticks": ""
             }
            },
            "type": "scatterpolar"
           }
          ],
          "scatterpolargl": [
           {
            "marker": {
             "colorbar": {
              "outlinewidth": 0,
              "ticks": ""
             }
            },
            "type": "scatterpolargl"
           }
          ],
          "scatterternary": [
           {
            "marker": {
             "colorbar": {
              "outlinewidth": 0,
              "ticks": ""
             }
            },
            "type": "scatterternary"
           }
          ],
          "surface": [
           {
            "colorbar": {
             "outlinewidth": 0,
             "ticks": ""
            },
            "colorscale": [
             [
              0,
              "#0d0887"
             ],
             [
              0.1111111111111111,
              "#46039f"
             ],
             [
              0.2222222222222222,
              "#7201a8"
             ],
             [
              0.3333333333333333,
              "#9c179e"
             ],
             [
              0.4444444444444444,
              "#bd3786"
             ],
             [
              0.5555555555555556,
              "#d8576b"
             ],
             [
              0.6666666666666666,
              "#ed7953"
             ],
             [
              0.7777777777777778,
              "#fb9f3a"
             ],
             [
              0.8888888888888888,
              "#fdca26"
             ],
             [
              1,
              "#f0f921"
             ]
            ],
            "type": "surface"
           }
          ],
          "table": [
           {
            "cells": {
             "fill": {
              "color": "#EBF0F8"
             },
             "line": {
              "color": "white"
             }
            },
            "header": {
             "fill": {
              "color": "#C8D4E3"
             },
             "line": {
              "color": "white"
             }
            },
            "type": "table"
           }
          ]
         },
         "layout": {
          "annotationdefaults": {
           "arrowcolor": "#2a3f5f",
           "arrowhead": 0,
           "arrowwidth": 1
          },
          "autotypenumbers": "strict",
          "coloraxis": {
           "colorbar": {
            "outlinewidth": 0,
            "ticks": ""
           }
          },
          "colorscale": {
           "diverging": [
            [
             0,
             "#8e0152"
            ],
            [
             0.1,
             "#c51b7d"
            ],
            [
             0.2,
             "#de77ae"
            ],
            [
             0.3,
             "#f1b6da"
            ],
            [
             0.4,
             "#fde0ef"
            ],
            [
             0.5,
             "#f7f7f7"
            ],
            [
             0.6,
             "#e6f5d0"
            ],
            [
             0.7,
             "#b8e186"
            ],
            [
             0.8,
             "#7fbc41"
            ],
            [
             0.9,
             "#4d9221"
            ],
            [
             1,
             "#276419"
            ]
           ],
           "sequential": [
            [
             0,
             "#0d0887"
            ],
            [
             0.1111111111111111,
             "#46039f"
            ],
            [
             0.2222222222222222,
             "#7201a8"
            ],
            [
             0.3333333333333333,
             "#9c179e"
            ],
            [
             0.4444444444444444,
             "#bd3786"
            ],
            [
             0.5555555555555556,
             "#d8576b"
            ],
            [
             0.6666666666666666,
             "#ed7953"
            ],
            [
             0.7777777777777778,
             "#fb9f3a"
            ],
            [
             0.8888888888888888,
             "#fdca26"
            ],
            [
             1,
             "#f0f921"
            ]
           ],
           "sequentialminus": [
            [
             0,
             "#0d0887"
            ],
            [
             0.1111111111111111,
             "#46039f"
            ],
            [
             0.2222222222222222,
             "#7201a8"
            ],
            [
             0.3333333333333333,
             "#9c179e"
            ],
            [
             0.4444444444444444,
             "#bd3786"
            ],
            [
             0.5555555555555556,
             "#d8576b"
            ],
            [
             0.6666666666666666,
             "#ed7953"
            ],
            [
             0.7777777777777778,
             "#fb9f3a"
            ],
            [
             0.8888888888888888,
             "#fdca26"
            ],
            [
             1,
             "#f0f921"
            ]
           ]
          },
          "colorway": [
           "#636efa",
           "#EF553B",
           "#00cc96",
           "#ab63fa",
           "#FFA15A",
           "#19d3f3",
           "#FF6692",
           "#B6E880",
           "#FF97FF",
           "#FECB52"
          ],
          "font": {
           "color": "#2a3f5f"
          },
          "geo": {
           "bgcolor": "white",
           "lakecolor": "white",
           "landcolor": "#E5ECF6",
           "showlakes": true,
           "showland": true,
           "subunitcolor": "white"
          },
          "hoverlabel": {
           "align": "left"
          },
          "hovermode": "closest",
          "mapbox": {
           "style": "light"
          },
          "paper_bgcolor": "white",
          "plot_bgcolor": "#E5ECF6",
          "polar": {
           "angularaxis": {
            "gridcolor": "white",
            "linecolor": "white",
            "ticks": ""
           },
           "bgcolor": "#E5ECF6",
           "radialaxis": {
            "gridcolor": "white",
            "linecolor": "white",
            "ticks": ""
           }
          },
          "scene": {
           "xaxis": {
            "backgroundcolor": "#E5ECF6",
            "gridcolor": "white",
            "gridwidth": 2,
            "linecolor": "white",
            "showbackground": true,
            "ticks": "",
            "zerolinecolor": "white"
           },
           "yaxis": {
            "backgroundcolor": "#E5ECF6",
            "gridcolor": "white",
            "gridwidth": 2,
            "linecolor": "white",
            "showbackground": true,
            "ticks": "",
            "zerolinecolor": "white"
           },
           "zaxis": {
            "backgroundcolor": "#E5ECF6",
            "gridcolor": "white",
            "gridwidth": 2,
            "linecolor": "white",
            "showbackground": true,
            "ticks": "",
            "zerolinecolor": "white"
           }
          },
          "shapedefaults": {
           "line": {
            "color": "#2a3f5f"
           }
          },
          "ternary": {
           "aaxis": {
            "gridcolor": "white",
            "linecolor": "white",
            "ticks": ""
           },
           "baxis": {
            "gridcolor": "white",
            "linecolor": "white",
            "ticks": ""
           },
           "bgcolor": "#E5ECF6",
           "caxis": {
            "gridcolor": "white",
            "linecolor": "white",
            "ticks": ""
           }
          },
          "title": {
           "x": 0.05
          },
          "xaxis": {
           "automargin": true,
           "gridcolor": "white",
           "linecolor": "white",
           "ticks": "",
           "title": {
            "standoff": 15
           },
           "zerolinecolor": "white",
           "zerolinewidth": 2
          },
          "yaxis": {
           "automargin": true,
           "gridcolor": "white",
           "linecolor": "white",
           "ticks": "",
           "title": {
            "standoff": 15
           },
           "zerolinecolor": "white",
           "zerolinewidth": 2
          }
         }
        },
        "title": {
         "text": "Cost Benefit Ratio per region per burden sharing regime for 2020-2150"
        },
        "xaxis": {
         "anchor": "y",
         "domain": [
          0,
          1
         ],
         "title": {
          "text": "Region"
         }
        },
        "yaxis": {
         "anchor": "x",
         "domain": [
          0,
          1
         ],
         "title": {
          "text": "CBR"
         }
        }
       }
      },
      "text/html": [
       "<div>                            <div id=\"a103c234-25ef-4da3-b3e3-be0523a279e3\" class=\"plotly-graph-div\" style=\"height:525px; width:100%;\"></div>            <script type=\"text/javascript\">                require([\"plotly\"], function(Plotly) {                    window.PLOTLYENV=window.PLOTLYENV || {};                                    if (document.getElementById(\"a103c234-25ef-4da3-b3e3-be0523a279e3\")) {                    Plotly.newPlot(                        \"a103c234-25ef-4da3-b3e3-be0523a279e3\",                        [{\"hovertemplate\":\"Burden sharing=GF<br>Region=%{x}<br>CBR=%{y}<extra></extra>\",\"legendgroup\":\"GF\",\"marker\":{\"color\":\"#636efa\",\"symbol\":\"circle\"},\"mode\":\"markers\",\"name\":\"GF\",\"orientation\":\"v\",\"showlegend\":true,\"x\":[\"CAN\",\"USA\",\"MEX\",\"RCAM\",\"BRA\",\"RSAM\",\"NAF\",\"WAF\",\"EAF\",\"SAF\",\"WEU\",\"CEU\",\"TUR\",\"UKR\",\"STAN\",\"RUS\",\"ME\",\"INDIA\",\"KOR\",\"CHN\",\"SEAS\",\"INDO\",\"JAP\",\"OCE\",\"RSAS\",\"RSAF\"],\"xaxis\":\"x\",\"y\":[6.292057228770878,4.606472379735194,9.20376186350682,7.766264885023034,5.82884368895852,6.82573145923674,14.414066265436466,18.71121203873929,21.976918350925786,7.071442385260318,5.048707824485271,7.412312839869164,3.0874227231397526,2.052057052815396,2.177854764475341,2.214743879979632,1.8896839862251669,13.900202682437357,7.653898568966255,2.6443360003821934,9.90446430537366,11.498896460996036,8.097777541489286,9.5174038282254,8.464385469319557,14.557104104006154],\"yaxis\":\"y\",\"type\":\"scatter\"},{\"hovertemplate\":\"Burden sharing=IEPC<br>Region=%{x}<br>CBR=%{y}<extra></extra>\",\"legendgroup\":\"IEPC\",\"marker\":{\"color\":\"#EF553B\",\"symbol\":\"circle\"},\"mode\":\"markers\",\"name\":\"IEPC\",\"orientation\":\"v\",\"showlegend\":true,\"x\":[\"CAN\",\"USA\",\"MEX\",\"RCAM\",\"BRA\",\"RSAM\",\"NAF\",\"WAF\",\"EAF\",\"SAF\",\"WEU\",\"CEU\",\"TUR\",\"UKR\",\"STAN\",\"RUS\",\"ME\",\"INDIA\",\"KOR\",\"CHN\",\"SEAS\",\"INDO\",\"JAP\",\"OCE\",\"RSAS\",\"RSAF\"],\"xaxis\":\"x\",\"y\":[5.3279454706793485,3.5981929859327257,9.60012276478526,8.38477048886115,4.936921462043229,6.546517553341827,16.759681322269206,23.35995987162732,36.93792862295217,6.3071312383984965,4.595543892282367,6.298587044073436,3.115640209346053,1.7784941407200967,1.985858124731802,1.742216842018854,1.8651434419522477,16.793955804383927,5.149104970732406,1.8710697371517124,10.559873674123285,10.536852395823455,5.966548192641708,8.447579944391268,11.05200248242894,16.70014024998734],\"yaxis\":\"y\",\"type\":\"scatter\"},{\"hovertemplate\":\"Burden sharing=PCC<br>Region=%{x}<br>CBR=%{y}<extra></extra>\",\"legendgroup\":\"PCC\",\"marker\":{\"color\":\"#00cc96\",\"symbol\":\"circle\"},\"mode\":\"markers\",\"name\":\"PCC\",\"orientation\":\"v\",\"showlegend\":true,\"x\":[\"CAN\",\"USA\",\"MEX\",\"RCAM\",\"BRA\",\"RSAM\",\"NAF\",\"WAF\",\"EAF\",\"SAF\",\"WEU\",\"CEU\",\"TUR\",\"UKR\",\"STAN\",\"RUS\",\"ME\",\"INDIA\",\"KOR\",\"CHN\",\"SEAS\",\"INDO\",\"JAP\",\"OCE\",\"RSAS\",\"RSAF\"],\"xaxis\":\"x\",\"y\":[5.432705679968128,3.673585072910441,9.532775308884432,8.30733904940499,4.923567837702626,6.5131792132174455,16.594612590426404,23.060238996269277,35.23756961782729,6.356920967290039,4.630249510655887,6.333143123692516,3.128686057010358,1.7991142843211487,2.0167756609341296,1.7914592168481775,1.8802101110469471,16.465509149869856,5.297437491426066,1.905138876943086,10.506119242251104,10.575331313869006,6.043682471728533,8.532362967793274,10.75408029536372,16.646697893239466],\"yaxis\":\"y\",\"type\":\"scatter\"},{\"hovertemplate\":\"Burden sharing=AP<br>Region=%{x}<br>CBR=%{y}<extra></extra>\",\"legendgroup\":\"AP\",\"marker\":{\"color\":\"#ab63fa\",\"symbol\":\"circle\"},\"mode\":\"markers\",\"name\":\"AP\",\"orientation\":\"v\",\"showlegend\":true,\"x\":[\"CAN\",\"USA\",\"MEX\",\"RCAM\",\"BRA\",\"RSAM\",\"NAF\",\"WAF\",\"EAF\",\"SAF\",\"WEU\",\"CEU\",\"TUR\",\"UKR\",\"STAN\",\"RUS\",\"ME\",\"INDIA\",\"KOR\",\"CHN\",\"SEAS\",\"INDO\",\"JAP\",\"OCE\",\"RSAS\",\"RSAF\"],\"xaxis\":\"x\",\"y\":[5.074351159741444,3.5062660721026706,8.75989395347751,7.564447888842108,5.539874235340889,6.620553398753003,16.164039879082615,23.36457194675514,30.202520915655903,7.148087390848311,4.17226854246184,5.950253068649596,3.0139074987740213,2.0098990894043443,2.256897721877191,1.898126004589094,2.056917106896304,17.041476179904368,5.0827270095703385,1.8050815914618896,11.065441249980005,10.924381013785526,5.677033024710555,8.096277420527462,11.55855348957023,18.20017939017417],\"yaxis\":\"y\",\"type\":\"scatter\"},{\"hovertemplate\":\"Burden sharing=GDR<br>Region=%{x}<br>CBR=%{y}<extra></extra>\",\"legendgroup\":\"GDR\",\"marker\":{\"color\":\"#FFA15A\",\"symbol\":\"circle\"},\"mode\":\"markers\",\"name\":\"GDR\",\"orientation\":\"v\",\"showlegend\":true,\"x\":[\"CAN\",\"USA\",\"MEX\",\"RCAM\",\"BRA\",\"RSAM\",\"NAF\",\"WAF\",\"EAF\",\"SAF\",\"WEU\",\"CEU\",\"TUR\",\"UKR\",\"STAN\",\"RUS\",\"ME\",\"INDIA\",\"KOR\",\"CHN\",\"SEAS\",\"INDO\",\"JAP\",\"OCE\",\"RSAS\",\"RSAF\"],\"xaxis\":\"x\",\"y\":[4.960158408330732,3.4185561535106035,8.604783643941927,7.144697462777141,6.337400899050774,6.965035122024048,15.68542311524139,19.829403966622323,25.118722665159662,7.531462634239273,3.863196974057784,6.304147474004068,3.099198251317662,2.158782392714111,2.36720336045362,2.086489901976392,2.037034103052708,16.969847138287403,6.675298350882307,2.317639757742109,11.106074781762992,11.652307089296352,5.45609889175508,7.884841021154987,10.080824502530092,16.032071603381898],\"yaxis\":\"y\",\"type\":\"scatter\"},{\"hovertemplate\":\"Burden sharing=none<br>Region=%{x}<br>CBR=%{y}<extra></extra>\",\"legendgroup\":\"none\",\"marker\":{\"color\":\"#19d3f3\",\"symbol\":\"circle\"},\"mode\":\"markers\",\"name\":\"none\",\"orientation\":\"v\",\"showlegend\":true,\"x\":[\"CAN\",\"USA\",\"MEX\",\"RCAM\",\"BRA\",\"RSAM\",\"NAF\",\"WAF\",\"EAF\",\"SAF\",\"WEU\",\"CEU\",\"TUR\",\"UKR\",\"STAN\",\"RUS\",\"ME\",\"INDIA\",\"KOR\",\"CHN\",\"SEAS\",\"INDO\",\"JAP\",\"OCE\",\"RSAS\",\"RSAF\"],\"xaxis\":\"x\",\"y\":[6.401254773032864,4.131010793560047,8.98910722321183,8.824437580788242,3.5134456918305434,4.879483347747442,21.258051707069004,17.727672913004024,24.86083600448791,6.314555452641444,5.808822898155034,6.938729142054874,3.7974634332363912,2.099919824689215,2.8566686693529237,2.495931302185159,2.3314083195924598,15.610746748870742,6.137112745512851,1.926612792738839,10.825511504107183,10.835224149470958,6.426777737966579,7.778978217960751,10.41312454172709,18.081169229858155],\"yaxis\":\"y\",\"type\":\"scatter\"}],                        {\"template\":{\"data\":{\"histogram2dcontour\":[{\"type\":\"histogram2dcontour\",\"colorbar\":{\"outlinewidth\":0,\"ticks\":\"\"},\"colorscale\":[[0.0,\"#0d0887\"],[0.1111111111111111,\"#46039f\"],[0.2222222222222222,\"#7201a8\"],[0.3333333333333333,\"#9c179e\"],[0.4444444444444444,\"#bd3786\"],[0.5555555555555556,\"#d8576b\"],[0.6666666666666666,\"#ed7953\"],[0.7777777777777778,\"#fb9f3a\"],[0.8888888888888888,\"#fdca26\"],[1.0,\"#f0f921\"]]}],\"choropleth\":[{\"type\":\"choropleth\",\"colorbar\":{\"outlinewidth\":0,\"ticks\":\"\"}}],\"histogram2d\":[{\"type\":\"histogram2d\",\"colorbar\":{\"outlinewidth\":0,\"ticks\":\"\"},\"colorscale\":[[0.0,\"#0d0887\"],[0.1111111111111111,\"#46039f\"],[0.2222222222222222,\"#7201a8\"],[0.3333333333333333,\"#9c179e\"],[0.4444444444444444,\"#bd3786\"],[0.5555555555555556,\"#d8576b\"],[0.6666666666666666,\"#ed7953\"],[0.7777777777777778,\"#fb9f3a\"],[0.8888888888888888,\"#fdca26\"],[1.0,\"#f0f921\"]]}],\"heatmap\":[{\"type\":\"heatmap\",\"colorbar\":{\"outlinewidth\":0,\"ticks\":\"\"},\"colorscale\":[[0.0,\"#0d0887\"],[0.1111111111111111,\"#46039f\"],[0.2222222222222222,\"#7201a8\"],[0.3333333333333333,\"#9c179e\"],[0.4444444444444444,\"#bd3786\"],[0.5555555555555556,\"#d8576b\"],[0.6666666666666666,\"#ed7953\"],[0.7777777777777778,\"#fb9f3a\"],[0.8888888888888888,\"#fdca26\"],[1.0,\"#f0f921\"]]}],\"heatmapgl\":[{\"type\":\"heatmapgl\",\"colorbar\":{\"outlinewidth\":0,\"ticks\":\"\"},\"colorscale\":[[0.0,\"#0d0887\"],[0.1111111111111111,\"#46039f\"],[0.2222222222222222,\"#7201a8\"],[0.3333333333333333,\"#9c179e\"],[0.4444444444444444,\"#bd3786\"],[0.5555555555555556,\"#d8576b\"],[0.6666666666666666,\"#ed7953\"],[0.7777777777777778,\"#fb9f3a\"],[0.8888888888888888,\"#fdca26\"],[1.0,\"#f0f921\"]]}],\"contourcarpet\":[{\"type\":\"contourcarpet\",\"colorbar\":{\"outlinewidth\":0,\"ticks\":\"\"}}],\"contour\":[{\"type\":\"contour\",\"colorbar\":{\"outlinewidth\":0,\"ticks\":\"\"},\"colorscale\":[[0.0,\"#0d0887\"],[0.1111111111111111,\"#46039f\"],[0.2222222222222222,\"#7201a8\"],[0.3333333333333333,\"#9c179e\"],[0.4444444444444444,\"#bd3786\"],[0.5555555555555556,\"#d8576b\"],[0.6666666666666666,\"#ed7953\"],[0.7777777777777778,\"#fb9f3a\"],[0.8888888888888888,\"#fdca26\"],[1.0,\"#f0f921\"]]}],\"surface\":[{\"type\":\"surface\",\"colorbar\":{\"outlinewidth\":0,\"ticks\":\"\"},\"colorscale\":[[0.0,\"#0d0887\"],[0.1111111111111111,\"#46039f\"],[0.2222222222222222,\"#7201a8\"],[0.3333333333333333,\"#9c179e\"],[0.4444444444444444,\"#bd3786\"],[0.5555555555555556,\"#d8576b\"],[0.6666666666666666,\"#ed7953\"],[0.7777777777777778,\"#fb9f3a\"],[0.8888888888888888,\"#fdca26\"],[1.0,\"#f0f921\"]]}],\"mesh3d\":[{\"type\":\"mesh3d\",\"colorbar\":{\"outlinewidth\":0,\"ticks\":\"\"}}],\"scatter\":[{\"fillpattern\":{\"fillmode\":\"overlay\",\"size\":10,\"solidity\":0.2},\"type\":\"scatter\"}],\"parcoords\":[{\"type\":\"parcoords\",\"line\":{\"colorbar\":{\"outlinewidth\":0,\"ticks\":\"\"}}}],\"scatterpolargl\":[{\"type\":\"scatterpolargl\",\"marker\":{\"colorbar\":{\"outlinewidth\":0,\"ticks\":\"\"}}}],\"bar\":[{\"error_x\":{\"color\":\"#2a3f5f\"},\"error_y\":{\"color\":\"#2a3f5f\"},\"marker\":{\"line\":{\"color\":\"#E5ECF6\",\"width\":0.5},\"pattern\":{\"fillmode\":\"overlay\",\"size\":10,\"solidity\":0.2}},\"type\":\"bar\"}],\"scattergeo\":[{\"type\":\"scattergeo\",\"marker\":{\"colorbar\":{\"outlinewidth\":0,\"ticks\":\"\"}}}],\"scatterpolar\":[{\"type\":\"scatterpolar\",\"marker\":{\"colorbar\":{\"outlinewidth\":0,\"ticks\":\"\"}}}],\"histogram\":[{\"marker\":{\"pattern\":{\"fillmode\":\"overlay\",\"size\":10,\"solidity\":0.2}},\"type\":\"histogram\"}],\"scattergl\":[{\"type\":\"scattergl\",\"marker\":{\"colorbar\":{\"outlinewidth\":0,\"ticks\":\"\"}}}],\"scatter3d\":[{\"type\":\"scatter3d\",\"line\":{\"colorbar\":{\"outlinewidth\":0,\"ticks\":\"\"}},\"marker\":{\"colorbar\":{\"outlinewidth\":0,\"ticks\":\"\"}}}],\"scattermapbox\":[{\"type\":\"scattermapbox\",\"marker\":{\"colorbar\":{\"outlinewidth\":0,\"ticks\":\"\"}}}],\"scatterternary\":[{\"type\":\"scatterternary\",\"marker\":{\"colorbar\":{\"outlinewidth\":0,\"ticks\":\"\"}}}],\"scattercarpet\":[{\"type\":\"scattercarpet\",\"marker\":{\"colorbar\":{\"outlinewidth\":0,\"ticks\":\"\"}}}],\"carpet\":[{\"aaxis\":{\"endlinecolor\":\"#2a3f5f\",\"gridcolor\":\"white\",\"linecolor\":\"white\",\"minorgridcolor\":\"white\",\"startlinecolor\":\"#2a3f5f\"},\"baxis\":{\"endlinecolor\":\"#2a3f5f\",\"gridcolor\":\"white\",\"linecolor\":\"white\",\"minorgridcolor\":\"white\",\"startlinecolor\":\"#2a3f5f\"},\"type\":\"carpet\"}],\"table\":[{\"cells\":{\"fill\":{\"color\":\"#EBF0F8\"},\"line\":{\"color\":\"white\"}},\"header\":{\"fill\":{\"color\":\"#C8D4E3\"},\"line\":{\"color\":\"white\"}},\"type\":\"table\"}],\"barpolar\":[{\"marker\":{\"line\":{\"color\":\"#E5ECF6\",\"width\":0.5},\"pattern\":{\"fillmode\":\"overlay\",\"size\":10,\"solidity\":0.2}},\"type\":\"barpolar\"}],\"pie\":[{\"automargin\":true,\"type\":\"pie\"}]},\"layout\":{\"autotypenumbers\":\"strict\",\"colorway\":[\"#636efa\",\"#EF553B\",\"#00cc96\",\"#ab63fa\",\"#FFA15A\",\"#19d3f3\",\"#FF6692\",\"#B6E880\",\"#FF97FF\",\"#FECB52\"],\"font\":{\"color\":\"#2a3f5f\"},\"hovermode\":\"closest\",\"hoverlabel\":{\"align\":\"left\"},\"paper_bgcolor\":\"white\",\"plot_bgcolor\":\"#E5ECF6\",\"polar\":{\"bgcolor\":\"#E5ECF6\",\"angularaxis\":{\"gridcolor\":\"white\",\"linecolor\":\"white\",\"ticks\":\"\"},\"radialaxis\":{\"gridcolor\":\"white\",\"linecolor\":\"white\",\"ticks\":\"\"}},\"ternary\":{\"bgcolor\":\"#E5ECF6\",\"aaxis\":{\"gridcolor\":\"white\",\"linecolor\":\"white\",\"ticks\":\"\"},\"baxis\":{\"gridcolor\":\"white\",\"linecolor\":\"white\",\"ticks\":\"\"},\"caxis\":{\"gridcolor\":\"white\",\"linecolor\":\"white\",\"ticks\":\"\"}},\"coloraxis\":{\"colorbar\":{\"outlinewidth\":0,\"ticks\":\"\"}},\"colorscale\":{\"sequential\":[[0.0,\"#0d0887\"],[0.1111111111111111,\"#46039f\"],[0.2222222222222222,\"#7201a8\"],[0.3333333333333333,\"#9c179e\"],[0.4444444444444444,\"#bd3786\"],[0.5555555555555556,\"#d8576b\"],[0.6666666666666666,\"#ed7953\"],[0.7777777777777778,\"#fb9f3a\"],[0.8888888888888888,\"#fdca26\"],[1.0,\"#f0f921\"]],\"sequentialminus\":[[0.0,\"#0d0887\"],[0.1111111111111111,\"#46039f\"],[0.2222222222222222,\"#7201a8\"],[0.3333333333333333,\"#9c179e\"],[0.4444444444444444,\"#bd3786\"],[0.5555555555555556,\"#d8576b\"],[0.6666666666666666,\"#ed7953\"],[0.7777777777777778,\"#fb9f3a\"],[0.8888888888888888,\"#fdca26\"],[1.0,\"#f0f921\"]],\"diverging\":[[0,\"#8e0152\"],[0.1,\"#c51b7d\"],[0.2,\"#de77ae\"],[0.3,\"#f1b6da\"],[0.4,\"#fde0ef\"],[0.5,\"#f7f7f7\"],[0.6,\"#e6f5d0\"],[0.7,\"#b8e186\"],[0.8,\"#7fbc41\"],[0.9,\"#4d9221\"],[1,\"#276419\"]]},\"xaxis\":{\"gridcolor\":\"white\",\"linecolor\":\"white\",\"ticks\":\"\",\"title\":{\"standoff\":15},\"zerolinecolor\":\"white\",\"automargin\":true,\"zerolinewidth\":2},\"yaxis\":{\"gridcolor\":\"white\",\"linecolor\":\"white\",\"ticks\":\"\",\"title\":{\"standoff\":15},\"zerolinecolor\":\"white\",\"automargin\":true,\"zerolinewidth\":2},\"scene\":{\"xaxis\":{\"backgroundcolor\":\"#E5ECF6\",\"gridcolor\":\"white\",\"linecolor\":\"white\",\"showbackground\":true,\"ticks\":\"\",\"zerolinecolor\":\"white\",\"gridwidth\":2},\"yaxis\":{\"backgroundcolor\":\"#E5ECF6\",\"gridcolor\":\"white\",\"linecolor\":\"white\",\"showbackground\":true,\"ticks\":\"\",\"zerolinecolor\":\"white\",\"gridwidth\":2},\"zaxis\":{\"backgroundcolor\":\"#E5ECF6\",\"gridcolor\":\"white\",\"linecolor\":\"white\",\"showbackground\":true,\"ticks\":\"\",\"zerolinecolor\":\"white\",\"gridwidth\":2}},\"shapedefaults\":{\"line\":{\"color\":\"#2a3f5f\"}},\"annotationdefaults\":{\"arrowcolor\":\"#2a3f5f\",\"arrowhead\":0,\"arrowwidth\":1},\"geo\":{\"bgcolor\":\"white\",\"landcolor\":\"#E5ECF6\",\"subunitcolor\":\"white\",\"showland\":true,\"showlakes\":true,\"lakecolor\":\"white\"},\"title\":{\"x\":0.05},\"mapbox\":{\"style\":\"light\"}}},\"xaxis\":{\"anchor\":\"y\",\"domain\":[0.0,1.0],\"title\":{\"text\":\"Region\"}},\"yaxis\":{\"anchor\":\"x\",\"domain\":[0.0,1.0],\"title\":{\"text\":\"CBR\"}},\"legend\":{\"title\":{\"text\":\"Burden sharing\"},\"tracegroupgap\":0},\"title\":{\"text\":\"Cost Benefit Ratio per region per burden sharing regime for 2020-2150\"}},                        {\"responsive\": true}                    ).then(function(){\n",
       "                            \n",
       "var gd = document.getElementById('a103c234-25ef-4da3-b3e3-be0523a279e3');\n",
       "var x = new MutationObserver(function (mutations, observer) {{\n",
       "        var display = window.getComputedStyle(gd).display;\n",
       "        if (!display || display === 'none') {{\n",
       "            console.log([gd, 'removed!']);\n",
       "            Plotly.purge(gd);\n",
       "            observer.disconnect();\n",
       "        }}\n",
       "}});\n",
       "\n",
       "// Listen for the removal of the full notebook cells\n",
       "var notebookContainer = gd.closest('#notebook-container');\n",
       "if (notebookContainer) {{\n",
       "    x.observe(notebookContainer, {childList: true});\n",
       "}}\n",
       "\n",
       "// Listen for the clearing of the current output cell\n",
       "var outputEl = gd.closest('.output');\n",
       "if (outputEl) {{\n",
       "    x.observe(outputEl, {childList: true});\n",
       "}}\n",
       "\n",
       "                        })                };                });            </script>        </div>"
      ]
     },
     "metadata": {},
     "output_type": "display_data"
    }
   ],
   "source": [
    "#CBR \n",
    "CBRs_plot_2150 = px.scatter(CBRs_2150, \n",
    "                       x= 'Region',\n",
    "                       y= 'CBR', \n",
    "                       color = 'Burden sharing',\n",
    "                       title = 'Cost Benefit Ratio per region per burden sharing regime for 2020-2150',\n",
    "                      labels = { \"variable\": \"Burden Sharing Regime\"})\n",
    "\n",
    "CBRs_plot_2150.update_xaxes(\n",
    "   title = \"Region\"\n",
    ")\n",
    "\n",
    "CBRs_plot_2150.update_yaxes(\n",
    "   title = \"CBR\"\n",
    ")\n",
    "\n",
    "CBRs_plot_2150"
   ]
  },
  {
   "cell_type": "code",
   "execution_count": 11,
   "id": "ebdeab66",
   "metadata": {},
   "outputs": [
    {
     "data": {
      "application/vnd.plotly.v1+json": {
       "config": {
        "plotlyServerURL": "https://plot.ly"
       },
       "data": [
        {
         "alignmentgroup": "True",
         "hovertemplate": "Burden sharing=GF<br>Region=%{x}<br>CBR=%{y}<extra></extra>",
         "legendgroup": "GF",
         "marker": {
          "color": "#636efa",
          "pattern": {
           "shape": ""
          }
         },
         "name": "GF",
         "offsetgroup": "GF",
         "orientation": "v",
         "showlegend": true,
         "textposition": "auto",
         "type": "bar",
         "x": [
          "CAN",
          "USA",
          "MEX",
          "RCAM",
          "BRA",
          "RSAM",
          "NAF",
          "WAF",
          "EAF",
          "SAF",
          "WEU",
          "CEU",
          "TUR",
          "UKR",
          "STAN",
          "RUS",
          "ME",
          "INDIA",
          "KOR",
          "CHN",
          "SEAS",
          "INDO",
          "JAP",
          "OCE",
          "RSAS",
          "RSAF"
         ],
         "xaxis": "x",
         "y": [
          6.292057228770878,
          4.606472379735194,
          9.20376186350682,
          7.766264885023034,
          5.82884368895852,
          6.82573145923674,
          14.414066265436466,
          18.71121203873929,
          21.976918350925786,
          7.071442385260318,
          5.048707824485271,
          7.412312839869164,
          3.0874227231397526,
          2.052057052815396,
          2.177854764475341,
          2.214743879979632,
          1.8896839862251669,
          13.900202682437357,
          7.653898568966255,
          2.6443360003821934,
          9.90446430537366,
          11.498896460996036,
          8.097777541489286,
          9.5174038282254,
          8.464385469319557,
          14.557104104006154
         ],
         "yaxis": "y"
        },
        {
         "alignmentgroup": "True",
         "hovertemplate": "Burden sharing=IEPC<br>Region=%{x}<br>CBR=%{y}<extra></extra>",
         "legendgroup": "IEPC",
         "marker": {
          "color": "#EF553B",
          "pattern": {
           "shape": ""
          }
         },
         "name": "IEPC",
         "offsetgroup": "IEPC",
         "orientation": "v",
         "showlegend": true,
         "textposition": "auto",
         "type": "bar",
         "x": [
          "CAN",
          "USA",
          "MEX",
          "RCAM",
          "BRA",
          "RSAM",
          "NAF",
          "WAF",
          "EAF",
          "SAF",
          "WEU",
          "CEU",
          "TUR",
          "UKR",
          "STAN",
          "RUS",
          "ME",
          "INDIA",
          "KOR",
          "CHN",
          "SEAS",
          "INDO",
          "JAP",
          "OCE",
          "RSAS",
          "RSAF"
         ],
         "xaxis": "x",
         "y": [
          5.3279454706793485,
          3.5981929859327257,
          9.60012276478526,
          8.38477048886115,
          4.936921462043229,
          6.546517553341827,
          16.759681322269206,
          23.35995987162732,
          36.93792862295217,
          6.3071312383984965,
          4.595543892282367,
          6.298587044073436,
          3.115640209346053,
          1.7784941407200967,
          1.985858124731802,
          1.742216842018854,
          1.8651434419522477,
          16.793955804383927,
          5.149104970732406,
          1.8710697371517124,
          10.559873674123285,
          10.536852395823455,
          5.966548192641708,
          8.447579944391268,
          11.05200248242894,
          16.70014024998734
         ],
         "yaxis": "y"
        },
        {
         "alignmentgroup": "True",
         "hovertemplate": "Burden sharing=PCC<br>Region=%{x}<br>CBR=%{y}<extra></extra>",
         "legendgroup": "PCC",
         "marker": {
          "color": "#00cc96",
          "pattern": {
           "shape": ""
          }
         },
         "name": "PCC",
         "offsetgroup": "PCC",
         "orientation": "v",
         "showlegend": true,
         "textposition": "auto",
         "type": "bar",
         "x": [
          "CAN",
          "USA",
          "MEX",
          "RCAM",
          "BRA",
          "RSAM",
          "NAF",
          "WAF",
          "EAF",
          "SAF",
          "WEU",
          "CEU",
          "TUR",
          "UKR",
          "STAN",
          "RUS",
          "ME",
          "INDIA",
          "KOR",
          "CHN",
          "SEAS",
          "INDO",
          "JAP",
          "OCE",
          "RSAS",
          "RSAF"
         ],
         "xaxis": "x",
         "y": [
          5.432705679968128,
          3.673585072910441,
          9.532775308884432,
          8.30733904940499,
          4.923567837702626,
          6.5131792132174455,
          16.594612590426404,
          23.060238996269277,
          35.23756961782729,
          6.356920967290039,
          4.630249510655887,
          6.333143123692516,
          3.128686057010358,
          1.7991142843211487,
          2.0167756609341296,
          1.7914592168481775,
          1.8802101110469471,
          16.465509149869856,
          5.297437491426066,
          1.905138876943086,
          10.506119242251104,
          10.575331313869006,
          6.043682471728533,
          8.532362967793274,
          10.75408029536372,
          16.646697893239466
         ],
         "yaxis": "y"
        },
        {
         "alignmentgroup": "True",
         "hovertemplate": "Burden sharing=AP<br>Region=%{x}<br>CBR=%{y}<extra></extra>",
         "legendgroup": "AP",
         "marker": {
          "color": "#ab63fa",
          "pattern": {
           "shape": ""
          }
         },
         "name": "AP",
         "offsetgroup": "AP",
         "orientation": "v",
         "showlegend": true,
         "textposition": "auto",
         "type": "bar",
         "x": [
          "CAN",
          "USA",
          "MEX",
          "RCAM",
          "BRA",
          "RSAM",
          "NAF",
          "WAF",
          "EAF",
          "SAF",
          "WEU",
          "CEU",
          "TUR",
          "UKR",
          "STAN",
          "RUS",
          "ME",
          "INDIA",
          "KOR",
          "CHN",
          "SEAS",
          "INDO",
          "JAP",
          "OCE",
          "RSAS",
          "RSAF"
         ],
         "xaxis": "x",
         "y": [
          5.074351159741444,
          3.5062660721026706,
          8.75989395347751,
          7.564447888842108,
          5.539874235340889,
          6.620553398753003,
          16.164039879082615,
          23.36457194675514,
          30.202520915655903,
          7.148087390848311,
          4.17226854246184,
          5.950253068649596,
          3.0139074987740213,
          2.0098990894043443,
          2.256897721877191,
          1.898126004589094,
          2.056917106896304,
          17.041476179904368,
          5.0827270095703385,
          1.8050815914618896,
          11.065441249980005,
          10.924381013785526,
          5.677033024710555,
          8.096277420527462,
          11.55855348957023,
          18.20017939017417
         ],
         "yaxis": "y"
        },
        {
         "alignmentgroup": "True",
         "hovertemplate": "Burden sharing=GDR<br>Region=%{x}<br>CBR=%{y}<extra></extra>",
         "legendgroup": "GDR",
         "marker": {
          "color": "#FFA15A",
          "pattern": {
           "shape": ""
          }
         },
         "name": "GDR",
         "offsetgroup": "GDR",
         "orientation": "v",
         "showlegend": true,
         "textposition": "auto",
         "type": "bar",
         "x": [
          "CAN",
          "USA",
          "MEX",
          "RCAM",
          "BRA",
          "RSAM",
          "NAF",
          "WAF",
          "EAF",
          "SAF",
          "WEU",
          "CEU",
          "TUR",
          "UKR",
          "STAN",
          "RUS",
          "ME",
          "INDIA",
          "KOR",
          "CHN",
          "SEAS",
          "INDO",
          "JAP",
          "OCE",
          "RSAS",
          "RSAF"
         ],
         "xaxis": "x",
         "y": [
          4.960158408330732,
          3.4185561535106035,
          8.604783643941927,
          7.144697462777141,
          6.337400899050774,
          6.965035122024048,
          15.68542311524139,
          19.829403966622323,
          25.118722665159662,
          7.531462634239273,
          3.863196974057784,
          6.304147474004068,
          3.099198251317662,
          2.158782392714111,
          2.36720336045362,
          2.086489901976392,
          2.037034103052708,
          16.969847138287403,
          6.675298350882307,
          2.317639757742109,
          11.106074781762992,
          11.652307089296352,
          5.45609889175508,
          7.884841021154987,
          10.080824502530092,
          16.032071603381898
         ],
         "yaxis": "y"
        },
        {
         "alignmentgroup": "True",
         "hovertemplate": "Burden sharing=none<br>Region=%{x}<br>CBR=%{y}<extra></extra>",
         "legendgroup": "none",
         "marker": {
          "color": "#19d3f3",
          "pattern": {
           "shape": ""
          }
         },
         "name": "none",
         "offsetgroup": "none",
         "orientation": "v",
         "showlegend": true,
         "textposition": "auto",
         "type": "bar",
         "x": [
          "CAN",
          "USA",
          "MEX",
          "RCAM",
          "BRA",
          "RSAM",
          "NAF",
          "WAF",
          "EAF",
          "SAF",
          "WEU",
          "CEU",
          "TUR",
          "UKR",
          "STAN",
          "RUS",
          "ME",
          "INDIA",
          "KOR",
          "CHN",
          "SEAS",
          "INDO",
          "JAP",
          "OCE",
          "RSAS",
          "RSAF"
         ],
         "xaxis": "x",
         "y": [
          6.401254773032864,
          4.131010793560047,
          8.98910722321183,
          8.824437580788242,
          3.5134456918305434,
          4.879483347747442,
          21.258051707069004,
          17.727672913004024,
          24.86083600448791,
          6.314555452641444,
          5.808822898155034,
          6.938729142054874,
          3.7974634332363912,
          2.099919824689215,
          2.8566686693529237,
          2.495931302185159,
          2.3314083195924598,
          15.610746748870742,
          6.137112745512851,
          1.926612792738839,
          10.825511504107183,
          10.835224149470958,
          6.426777737966579,
          7.778978217960751,
          10.41312454172709,
          18.081169229858155
         ],
         "yaxis": "y"
        }
       ],
       "layout": {
        "barmode": "group",
        "legend": {
         "title": {
          "text": "Burden sharing"
         },
         "tracegroupgap": 0
        },
        "template": {
         "data": {
          "bar": [
           {
            "error_x": {
             "color": "#2a3f5f"
            },
            "error_y": {
             "color": "#2a3f5f"
            },
            "marker": {
             "line": {
              "color": "#E5ECF6",
              "width": 0.5
             },
             "pattern": {
              "fillmode": "overlay",
              "size": 10,
              "solidity": 0.2
             }
            },
            "type": "bar"
           }
          ],
          "barpolar": [
           {
            "marker": {
             "line": {
              "color": "#E5ECF6",
              "width": 0.5
             },
             "pattern": {
              "fillmode": "overlay",
              "size": 10,
              "solidity": 0.2
             }
            },
            "type": "barpolar"
           }
          ],
          "carpet": [
           {
            "aaxis": {
             "endlinecolor": "#2a3f5f",
             "gridcolor": "white",
             "linecolor": "white",
             "minorgridcolor": "white",
             "startlinecolor": "#2a3f5f"
            },
            "baxis": {
             "endlinecolor": "#2a3f5f",
             "gridcolor": "white",
             "linecolor": "white",
             "minorgridcolor": "white",
             "startlinecolor": "#2a3f5f"
            },
            "type": "carpet"
           }
          ],
          "choropleth": [
           {
            "colorbar": {
             "outlinewidth": 0,
             "ticks": ""
            },
            "type": "choropleth"
           }
          ],
          "contour": [
           {
            "colorbar": {
             "outlinewidth": 0,
             "ticks": ""
            },
            "colorscale": [
             [
              0,
              "#0d0887"
             ],
             [
              0.1111111111111111,
              "#46039f"
             ],
             [
              0.2222222222222222,
              "#7201a8"
             ],
             [
              0.3333333333333333,
              "#9c179e"
             ],
             [
              0.4444444444444444,
              "#bd3786"
             ],
             [
              0.5555555555555556,
              "#d8576b"
             ],
             [
              0.6666666666666666,
              "#ed7953"
             ],
             [
              0.7777777777777778,
              "#fb9f3a"
             ],
             [
              0.8888888888888888,
              "#fdca26"
             ],
             [
              1,
              "#f0f921"
             ]
            ],
            "type": "contour"
           }
          ],
          "contourcarpet": [
           {
            "colorbar": {
             "outlinewidth": 0,
             "ticks": ""
            },
            "type": "contourcarpet"
           }
          ],
          "heatmap": [
           {
            "colorbar": {
             "outlinewidth": 0,
             "ticks": ""
            },
            "colorscale": [
             [
              0,
              "#0d0887"
             ],
             [
              0.1111111111111111,
              "#46039f"
             ],
             [
              0.2222222222222222,
              "#7201a8"
             ],
             [
              0.3333333333333333,
              "#9c179e"
             ],
             [
              0.4444444444444444,
              "#bd3786"
             ],
             [
              0.5555555555555556,
              "#d8576b"
             ],
             [
              0.6666666666666666,
              "#ed7953"
             ],
             [
              0.7777777777777778,
              "#fb9f3a"
             ],
             [
              0.8888888888888888,
              "#fdca26"
             ],
             [
              1,
              "#f0f921"
             ]
            ],
            "type": "heatmap"
           }
          ],
          "heatmapgl": [
           {
            "colorbar": {
             "outlinewidth": 0,
             "ticks": ""
            },
            "colorscale": [
             [
              0,
              "#0d0887"
             ],
             [
              0.1111111111111111,
              "#46039f"
             ],
             [
              0.2222222222222222,
              "#7201a8"
             ],
             [
              0.3333333333333333,
              "#9c179e"
             ],
             [
              0.4444444444444444,
              "#bd3786"
             ],
             [
              0.5555555555555556,
              "#d8576b"
             ],
             [
              0.6666666666666666,
              "#ed7953"
             ],
             [
              0.7777777777777778,
              "#fb9f3a"
             ],
             [
              0.8888888888888888,
              "#fdca26"
             ],
             [
              1,
              "#f0f921"
             ]
            ],
            "type": "heatmapgl"
           }
          ],
          "histogram": [
           {
            "marker": {
             "pattern": {
              "fillmode": "overlay",
              "size": 10,
              "solidity": 0.2
             }
            },
            "type": "histogram"
           }
          ],
          "histogram2d": [
           {
            "colorbar": {
             "outlinewidth": 0,
             "ticks": ""
            },
            "colorscale": [
             [
              0,
              "#0d0887"
             ],
             [
              0.1111111111111111,
              "#46039f"
             ],
             [
              0.2222222222222222,
              "#7201a8"
             ],
             [
              0.3333333333333333,
              "#9c179e"
             ],
             [
              0.4444444444444444,
              "#bd3786"
             ],
             [
              0.5555555555555556,
              "#d8576b"
             ],
             [
              0.6666666666666666,
              "#ed7953"
             ],
             [
              0.7777777777777778,
              "#fb9f3a"
             ],
             [
              0.8888888888888888,
              "#fdca26"
             ],
             [
              1,
              "#f0f921"
             ]
            ],
            "type": "histogram2d"
           }
          ],
          "histogram2dcontour": [
           {
            "colorbar": {
             "outlinewidth": 0,
             "ticks": ""
            },
            "colorscale": [
             [
              0,
              "#0d0887"
             ],
             [
              0.1111111111111111,
              "#46039f"
             ],
             [
              0.2222222222222222,
              "#7201a8"
             ],
             [
              0.3333333333333333,
              "#9c179e"
             ],
             [
              0.4444444444444444,
              "#bd3786"
             ],
             [
              0.5555555555555556,
              "#d8576b"
             ],
             [
              0.6666666666666666,
              "#ed7953"
             ],
             [
              0.7777777777777778,
              "#fb9f3a"
             ],
             [
              0.8888888888888888,
              "#fdca26"
             ],
             [
              1,
              "#f0f921"
             ]
            ],
            "type": "histogram2dcontour"
           }
          ],
          "mesh3d": [
           {
            "colorbar": {
             "outlinewidth": 0,
             "ticks": ""
            },
            "type": "mesh3d"
           }
          ],
          "parcoords": [
           {
            "line": {
             "colorbar": {
              "outlinewidth": 0,
              "ticks": ""
             }
            },
            "type": "parcoords"
           }
          ],
          "pie": [
           {
            "automargin": true,
            "type": "pie"
           }
          ],
          "scatter": [
           {
            "fillpattern": {
             "fillmode": "overlay",
             "size": 10,
             "solidity": 0.2
            },
            "type": "scatter"
           }
          ],
          "scatter3d": [
           {
            "line": {
             "colorbar": {
              "outlinewidth": 0,
              "ticks": ""
             }
            },
            "marker": {
             "colorbar": {
              "outlinewidth": 0,
              "ticks": ""
             }
            },
            "type": "scatter3d"
           }
          ],
          "scattercarpet": [
           {
            "marker": {
             "colorbar": {
              "outlinewidth": 0,
              "ticks": ""
             }
            },
            "type": "scattercarpet"
           }
          ],
          "scattergeo": [
           {
            "marker": {
             "colorbar": {
              "outlinewidth": 0,
              "ticks": ""
             }
            },
            "type": "scattergeo"
           }
          ],
          "scattergl": [
           {
            "marker": {
             "colorbar": {
              "outlinewidth": 0,
              "ticks": ""
             }
            },
            "type": "scattergl"
           }
          ],
          "scattermapbox": [
           {
            "marker": {
             "colorbar": {
              "outlinewidth": 0,
              "ticks": ""
             }
            },
            "type": "scattermapbox"
           }
          ],
          "scatterpolar": [
           {
            "marker": {
             "colorbar": {
              "outlinewidth": 0,
              "ticks": ""
             }
            },
            "type": "scatterpolar"
           }
          ],
          "scatterpolargl": [
           {
            "marker": {
             "colorbar": {
              "outlinewidth": 0,
              "ticks": ""
             }
            },
            "type": "scatterpolargl"
           }
          ],
          "scatterternary": [
           {
            "marker": {
             "colorbar": {
              "outlinewidth": 0,
              "ticks": ""
             }
            },
            "type": "scatterternary"
           }
          ],
          "surface": [
           {
            "colorbar": {
             "outlinewidth": 0,
             "ticks": ""
            },
            "colorscale": [
             [
              0,
              "#0d0887"
             ],
             [
              0.1111111111111111,
              "#46039f"
             ],
             [
              0.2222222222222222,
              "#7201a8"
             ],
             [
              0.3333333333333333,
              "#9c179e"
             ],
             [
              0.4444444444444444,
              "#bd3786"
             ],
             [
              0.5555555555555556,
              "#d8576b"
             ],
             [
              0.6666666666666666,
              "#ed7953"
             ],
             [
              0.7777777777777778,
              "#fb9f3a"
             ],
             [
              0.8888888888888888,
              "#fdca26"
             ],
             [
              1,
              "#f0f921"
             ]
            ],
            "type": "surface"
           }
          ],
          "table": [
           {
            "cells": {
             "fill": {
              "color": "#EBF0F8"
             },
             "line": {
              "color": "white"
             }
            },
            "header": {
             "fill": {
              "color": "#C8D4E3"
             },
             "line": {
              "color": "white"
             }
            },
            "type": "table"
           }
          ]
         },
         "layout": {
          "annotationdefaults": {
           "arrowcolor": "#2a3f5f",
           "arrowhead": 0,
           "arrowwidth": 1
          },
          "autotypenumbers": "strict",
          "coloraxis": {
           "colorbar": {
            "outlinewidth": 0,
            "ticks": ""
           }
          },
          "colorscale": {
           "diverging": [
            [
             0,
             "#8e0152"
            ],
            [
             0.1,
             "#c51b7d"
            ],
            [
             0.2,
             "#de77ae"
            ],
            [
             0.3,
             "#f1b6da"
            ],
            [
             0.4,
             "#fde0ef"
            ],
            [
             0.5,
             "#f7f7f7"
            ],
            [
             0.6,
             "#e6f5d0"
            ],
            [
             0.7,
             "#b8e186"
            ],
            [
             0.8,
             "#7fbc41"
            ],
            [
             0.9,
             "#4d9221"
            ],
            [
             1,
             "#276419"
            ]
           ],
           "sequential": [
            [
             0,
             "#0d0887"
            ],
            [
             0.1111111111111111,
             "#46039f"
            ],
            [
             0.2222222222222222,
             "#7201a8"
            ],
            [
             0.3333333333333333,
             "#9c179e"
            ],
            [
             0.4444444444444444,
             "#bd3786"
            ],
            [
             0.5555555555555556,
             "#d8576b"
            ],
            [
             0.6666666666666666,
             "#ed7953"
            ],
            [
             0.7777777777777778,
             "#fb9f3a"
            ],
            [
             0.8888888888888888,
             "#fdca26"
            ],
            [
             1,
             "#f0f921"
            ]
           ],
           "sequentialminus": [
            [
             0,
             "#0d0887"
            ],
            [
             0.1111111111111111,
             "#46039f"
            ],
            [
             0.2222222222222222,
             "#7201a8"
            ],
            [
             0.3333333333333333,
             "#9c179e"
            ],
            [
             0.4444444444444444,
             "#bd3786"
            ],
            [
             0.5555555555555556,
             "#d8576b"
            ],
            [
             0.6666666666666666,
             "#ed7953"
            ],
            [
             0.7777777777777778,
             "#fb9f3a"
            ],
            [
             0.8888888888888888,
             "#fdca26"
            ],
            [
             1,
             "#f0f921"
            ]
           ]
          },
          "colorway": [
           "#636efa",
           "#EF553B",
           "#00cc96",
           "#ab63fa",
           "#FFA15A",
           "#19d3f3",
           "#FF6692",
           "#B6E880",
           "#FF97FF",
           "#FECB52"
          ],
          "font": {
           "color": "#2a3f5f"
          },
          "geo": {
           "bgcolor": "white",
           "lakecolor": "white",
           "landcolor": "#E5ECF6",
           "showlakes": true,
           "showland": true,
           "subunitcolor": "white"
          },
          "hoverlabel": {
           "align": "left"
          },
          "hovermode": "closest",
          "mapbox": {
           "style": "light"
          },
          "paper_bgcolor": "white",
          "plot_bgcolor": "#E5ECF6",
          "polar": {
           "angularaxis": {
            "gridcolor": "white",
            "linecolor": "white",
            "ticks": ""
           },
           "bgcolor": "#E5ECF6",
           "radialaxis": {
            "gridcolor": "white",
            "linecolor": "white",
            "ticks": ""
           }
          },
          "scene": {
           "xaxis": {
            "backgroundcolor": "#E5ECF6",
            "gridcolor": "white",
            "gridwidth": 2,
            "linecolor": "white",
            "showbackground": true,
            "ticks": "",
            "zerolinecolor": "white"
           },
           "yaxis": {
            "backgroundcolor": "#E5ECF6",
            "gridcolor": "white",
            "gridwidth": 2,
            "linecolor": "white",
            "showbackground": true,
            "ticks": "",
            "zerolinecolor": "white"
           },
           "zaxis": {
            "backgroundcolor": "#E5ECF6",
            "gridcolor": "white",
            "gridwidth": 2,
            "linecolor": "white",
            "showbackground": true,
            "ticks": "",
            "zerolinecolor": "white"
           }
          },
          "shapedefaults": {
           "line": {
            "color": "#2a3f5f"
           }
          },
          "ternary": {
           "aaxis": {
            "gridcolor": "white",
            "linecolor": "white",
            "ticks": ""
           },
           "baxis": {
            "gridcolor": "white",
            "linecolor": "white",
            "ticks": ""
           },
           "bgcolor": "#E5ECF6",
           "caxis": {
            "gridcolor": "white",
            "linecolor": "white",
            "ticks": ""
           }
          },
          "title": {
           "x": 0.05
          },
          "xaxis": {
           "automargin": true,
           "gridcolor": "white",
           "linecolor": "white",
           "ticks": "",
           "title": {
            "standoff": 15
           },
           "zerolinecolor": "white",
           "zerolinewidth": 2
          },
          "yaxis": {
           "automargin": true,
           "gridcolor": "white",
           "linecolor": "white",
           "ticks": "",
           "title": {
            "standoff": 15
           },
           "zerolinecolor": "white",
           "zerolinewidth": 2
          }
         }
        },
        "title": {
         "text": "CBR per BSR and the avoided damages"
        },
        "xaxis": {
         "anchor": "y",
         "domain": [
          0,
          1
         ],
         "title": {
          "text": "Region"
         }
        },
        "yaxis": {
         "anchor": "x",
         "domain": [
          0,
          1
         ],
         "range": [
          0,
          40
         ],
         "title": {
          "text": "CBR"
         }
        }
       }
      },
      "text/html": [
       "<div>                            <div id=\"ee58654f-a282-4799-8023-ad0acc4466dd\" class=\"plotly-graph-div\" style=\"height:525px; width:100%;\"></div>            <script type=\"text/javascript\">                require([\"plotly\"], function(Plotly) {                    window.PLOTLYENV=window.PLOTLYENV || {};                                    if (document.getElementById(\"ee58654f-a282-4799-8023-ad0acc4466dd\")) {                    Plotly.newPlot(                        \"ee58654f-a282-4799-8023-ad0acc4466dd\",                        [{\"alignmentgroup\":\"True\",\"hovertemplate\":\"Burden sharing=GF<br>Region=%{x}<br>CBR=%{y}<extra></extra>\",\"legendgroup\":\"GF\",\"marker\":{\"color\":\"#636efa\",\"pattern\":{\"shape\":\"\"}},\"name\":\"GF\",\"offsetgroup\":\"GF\",\"orientation\":\"v\",\"showlegend\":true,\"textposition\":\"auto\",\"x\":[\"CAN\",\"USA\",\"MEX\",\"RCAM\",\"BRA\",\"RSAM\",\"NAF\",\"WAF\",\"EAF\",\"SAF\",\"WEU\",\"CEU\",\"TUR\",\"UKR\",\"STAN\",\"RUS\",\"ME\",\"INDIA\",\"KOR\",\"CHN\",\"SEAS\",\"INDO\",\"JAP\",\"OCE\",\"RSAS\",\"RSAF\"],\"xaxis\":\"x\",\"y\":[6.292057228770878,4.606472379735194,9.20376186350682,7.766264885023034,5.82884368895852,6.82573145923674,14.414066265436466,18.71121203873929,21.976918350925786,7.071442385260318,5.048707824485271,7.412312839869164,3.0874227231397526,2.052057052815396,2.177854764475341,2.214743879979632,1.8896839862251669,13.900202682437357,7.653898568966255,2.6443360003821934,9.90446430537366,11.498896460996036,8.097777541489286,9.5174038282254,8.464385469319557,14.557104104006154],\"yaxis\":\"y\",\"type\":\"bar\"},{\"alignmentgroup\":\"True\",\"hovertemplate\":\"Burden sharing=IEPC<br>Region=%{x}<br>CBR=%{y}<extra></extra>\",\"legendgroup\":\"IEPC\",\"marker\":{\"color\":\"#EF553B\",\"pattern\":{\"shape\":\"\"}},\"name\":\"IEPC\",\"offsetgroup\":\"IEPC\",\"orientation\":\"v\",\"showlegend\":true,\"textposition\":\"auto\",\"x\":[\"CAN\",\"USA\",\"MEX\",\"RCAM\",\"BRA\",\"RSAM\",\"NAF\",\"WAF\",\"EAF\",\"SAF\",\"WEU\",\"CEU\",\"TUR\",\"UKR\",\"STAN\",\"RUS\",\"ME\",\"INDIA\",\"KOR\",\"CHN\",\"SEAS\",\"INDO\",\"JAP\",\"OCE\",\"RSAS\",\"RSAF\"],\"xaxis\":\"x\",\"y\":[5.3279454706793485,3.5981929859327257,9.60012276478526,8.38477048886115,4.936921462043229,6.546517553341827,16.759681322269206,23.35995987162732,36.93792862295217,6.3071312383984965,4.595543892282367,6.298587044073436,3.115640209346053,1.7784941407200967,1.985858124731802,1.742216842018854,1.8651434419522477,16.793955804383927,5.149104970732406,1.8710697371517124,10.559873674123285,10.536852395823455,5.966548192641708,8.447579944391268,11.05200248242894,16.70014024998734],\"yaxis\":\"y\",\"type\":\"bar\"},{\"alignmentgroup\":\"True\",\"hovertemplate\":\"Burden sharing=PCC<br>Region=%{x}<br>CBR=%{y}<extra></extra>\",\"legendgroup\":\"PCC\",\"marker\":{\"color\":\"#00cc96\",\"pattern\":{\"shape\":\"\"}},\"name\":\"PCC\",\"offsetgroup\":\"PCC\",\"orientation\":\"v\",\"showlegend\":true,\"textposition\":\"auto\",\"x\":[\"CAN\",\"USA\",\"MEX\",\"RCAM\",\"BRA\",\"RSAM\",\"NAF\",\"WAF\",\"EAF\",\"SAF\",\"WEU\",\"CEU\",\"TUR\",\"UKR\",\"STAN\",\"RUS\",\"ME\",\"INDIA\",\"KOR\",\"CHN\",\"SEAS\",\"INDO\",\"JAP\",\"OCE\",\"RSAS\",\"RSAF\"],\"xaxis\":\"x\",\"y\":[5.432705679968128,3.673585072910441,9.532775308884432,8.30733904940499,4.923567837702626,6.5131792132174455,16.594612590426404,23.060238996269277,35.23756961782729,6.356920967290039,4.630249510655887,6.333143123692516,3.128686057010358,1.7991142843211487,2.0167756609341296,1.7914592168481775,1.8802101110469471,16.465509149869856,5.297437491426066,1.905138876943086,10.506119242251104,10.575331313869006,6.043682471728533,8.532362967793274,10.75408029536372,16.646697893239466],\"yaxis\":\"y\",\"type\":\"bar\"},{\"alignmentgroup\":\"True\",\"hovertemplate\":\"Burden sharing=AP<br>Region=%{x}<br>CBR=%{y}<extra></extra>\",\"legendgroup\":\"AP\",\"marker\":{\"color\":\"#ab63fa\",\"pattern\":{\"shape\":\"\"}},\"name\":\"AP\",\"offsetgroup\":\"AP\",\"orientation\":\"v\",\"showlegend\":true,\"textposition\":\"auto\",\"x\":[\"CAN\",\"USA\",\"MEX\",\"RCAM\",\"BRA\",\"RSAM\",\"NAF\",\"WAF\",\"EAF\",\"SAF\",\"WEU\",\"CEU\",\"TUR\",\"UKR\",\"STAN\",\"RUS\",\"ME\",\"INDIA\",\"KOR\",\"CHN\",\"SEAS\",\"INDO\",\"JAP\",\"OCE\",\"RSAS\",\"RSAF\"],\"xaxis\":\"x\",\"y\":[5.074351159741444,3.5062660721026706,8.75989395347751,7.564447888842108,5.539874235340889,6.620553398753003,16.164039879082615,23.36457194675514,30.202520915655903,7.148087390848311,4.17226854246184,5.950253068649596,3.0139074987740213,2.0098990894043443,2.256897721877191,1.898126004589094,2.056917106896304,17.041476179904368,5.0827270095703385,1.8050815914618896,11.065441249980005,10.924381013785526,5.677033024710555,8.096277420527462,11.55855348957023,18.20017939017417],\"yaxis\":\"y\",\"type\":\"bar\"},{\"alignmentgroup\":\"True\",\"hovertemplate\":\"Burden sharing=GDR<br>Region=%{x}<br>CBR=%{y}<extra></extra>\",\"legendgroup\":\"GDR\",\"marker\":{\"color\":\"#FFA15A\",\"pattern\":{\"shape\":\"\"}},\"name\":\"GDR\",\"offsetgroup\":\"GDR\",\"orientation\":\"v\",\"showlegend\":true,\"textposition\":\"auto\",\"x\":[\"CAN\",\"USA\",\"MEX\",\"RCAM\",\"BRA\",\"RSAM\",\"NAF\",\"WAF\",\"EAF\",\"SAF\",\"WEU\",\"CEU\",\"TUR\",\"UKR\",\"STAN\",\"RUS\",\"ME\",\"INDIA\",\"KOR\",\"CHN\",\"SEAS\",\"INDO\",\"JAP\",\"OCE\",\"RSAS\",\"RSAF\"],\"xaxis\":\"x\",\"y\":[4.960158408330732,3.4185561535106035,8.604783643941927,7.144697462777141,6.337400899050774,6.965035122024048,15.68542311524139,19.829403966622323,25.118722665159662,7.531462634239273,3.863196974057784,6.304147474004068,3.099198251317662,2.158782392714111,2.36720336045362,2.086489901976392,2.037034103052708,16.969847138287403,6.675298350882307,2.317639757742109,11.106074781762992,11.652307089296352,5.45609889175508,7.884841021154987,10.080824502530092,16.032071603381898],\"yaxis\":\"y\",\"type\":\"bar\"},{\"alignmentgroup\":\"True\",\"hovertemplate\":\"Burden sharing=none<br>Region=%{x}<br>CBR=%{y}<extra></extra>\",\"legendgroup\":\"none\",\"marker\":{\"color\":\"#19d3f3\",\"pattern\":{\"shape\":\"\"}},\"name\":\"none\",\"offsetgroup\":\"none\",\"orientation\":\"v\",\"showlegend\":true,\"textposition\":\"auto\",\"x\":[\"CAN\",\"USA\",\"MEX\",\"RCAM\",\"BRA\",\"RSAM\",\"NAF\",\"WAF\",\"EAF\",\"SAF\",\"WEU\",\"CEU\",\"TUR\",\"UKR\",\"STAN\",\"RUS\",\"ME\",\"INDIA\",\"KOR\",\"CHN\",\"SEAS\",\"INDO\",\"JAP\",\"OCE\",\"RSAS\",\"RSAF\"],\"xaxis\":\"x\",\"y\":[6.401254773032864,4.131010793560047,8.98910722321183,8.824437580788242,3.5134456918305434,4.879483347747442,21.258051707069004,17.727672913004024,24.86083600448791,6.314555452641444,5.808822898155034,6.938729142054874,3.7974634332363912,2.099919824689215,2.8566686693529237,2.495931302185159,2.3314083195924598,15.610746748870742,6.137112745512851,1.926612792738839,10.825511504107183,10.835224149470958,6.426777737966579,7.778978217960751,10.41312454172709,18.081169229858155],\"yaxis\":\"y\",\"type\":\"bar\"}],                        {\"template\":{\"data\":{\"histogram2dcontour\":[{\"type\":\"histogram2dcontour\",\"colorbar\":{\"outlinewidth\":0,\"ticks\":\"\"},\"colorscale\":[[0.0,\"#0d0887\"],[0.1111111111111111,\"#46039f\"],[0.2222222222222222,\"#7201a8\"],[0.3333333333333333,\"#9c179e\"],[0.4444444444444444,\"#bd3786\"],[0.5555555555555556,\"#d8576b\"],[0.6666666666666666,\"#ed7953\"],[0.7777777777777778,\"#fb9f3a\"],[0.8888888888888888,\"#fdca26\"],[1.0,\"#f0f921\"]]}],\"choropleth\":[{\"type\":\"choropleth\",\"colorbar\":{\"outlinewidth\":0,\"ticks\":\"\"}}],\"histogram2d\":[{\"type\":\"histogram2d\",\"colorbar\":{\"outlinewidth\":0,\"ticks\":\"\"},\"colorscale\":[[0.0,\"#0d0887\"],[0.1111111111111111,\"#46039f\"],[0.2222222222222222,\"#7201a8\"],[0.3333333333333333,\"#9c179e\"],[0.4444444444444444,\"#bd3786\"],[0.5555555555555556,\"#d8576b\"],[0.6666666666666666,\"#ed7953\"],[0.7777777777777778,\"#fb9f3a\"],[0.8888888888888888,\"#fdca26\"],[1.0,\"#f0f921\"]]}],\"heatmap\":[{\"type\":\"heatmap\",\"colorbar\":{\"outlinewidth\":0,\"ticks\":\"\"},\"colorscale\":[[0.0,\"#0d0887\"],[0.1111111111111111,\"#46039f\"],[0.2222222222222222,\"#7201a8\"],[0.3333333333333333,\"#9c179e\"],[0.4444444444444444,\"#bd3786\"],[0.5555555555555556,\"#d8576b\"],[0.6666666666666666,\"#ed7953\"],[0.7777777777777778,\"#fb9f3a\"],[0.8888888888888888,\"#fdca26\"],[1.0,\"#f0f921\"]]}],\"heatmapgl\":[{\"type\":\"heatmapgl\",\"colorbar\":{\"outlinewidth\":0,\"ticks\":\"\"},\"colorscale\":[[0.0,\"#0d0887\"],[0.1111111111111111,\"#46039f\"],[0.2222222222222222,\"#7201a8\"],[0.3333333333333333,\"#9c179e\"],[0.4444444444444444,\"#bd3786\"],[0.5555555555555556,\"#d8576b\"],[0.6666666666666666,\"#ed7953\"],[0.7777777777777778,\"#fb9f3a\"],[0.8888888888888888,\"#fdca26\"],[1.0,\"#f0f921\"]]}],\"contourcarpet\":[{\"type\":\"contourcarpet\",\"colorbar\":{\"outlinewidth\":0,\"ticks\":\"\"}}],\"contour\":[{\"type\":\"contour\",\"colorbar\":{\"outlinewidth\":0,\"ticks\":\"\"},\"colorscale\":[[0.0,\"#0d0887\"],[0.1111111111111111,\"#46039f\"],[0.2222222222222222,\"#7201a8\"],[0.3333333333333333,\"#9c179e\"],[0.4444444444444444,\"#bd3786\"],[0.5555555555555556,\"#d8576b\"],[0.6666666666666666,\"#ed7953\"],[0.7777777777777778,\"#fb9f3a\"],[0.8888888888888888,\"#fdca26\"],[1.0,\"#f0f921\"]]}],\"surface\":[{\"type\":\"surface\",\"colorbar\":{\"outlinewidth\":0,\"ticks\":\"\"},\"colorscale\":[[0.0,\"#0d0887\"],[0.1111111111111111,\"#46039f\"],[0.2222222222222222,\"#7201a8\"],[0.3333333333333333,\"#9c179e\"],[0.4444444444444444,\"#bd3786\"],[0.5555555555555556,\"#d8576b\"],[0.6666666666666666,\"#ed7953\"],[0.7777777777777778,\"#fb9f3a\"],[0.8888888888888888,\"#fdca26\"],[1.0,\"#f0f921\"]]}],\"mesh3d\":[{\"type\":\"mesh3d\",\"colorbar\":{\"outlinewidth\":0,\"ticks\":\"\"}}],\"scatter\":[{\"fillpattern\":{\"fillmode\":\"overlay\",\"size\":10,\"solidity\":0.2},\"type\":\"scatter\"}],\"parcoords\":[{\"type\":\"parcoords\",\"line\":{\"colorbar\":{\"outlinewidth\":0,\"ticks\":\"\"}}}],\"scatterpolargl\":[{\"type\":\"scatterpolargl\",\"marker\":{\"colorbar\":{\"outlinewidth\":0,\"ticks\":\"\"}}}],\"bar\":[{\"error_x\":{\"color\":\"#2a3f5f\"},\"error_y\":{\"color\":\"#2a3f5f\"},\"marker\":{\"line\":{\"color\":\"#E5ECF6\",\"width\":0.5},\"pattern\":{\"fillmode\":\"overlay\",\"size\":10,\"solidity\":0.2}},\"type\":\"bar\"}],\"scattergeo\":[{\"type\":\"scattergeo\",\"marker\":{\"colorbar\":{\"outlinewidth\":0,\"ticks\":\"\"}}}],\"scatterpolar\":[{\"type\":\"scatterpolar\",\"marker\":{\"colorbar\":{\"outlinewidth\":0,\"ticks\":\"\"}}}],\"histogram\":[{\"marker\":{\"pattern\":{\"fillmode\":\"overlay\",\"size\":10,\"solidity\":0.2}},\"type\":\"histogram\"}],\"scattergl\":[{\"type\":\"scattergl\",\"marker\":{\"colorbar\":{\"outlinewidth\":0,\"ticks\":\"\"}}}],\"scatter3d\":[{\"type\":\"scatter3d\",\"line\":{\"colorbar\":{\"outlinewidth\":0,\"ticks\":\"\"}},\"marker\":{\"colorbar\":{\"outlinewidth\":0,\"ticks\":\"\"}}}],\"scattermapbox\":[{\"type\":\"scattermapbox\",\"marker\":{\"colorbar\":{\"outlinewidth\":0,\"ticks\":\"\"}}}],\"scatterternary\":[{\"type\":\"scatterternary\",\"marker\":{\"colorbar\":{\"outlinewidth\":0,\"ticks\":\"\"}}}],\"scattercarpet\":[{\"type\":\"scattercarpet\",\"marker\":{\"colorbar\":{\"outlinewidth\":0,\"ticks\":\"\"}}}],\"carpet\":[{\"aaxis\":{\"endlinecolor\":\"#2a3f5f\",\"gridcolor\":\"white\",\"linecolor\":\"white\",\"minorgridcolor\":\"white\",\"startlinecolor\":\"#2a3f5f\"},\"baxis\":{\"endlinecolor\":\"#2a3f5f\",\"gridcolor\":\"white\",\"linecolor\":\"white\",\"minorgridcolor\":\"white\",\"startlinecolor\":\"#2a3f5f\"},\"type\":\"carpet\"}],\"table\":[{\"cells\":{\"fill\":{\"color\":\"#EBF0F8\"},\"line\":{\"color\":\"white\"}},\"header\":{\"fill\":{\"color\":\"#C8D4E3\"},\"line\":{\"color\":\"white\"}},\"type\":\"table\"}],\"barpolar\":[{\"marker\":{\"line\":{\"color\":\"#E5ECF6\",\"width\":0.5},\"pattern\":{\"fillmode\":\"overlay\",\"size\":10,\"solidity\":0.2}},\"type\":\"barpolar\"}],\"pie\":[{\"automargin\":true,\"type\":\"pie\"}]},\"layout\":{\"autotypenumbers\":\"strict\",\"colorway\":[\"#636efa\",\"#EF553B\",\"#00cc96\",\"#ab63fa\",\"#FFA15A\",\"#19d3f3\",\"#FF6692\",\"#B6E880\",\"#FF97FF\",\"#FECB52\"],\"font\":{\"color\":\"#2a3f5f\"},\"hovermode\":\"closest\",\"hoverlabel\":{\"align\":\"left\"},\"paper_bgcolor\":\"white\",\"plot_bgcolor\":\"#E5ECF6\",\"polar\":{\"bgcolor\":\"#E5ECF6\",\"angularaxis\":{\"gridcolor\":\"white\",\"linecolor\":\"white\",\"ticks\":\"\"},\"radialaxis\":{\"gridcolor\":\"white\",\"linecolor\":\"white\",\"ticks\":\"\"}},\"ternary\":{\"bgcolor\":\"#E5ECF6\",\"aaxis\":{\"gridcolor\":\"white\",\"linecolor\":\"white\",\"ticks\":\"\"},\"baxis\":{\"gridcolor\":\"white\",\"linecolor\":\"white\",\"ticks\":\"\"},\"caxis\":{\"gridcolor\":\"white\",\"linecolor\":\"white\",\"ticks\":\"\"}},\"coloraxis\":{\"colorbar\":{\"outlinewidth\":0,\"ticks\":\"\"}},\"colorscale\":{\"sequential\":[[0.0,\"#0d0887\"],[0.1111111111111111,\"#46039f\"],[0.2222222222222222,\"#7201a8\"],[0.3333333333333333,\"#9c179e\"],[0.4444444444444444,\"#bd3786\"],[0.5555555555555556,\"#d8576b\"],[0.6666666666666666,\"#ed7953\"],[0.7777777777777778,\"#fb9f3a\"],[0.8888888888888888,\"#fdca26\"],[1.0,\"#f0f921\"]],\"sequentialminus\":[[0.0,\"#0d0887\"],[0.1111111111111111,\"#46039f\"],[0.2222222222222222,\"#7201a8\"],[0.3333333333333333,\"#9c179e\"],[0.4444444444444444,\"#bd3786\"],[0.5555555555555556,\"#d8576b\"],[0.6666666666666666,\"#ed7953\"],[0.7777777777777778,\"#fb9f3a\"],[0.8888888888888888,\"#fdca26\"],[1.0,\"#f0f921\"]],\"diverging\":[[0,\"#8e0152\"],[0.1,\"#c51b7d\"],[0.2,\"#de77ae\"],[0.3,\"#f1b6da\"],[0.4,\"#fde0ef\"],[0.5,\"#f7f7f7\"],[0.6,\"#e6f5d0\"],[0.7,\"#b8e186\"],[0.8,\"#7fbc41\"],[0.9,\"#4d9221\"],[1,\"#276419\"]]},\"xaxis\":{\"gridcolor\":\"white\",\"linecolor\":\"white\",\"ticks\":\"\",\"title\":{\"standoff\":15},\"zerolinecolor\":\"white\",\"automargin\":true,\"zerolinewidth\":2},\"yaxis\":{\"gridcolor\":\"white\",\"linecolor\":\"white\",\"ticks\":\"\",\"title\":{\"standoff\":15},\"zerolinecolor\":\"white\",\"automargin\":true,\"zerolinewidth\":2},\"scene\":{\"xaxis\":{\"backgroundcolor\":\"#E5ECF6\",\"gridcolor\":\"white\",\"linecolor\":\"white\",\"showbackground\":true,\"ticks\":\"\",\"zerolinecolor\":\"white\",\"gridwidth\":2},\"yaxis\":{\"backgroundcolor\":\"#E5ECF6\",\"gridcolor\":\"white\",\"linecolor\":\"white\",\"showbackground\":true,\"ticks\":\"\",\"zerolinecolor\":\"white\",\"gridwidth\":2},\"zaxis\":{\"backgroundcolor\":\"#E5ECF6\",\"gridcolor\":\"white\",\"linecolor\":\"white\",\"showbackground\":true,\"ticks\":\"\",\"zerolinecolor\":\"white\",\"gridwidth\":2}},\"shapedefaults\":{\"line\":{\"color\":\"#2a3f5f\"}},\"annotationdefaults\":{\"arrowcolor\":\"#2a3f5f\",\"arrowhead\":0,\"arrowwidth\":1},\"geo\":{\"bgcolor\":\"white\",\"landcolor\":\"#E5ECF6\",\"subunitcolor\":\"white\",\"showland\":true,\"showlakes\":true,\"lakecolor\":\"white\"},\"title\":{\"x\":0.05},\"mapbox\":{\"style\":\"light\"}}},\"xaxis\":{\"anchor\":\"y\",\"domain\":[0.0,1.0],\"title\":{\"text\":\"Region\"}},\"yaxis\":{\"anchor\":\"x\",\"domain\":[0.0,1.0],\"title\":{\"text\":\"CBR\"},\"range\":[0,40]},\"legend\":{\"title\":{\"text\":\"Burden sharing\"},\"tracegroupgap\":0},\"title\":{\"text\":\"CBR per BSR and the avoided damages\"},\"barmode\":\"group\"},                        {\"responsive\": true}                    ).then(function(){\n",
       "                            \n",
       "var gd = document.getElementById('ee58654f-a282-4799-8023-ad0acc4466dd');\n",
       "var x = new MutationObserver(function (mutations, observer) {{\n",
       "        var display = window.getComputedStyle(gd).display;\n",
       "        if (!display || display === 'none') {{\n",
       "            console.log([gd, 'removed!']);\n",
       "            Plotly.purge(gd);\n",
       "            observer.disconnect();\n",
       "        }}\n",
       "}});\n",
       "\n",
       "// Listen for the removal of the full notebook cells\n",
       "var notebookContainer = gd.closest('#notebook-container');\n",
       "if (notebookContainer) {{\n",
       "    x.observe(notebookContainer, {childList: true});\n",
       "}}\n",
       "\n",
       "// Listen for the clearing of the current output cell\n",
       "var outputEl = gd.closest('.output');\n",
       "if (outputEl) {{\n",
       "    x.observe(outputEl, {childList: true});\n",
       "}}\n",
       "\n",
       "                        })                };                });            </script>        </div>"
      ]
     },
     "metadata": {},
     "output_type": "display_data"
    }
   ],
   "source": [
    "fig = px.bar(CBRs_2150, x=\"Region\", y=\"CBR\", color=\"Burden sharing\", barmode=\"group\",\n",
    "            title = \"CBR per BSR and the avoided damages\")\n",
    "    #facet_col = \"Region\",\n",
    "    #facet_col_wrap=3,\n",
    "    #height=2000)\n",
    "fig.update_yaxes(\n",
    "    title = 'CBR',\n",
    "    range = [0, 40])\n",
    "fig"
   ]
  },
  {
   "cell_type": "markdown",
   "id": "d3960846",
   "metadata": {},
   "source": [
    "# CBR global "
   ]
  },
  {
   "cell_type": "code",
   "execution_count": 12,
   "id": "494e52e0",
   "metadata": {},
   "outputs": [],
   "source": [
    "CBR_global_AP = pd.read_csv(\"CBR_global_AP_2100.csv\")\n",
    "CBR_global_AP ['Burden sharing'] = \"AP\"\n",
    "CBR_global_GF = pd.read_csv(\"CBR_global_mit_GF2100.csv\")\n",
    "CBR_global_GF ['Burden sharing'] = \"GF\"\n",
    "CBR_global_IEPC = pd.read_csv(\"CBR_global_mit_IEPC2100.csv\")\n",
    "CBR_global_IEPC ['Burden sharing'] = \"IEPC\"\n",
    "CBR_global_PCC = pd.read_csv(\"CBR_global_mit_PCC2100.csv\")\n",
    "CBR_global_PCC ['Burden sharing'] = \"PCC\"\n",
    "CBR_global_GDR = pd.read_csv(\"CBR_global_mit_GDR2100.csv\")\n",
    "CBR_global_GDR ['Burden sharing'] = \"GDR\"\n",
    "CBR_global_mit = pd.read_csv(\"CBR_global_mit2100.csv\")\n",
    "CBR_global_mit ['Burden sharing'] = \"none\""
   ]
  },
  {
   "cell_type": "code",
   "execution_count": 13,
   "id": "5e949c93",
   "metadata": {},
   "outputs": [
    {
     "data": {
      "text/html": [
       "<div>\n",
       "<style scoped>\n",
       "    .dataframe tbody tr th:only-of-type {\n",
       "        vertical-align: middle;\n",
       "    }\n",
       "\n",
       "    .dataframe tbody tr th {\n",
       "        vertical-align: top;\n",
       "    }\n",
       "\n",
       "    .dataframe thead th {\n",
       "        text-align: right;\n",
       "    }\n",
       "</style>\n",
       "<table border=\"1\" class=\"dataframe\">\n",
       "  <thead>\n",
       "    <tr style=\"text-align: right;\">\n",
       "      <th></th>\n",
       "      <th>Unnamed: 0</th>\n",
       "      <th>0</th>\n",
       "      <th>Burden sharing</th>\n",
       "    </tr>\n",
       "  </thead>\n",
       "  <tbody>\n",
       "    <tr>\n",
       "      <th>0</th>\n",
       "      <td>0</td>\n",
       "      <td>3.673463</td>\n",
       "      <td>GF</td>\n",
       "    </tr>\n",
       "    <tr>\n",
       "      <th>0</th>\n",
       "      <td>0</td>\n",
       "      <td>3.673463</td>\n",
       "      <td>IEPC</td>\n",
       "    </tr>\n",
       "    <tr>\n",
       "      <th>0</th>\n",
       "      <td>0</td>\n",
       "      <td>3.673463</td>\n",
       "      <td>PCC</td>\n",
       "    </tr>\n",
       "    <tr>\n",
       "      <th>0</th>\n",
       "      <td>0</td>\n",
       "      <td>3.673463</td>\n",
       "      <td>AP</td>\n",
       "    </tr>\n",
       "    <tr>\n",
       "      <th>0</th>\n",
       "      <td>0</td>\n",
       "      <td>3.673463</td>\n",
       "      <td>GDR</td>\n",
       "    </tr>\n",
       "    <tr>\n",
       "      <th>0</th>\n",
       "      <td>0</td>\n",
       "      <td>3.673463</td>\n",
       "      <td>none</td>\n",
       "    </tr>\n",
       "  </tbody>\n",
       "</table>\n",
       "</div>"
      ],
      "text/plain": [
       "   Unnamed: 0         0 Burden sharing\n",
       "0           0  3.673463             GF\n",
       "0           0  3.673463           IEPC\n",
       "0           0  3.673463            PCC\n",
       "0           0  3.673463             AP\n",
       "0           0  3.673463            GDR\n",
       "0           0  3.673463           none"
      ]
     },
     "execution_count": 13,
     "metadata": {},
     "output_type": "execute_result"
    }
   ],
   "source": [
    "CBRs2100 = [CBR_global_GF, CBR_global_IEPC, CBR_global_PCC, CBR_global_AP, CBR_global_GDR, CBR_global_mit]\n",
    "CBRs2100 = pd.concat(CBRs2100, axis =0)\n",
    "CBRs2100"
   ]
  },
  {
   "cell_type": "code",
   "execution_count": 14,
   "id": "bca5b30a",
   "metadata": {},
   "outputs": [],
   "source": [
    "CBR_global_AP = pd.read_csv(\"CBR_global_mit_AP2150.csv\")\n",
    "CBR_global_AP ['Burden sharing'] = \"AP\"\n",
    "CBR_global_GF = pd.read_csv(\"CBR_global_mit_GF2150.csv\")\n",
    "CBR_global_GF ['Burden sharing'] = \"GF\"\n",
    "CBR_global_IEPC = pd.read_csv(\"CBR_global_mit_IEPC2150.csv\")\n",
    "CBR_global_IEPC ['Burden sharing'] = \"IEPC\"\n",
    "CBR_global_PCC = pd.read_csv(\"CBR_global_mit_PPC2150.csv\")\n",
    "CBR_global_PCC ['Burden sharing'] = \"PCC\"\n",
    "CBR_global_GDR = pd.read_csv(\"CBR_global_mit_GDR2150.csv\")\n",
    "CBR_global_GDR ['Burden sharing'] = \"GDR\"\n",
    "CBR_global_mit = pd.read_csv(\"CBR_global_mit.csv\")\n",
    "CBR_global_mit ['Burden sharing'] = \"none\""
   ]
  },
  {
   "cell_type": "code",
   "execution_count": 15,
   "id": "5d2b33c5",
   "metadata": {},
   "outputs": [
    {
     "data": {
      "text/html": [
       "<div>\n",
       "<style scoped>\n",
       "    .dataframe tbody tr th:only-of-type {\n",
       "        vertical-align: middle;\n",
       "    }\n",
       "\n",
       "    .dataframe tbody tr th {\n",
       "        vertical-align: top;\n",
       "    }\n",
       "\n",
       "    .dataframe thead th {\n",
       "        text-align: right;\n",
       "    }\n",
       "</style>\n",
       "<table border=\"1\" class=\"dataframe\">\n",
       "  <thead>\n",
       "    <tr style=\"text-align: right;\">\n",
       "      <th></th>\n",
       "      <th>Unnamed: 0</th>\n",
       "      <th>0</th>\n",
       "      <th>Burden sharing</th>\n",
       "    </tr>\n",
       "  </thead>\n",
       "  <tbody>\n",
       "    <tr>\n",
       "      <th>0</th>\n",
       "      <td>0</td>\n",
       "      <td>9.554703</td>\n",
       "      <td>GF</td>\n",
       "    </tr>\n",
       "    <tr>\n",
       "      <th>0</th>\n",
       "      <td>0</td>\n",
       "      <td>9.554703</td>\n",
       "      <td>IEPC</td>\n",
       "    </tr>\n",
       "    <tr>\n",
       "      <th>0</th>\n",
       "      <td>0</td>\n",
       "      <td>9.554703</td>\n",
       "      <td>PCC</td>\n",
       "    </tr>\n",
       "    <tr>\n",
       "      <th>0</th>\n",
       "      <td>0</td>\n",
       "      <td>17.253607</td>\n",
       "      <td>AP</td>\n",
       "    </tr>\n",
       "    <tr>\n",
       "      <th>0</th>\n",
       "      <td>0</td>\n",
       "      <td>9.554703</td>\n",
       "      <td>GDR</td>\n",
       "    </tr>\n",
       "    <tr>\n",
       "      <th>0</th>\n",
       "      <td>0</td>\n",
       "      <td>9.554703</td>\n",
       "      <td>none</td>\n",
       "    </tr>\n",
       "  </tbody>\n",
       "</table>\n",
       "</div>"
      ],
      "text/plain": [
       "   Unnamed: 0          0 Burden sharing\n",
       "0           0   9.554703             GF\n",
       "0           0   9.554703           IEPC\n",
       "0           0   9.554703            PCC\n",
       "0           0  17.253607             AP\n",
       "0           0   9.554703            GDR\n",
       "0           0   9.554703           none"
      ]
     },
     "execution_count": 15,
     "metadata": {},
     "output_type": "execute_result"
    }
   ],
   "source": [
    "CBRs2150 = [CBR_global_GF, CBR_global_IEPC, CBR_global_PCC, CBR_global_AP, CBR_global_GDR, CBR_global_mit]\n",
    "CBRs2150 = pd.concat(CBRs2150, axis =0)\n",
    "CBRs2150"
   ]
  }
 ],
 "metadata": {
  "kernelspec": {
   "display_name": "Python 3 (ipykernel)",
   "language": "python",
   "name": "python3"
  },
  "language_info": {
   "codemirror_mode": {
    "name": "ipython",
    "version": 3
   },
   "file_extension": ".py",
   "mimetype": "text/x-python",
   "name": "python",
   "nbconvert_exporter": "python",
   "pygments_lexer": "ipython3",
   "version": "3.9.13"
  }
 },
 "nbformat": 4,
 "nbformat_minor": 5
}
